{
 "cells": [
  {
   "cell_type": "markdown",
   "id": "806b9ab3-448b-454a-ad09-ddca29e84acc",
   "metadata": {},
   "source": [
    "## Customer and Sales Analysis"
   ]
  },
  {
   "cell_type": "code",
   "execution_count": 1,
   "id": "0a7ad589-47eb-4280-96e0-401bb1935714",
   "metadata": {},
   "outputs": [],
   "source": [
    "#import libraries\n",
    "import pandas as pd\n",
    "import numpy as np\n",
    "from scipy.stats import ttest_ind, f_oneway, f"
   ]
  },
  {
   "cell_type": "markdown",
   "id": "be313b71-b8d9-4db8-8651-429763d0f38f",
   "metadata": {},
   "source": [
    "### Data Preparation:\n",
    "Load data from customer.csv and sales.csv into pandas data frames.<br>\n",
    "Convert the 'date' column in both datasets to pandas datetime objects for analysis."
   ]
  },
  {
   "cell_type": "code",
   "execution_count": 2,
   "id": "8ca6775e-bafa-431f-893e-2f37743c6c5b",
   "metadata": {},
   "outputs": [],
   "source": [
    "#load customer feedback data\n",
    "df_feedback = pd.read_csv (\"customer.csv\")"
   ]
  },
  {
   "cell_type": "code",
   "execution_count": 3,
   "id": "0be5963a-01d1-42cf-bca3-08cf42516039",
   "metadata": {},
   "outputs": [
    {
     "data": {
      "text/plain": [
       "(500, 3)"
      ]
     },
     "execution_count": 3,
     "metadata": {},
     "output_type": "execute_result"
    }
   ],
   "source": [
    "# check the shape of the df\n",
    "df_feedback.shape"
   ]
  },
  {
   "cell_type": "code",
   "execution_count": 4,
   "id": "ddd3b146-1176-4ca2-9020-bb5bed3c37d2",
   "metadata": {},
   "outputs": [
    {
     "data": {
      "text/html": [
       "<div>\n",
       "<style scoped>\n",
       "    .dataframe tbody tr th:only-of-type {\n",
       "        vertical-align: middle;\n",
       "    }\n",
       "\n",
       "    .dataframe tbody tr th {\n",
       "        vertical-align: top;\n",
       "    }\n",
       "\n",
       "    .dataframe thead th {\n",
       "        text-align: right;\n",
       "    }\n",
       "</style>\n",
       "<table border=\"1\" class=\"dataframe\">\n",
       "  <thead>\n",
       "    <tr style=\"text-align: right;\">\n",
       "      <th></th>\n",
       "      <th>date</th>\n",
       "      <th>product</th>\n",
       "      <th>feedback_score</th>\n",
       "    </tr>\n",
       "  </thead>\n",
       "  <tbody>\n",
       "    <tr>\n",
       "      <th>0</th>\n",
       "      <td>2023-02-22</td>\n",
       "      <td>iOS</td>\n",
       "      <td>5</td>\n",
       "    </tr>\n",
       "    <tr>\n",
       "      <th>1</th>\n",
       "      <td>2023-05-22</td>\n",
       "      <td>Android</td>\n",
       "      <td>2</td>\n",
       "    </tr>\n",
       "    <tr>\n",
       "      <th>2</th>\n",
       "      <td>2022-11-22</td>\n",
       "      <td>iOS</td>\n",
       "      <td>2</td>\n",
       "    </tr>\n",
       "    <tr>\n",
       "      <th>3</th>\n",
       "      <td>2022-11-26</td>\n",
       "      <td>Android</td>\n",
       "      <td>10</td>\n",
       "    </tr>\n",
       "    <tr>\n",
       "      <th>4</th>\n",
       "      <td>2023-04-26</td>\n",
       "      <td>iOS</td>\n",
       "      <td>1</td>\n",
       "    </tr>\n",
       "  </tbody>\n",
       "</table>\n",
       "</div>"
      ],
      "text/plain": [
       "         date  product  feedback_score\n",
       "0  2023-02-22      iOS               5\n",
       "1  2023-05-22  Android               2\n",
       "2  2022-11-22      iOS               2\n",
       "3  2022-11-26  Android              10\n",
       "4  2023-04-26      iOS               1"
      ]
     },
     "execution_count": 4,
     "metadata": {},
     "output_type": "execute_result"
    }
   ],
   "source": [
    "# review dataframe\n",
    "df_feedback.head()"
   ]
  },
  {
   "cell_type": "code",
   "execution_count": 5,
   "id": "57226507-e451-42d6-a163-67bcade4443c",
   "metadata": {},
   "outputs": [],
   "source": [
    "#load sales data\n",
    "df_sales = pd.read_csv(\"sales.csv\")"
   ]
  },
  {
   "cell_type": "code",
   "execution_count": 6,
   "id": "6b6eb81b-484a-4089-9cdb-d7c9e2430161",
   "metadata": {},
   "outputs": [
    {
     "data": {
      "text/plain": [
       "(500, 3)"
      ]
     },
     "execution_count": 6,
     "metadata": {},
     "output_type": "execute_result"
    }
   ],
   "source": [
    "# check the shape of the df\n",
    "df_sales.shape"
   ]
  },
  {
   "cell_type": "code",
   "execution_count": 7,
   "id": "210736dc-a62c-4bc4-bc8a-a7cd651981c7",
   "metadata": {},
   "outputs": [
    {
     "data": {
      "text/html": [
       "<div>\n",
       "<style scoped>\n",
       "    .dataframe tbody tr th:only-of-type {\n",
       "        vertical-align: middle;\n",
       "    }\n",
       "\n",
       "    .dataframe tbody tr th {\n",
       "        vertical-align: top;\n",
       "    }\n",
       "\n",
       "    .dataframe thead th {\n",
       "        text-align: right;\n",
       "    }\n",
       "</style>\n",
       "<table border=\"1\" class=\"dataframe\">\n",
       "  <thead>\n",
       "    <tr style=\"text-align: right;\">\n",
       "      <th></th>\n",
       "      <th>date</th>\n",
       "      <th>product</th>\n",
       "      <th>sales</th>\n",
       "    </tr>\n",
       "  </thead>\n",
       "  <tbody>\n",
       "    <tr>\n",
       "      <th>0</th>\n",
       "      <td>2022-12-12</td>\n",
       "      <td>iOS</td>\n",
       "      <td>473</td>\n",
       "    </tr>\n",
       "    <tr>\n",
       "      <th>1</th>\n",
       "      <td>2022-12-12</td>\n",
       "      <td>Android</td>\n",
       "      <td>919</td>\n",
       "    </tr>\n",
       "    <tr>\n",
       "      <th>2</th>\n",
       "      <td>2023-06-24</td>\n",
       "      <td>iOS</td>\n",
       "      <td>805</td>\n",
       "    </tr>\n",
       "    <tr>\n",
       "      <th>3</th>\n",
       "      <td>2023-06-24</td>\n",
       "      <td>Android</td>\n",
       "      <td>996</td>\n",
       "    </tr>\n",
       "    <tr>\n",
       "      <th>4</th>\n",
       "      <td>2023-10-20</td>\n",
       "      <td>iOS</td>\n",
       "      <td>792</td>\n",
       "    </tr>\n",
       "  </tbody>\n",
       "</table>\n",
       "</div>"
      ],
      "text/plain": [
       "         date  product  sales\n",
       "0  2022-12-12      iOS    473\n",
       "1  2022-12-12  Android    919\n",
       "2  2023-06-24      iOS    805\n",
       "3  2023-06-24  Android    996\n",
       "4  2023-10-20      iOS    792"
      ]
     },
     "execution_count": 7,
     "metadata": {},
     "output_type": "execute_result"
    }
   ],
   "source": [
    "#review dateframe\n",
    "df_sales.head()"
   ]
  },
  {
   "cell_type": "code",
   "execution_count": 8,
   "id": "12bbd80c-5715-4bc8-938d-1584d555094f",
   "metadata": {},
   "outputs": [],
   "source": [
    "#convert date column to pandas datetime object\n",
    "df_feedback[\"date\"] = pd.to_datetime(df_feedback[\"date\"])"
   ]
  },
  {
   "cell_type": "code",
   "execution_count": 9,
   "id": "23d33bbd-a215-40c2-8af5-9ee6d3f2ee65",
   "metadata": {},
   "outputs": [],
   "source": [
    "#convert date column to pandas datetime object\n",
    "df_sales[\"date\"] = pd.to_datetime(df_sales[\"date\"])"
   ]
  },
  {
   "cell_type": "code",
   "execution_count": 10,
   "id": "f2cc099e-a1fc-488e-ac19-be8c150779d7",
   "metadata": {},
   "outputs": [
    {
     "data": {
      "text/plain": [
       "date              datetime64[ns]\n",
       "product                   object\n",
       "feedback_score             int64\n",
       "dtype: object"
      ]
     },
     "execution_count": 10,
     "metadata": {},
     "output_type": "execute_result"
    }
   ],
   "source": [
    "#confirm data types\n",
    "df_feedback.dtypes"
   ]
  },
  {
   "cell_type": "code",
   "execution_count": 11,
   "id": "d63cf57c-2a07-452f-9a2a-a861b8287e4c",
   "metadata": {},
   "outputs": [
    {
     "data": {
      "text/plain": [
       "date       datetime64[ns]\n",
       "product            object\n",
       "sales               int64\n",
       "dtype: object"
      ]
     },
     "execution_count": 11,
     "metadata": {},
     "output_type": "execute_result"
    }
   ],
   "source": [
    "#confirm data types \n",
    "df_sales.dtypes"
   ]
  },
  {
   "cell_type": "code",
   "execution_count": 12,
   "id": "d39c516d-2a9a-4f83-bb14-ece58644fbec",
   "metadata": {},
   "outputs": [],
   "source": [
    "#utility function to check equal variance when samples are uneven\n",
    "def check_equal_variance(sample1, sample2):\n",
    "    # Calculate variances\n",
    "    variance1 = np.var(sample1, ddof=1)\n",
    "    variance2 = np.var(sample2, ddof=1)\n",
    "\n",
    "    # Calculate the F-statistic\n",
    "    if variance1 > variance2:\n",
    "        F = variance1 / variance2\n",
    "        dfn = len(sample1) - 1  # degrees of freedom numerator\n",
    "        dfd = len(sample2) - 1  # degrees of freedom denominator\n",
    "    else:\n",
    "        F = variance2 / variance1\n",
    "        dfn = len(sample2) - 1\n",
    "        dfd = len(sample1) - 1\n",
    "\n",
    "    # Calculate the p-value\n",
    "    p_value = 2 * min(f.cdf(F, dfn, dfd), 1 - f.cdf(F, dfn, dfd))\n",
    "\n",
    "    # Interpret the result\n",
    "    alpha = 0.05\n",
    "    if p_value < alpha:\n",
    "        return False\n",
    "    else:\n",
    "        return True"
   ]
  },
  {
   "cell_type": "markdown",
   "id": "7e81cdfe-4097-4f57-8ec6-822e82598bcb",
   "metadata": {},
   "source": [
    "### Customer Feedback Analysis"
   ]
  },
  {
   "cell_type": "code",
   "execution_count": 13,
   "id": "d21abc2f-5bab-4910-bb67-5f76d2afa14f",
   "metadata": {},
   "outputs": [],
   "source": [
    "def feedback_analysis(df_feedback):\n",
    "    # Filter data for iOS and Android\n",
    "    ios_feedback = df_feedback[df_feedback[\"product\"] == \"iOS\"]\n",
    "    android_feedback = df_feedback[df_feedback[\"product\"] == \"Android\"]\n",
    "    \n",
    "    # Extract the satisfaction scores\n",
    "    ios_scores = ios_feedback[\"feedback_score\"].values\n",
    "    android_scores = android_feedback[\"feedback_score\"].values\n",
    "    \n",
    "    # Combine into a 2-dimensional array\n",
    "    feedback_scores_2d = np.array([ios_scores, android_scores])\n",
    "\n",
    "    # Determine Equal Variance by testing if (the Larger Stand Deviation / the smaller Standard Deviation) > 2\n",
    "    # Assume equal variance unless (the Larger Stand Deviation / the smaller Standard Deviation) > 2\n",
    "    EqualVar = True\n",
    "    \n",
    "    if feedback_scores_2d[0].std() > feedback_scores_2d[1].std():\n",
    "        if (feedback_scores_2d[0].std() / feedback_scores_2d[1].std()) > 2:\n",
    "            EqualVar = False\n",
    "    else:\n",
    "        if (feedback_scores_2d[1].std() / feedback_scores_2d[0].std()) > 2:\n",
    "            EqualVar = False\n",
    "\n",
    "    # Obtain T-Stat and Pvalue\n",
    "    SampleT = ttest_ind(feedback_scores_2d[0], feedback_scores_2d[1], equal_var=EqualVar) \n",
    "\n",
    "    #Assign T-Stat and Pvalue\n",
    "    statistic = SampleT.statistic\n",
    "    p_val = SampleT.pvalue\n",
    "    #Return statistic and pvalue\n",
    "    return statistic, p_val"
   ]
  },
  {
   "cell_type": "code",
   "execution_count": 14,
   "id": "67794bdf-ae6a-4d5e-b89e-317598c848d3",
   "metadata": {},
   "outputs": [
    {
     "name": "stdout",
     "output_type": "stream",
     "text": [
      "Statistic: 1.9033888211703986\n"
     ]
    }
   ],
   "source": [
    "#print return value for statistic\n",
    "statistic = feedback_analysis(df_feedback)[0]\n",
    "print(f\"Statistic: {statistic}\")"
   ]
  },
  {
   "cell_type": "code",
   "execution_count": 15,
   "id": "2dbf1129-4e38-443e-aeca-5fb4d4f3e572",
   "metadata": {},
   "outputs": [
    {
     "name": "stdout",
     "output_type": "stream",
     "text": [
      "p_value: 0.05756609365982318\n"
     ]
    }
   ],
   "source": [
    "#print return value for p_value\n",
    "p_value = feedback_analysis(df_feedback)[1]\n",
    "print(f\"p_value: {p_value}\")"
   ]
  },
  {
   "cell_type": "code",
   "execution_count": 16,
   "id": "3aa1606d-24fc-437e-9516-e7621aafe278",
   "metadata": {},
   "outputs": [
    {
     "name": "stdout",
     "output_type": "stream",
     "text": [
      "The difference in average satisfaction between iOS and Android is not statistically significant.\n"
     ]
    }
   ],
   "source": [
    "# confirm if difference is statistically significant\n",
    "if p_value < 0.05:\n",
    "    print(\"The difference in average satisfaction between iOS and Android is statistically significant.\")\n",
    "else:\n",
    "    print(\"The difference in average satisfaction between iOS and Android is not statistically significant.\")"
   ]
  },
  {
   "cell_type": "code",
   "execution_count": null,
   "id": "9a39d35a-2f24-41cc-b521-4808df71abcb",
   "metadata": {},
   "outputs": [],
   "source": []
  },
  {
   "cell_type": "markdown",
   "id": "365e2461-b34e-4c4b-8fc0-fe9f40defac6",
   "metadata": {},
   "source": [
    "#### Interpreting The Results\n",
    "\n",
    "Based on the data provided and the hypothesis testing if there's a significant difference in average customer satisfaction between the iOS and Android groups, I determined that an Independent Two-Tail T-Test was appropriate for this situation. I selected the following because iOS and Android users are independent groups, and my decision for Two Tail was because we are checking for any difference without a specified direction. After performing the test, I determined that the difference in average satisfaction between iOS and Android is not statistically significant since the p_value 0.057 is greater than 0.05."
   ]
  },
  {
   "cell_type": "code",
   "execution_count": null,
   "id": "725f507a-e32b-46bf-a084-47819fe2478b",
   "metadata": {},
   "outputs": [],
   "source": []
  },
  {
   "cell_type": "markdown",
   "id": "a71a47cb-6a4a-4a82-9eea-f0d17b1be987",
   "metadata": {},
   "source": [
    "### Sales Performance Analysis"
   ]
  },
  {
   "cell_type": "code",
   "execution_count": 17,
   "id": "31049ffc-faa1-4414-a96b-89b30dea4cbb",
   "metadata": {},
   "outputs": [],
   "source": [
    "def sales_analysis(df_sales): \n",
    "    #convert campaign dates to pandas datetime object\n",
    "    campaign_start = pd.to_datetime(\"2023-03-01\")\n",
    "    campaign_end = pd.to_datetime(\"2023-03-31\")\n",
    "\n",
    "    # filter df for sales before and after\n",
    "    sales_before = df_sales[df_sales['date'] < campaign_start]\n",
    "    sales_after = df_sales[df_sales['date'] > campaign_end]\n",
    "\n",
    "    # check equal variance\n",
    "    equal_variance = check_equal_variance(sales_before['sales'], sales_after['sales'])\n",
    "\n",
    "    # Obtain T-Stat and Pvalue\n",
    "    SampleT = ttest_ind(sales_before['sales'], sales_after['sales'], equal_var=equal_variance)\n",
    "\n",
    "    #Assign T-Stat and Pvalue\n",
    "    statistic = SampleT.statistic\n",
    "    p_val = SampleT.pvalue\n",
    "\n",
    "    #Return statistic and pvalue\n",
    "    return statistic, p_val"
   ]
  },
  {
   "cell_type": "code",
   "execution_count": 18,
   "id": "1b20ec98-70ad-48d8-8a24-c3b9d24cb1dc",
   "metadata": {},
   "outputs": [
    {
     "name": "stdout",
     "output_type": "stream",
     "text": [
      "Statistic: 0.17298529520949715\n"
     ]
    }
   ],
   "source": [
    "#print return value for statistic\n",
    "statistic = sales_analysis(df_sales)[0]\n",
    "print(f\"Statistic: {statistic}\")"
   ]
  },
  {
   "cell_type": "code",
   "execution_count": 19,
   "id": "2e76a54f-fc1c-4fce-9e50-69a97509f3ab",
   "metadata": {},
   "outputs": [
    {
     "name": "stdout",
     "output_type": "stream",
     "text": [
      "p_value: 0.862739406552252\n"
     ]
    }
   ],
   "source": [
    "#print return value for p_value\n",
    "p_value = sales_analysis(df_sales)[1]\n",
    "print(f\"p_value: {p_value}\")"
   ]
  },
  {
   "cell_type": "code",
   "execution_count": 20,
   "id": "b400510b-776d-435d-a84b-9f5f16e84d43",
   "metadata": {},
   "outputs": [
    {
     "name": "stdout",
     "output_type": "stream",
     "text": [
      "The difference in average sales before and after the marketing campaign is not statistically significant.\n"
     ]
    }
   ],
   "source": [
    "# confirm if difference is statistically significant\n",
    "if p_value < 0.05:\n",
    "    print(\"The difference in average sales before and after the marketing campaign is statistically significant.\")\n",
    "else:\n",
    "    print(\"The difference in average sales before and after the marketing campaign is not statistically significant.\")"
   ]
  },
  {
   "cell_type": "code",
   "execution_count": null,
   "id": "7b0be816-3c96-4d11-8e27-4848c5559eb7",
   "metadata": {},
   "outputs": [],
   "source": []
  },
  {
   "cell_type": "markdown",
   "id": "e74c236a-61ed-42c7-b8c2-a0d39d3336d9",
   "metadata": {},
   "source": [
    "#### Interpreting The Results\n",
    "\n",
    "Based on the data provided and the hypothesis to test a marketing campaign's impact on sales, I determined that an Independent Two-Tail T-Test was appropriate for this situation. In this case, sales data before and after the campaign are from different periods and are not paired. In addition, my decision for Two Tail was because we checked for any difference without a specified direction. After performing the test, I determined that the difference in average sales before and after the marketing campaign is not statistically significant since the p_value 0.86 is greater than 0.05."
   ]
  },
  {
   "cell_type": "code",
   "execution_count": null,
   "id": "74d6d076-a014-4a43-a1cf-5ab1b60d4501",
   "metadata": {},
   "outputs": [],
   "source": []
  },
  {
   "cell_type": "markdown",
   "id": "5e58e55f-4c68-44dd-a24e-f0598d944e52",
   "metadata": {},
   "source": [
    "### Seasonal Sales Analysis"
   ]
  },
  {
   "cell_type": "code",
   "execution_count": 21,
   "id": "d5f4a37b-79b0-4502-ae3e-59ccc24c5320",
   "metadata": {},
   "outputs": [],
   "source": [
    "def seasonal_analysis(df_sales): \n",
    "    #define seasonal differences\n",
    "    summer_months = [6, 7, 8]\n",
    "    winter_months = [12, 1, 2]\n",
    "\n",
    "    # Filter data for summer and winter\n",
    "    sales_summer = df_sales[df_sales['date'].dt.month.isin(summer_months)]\n",
    "    sales_winter = df_sales[df_sales['date'].dt.month.isin(winter_months)]\n",
    "\n",
    "    #check equal variance\n",
    "    equal_variance = check_equal_variance(sales_summer['sales'], sales_winter['sales'])\n",
    "\n",
    "    # Obtain T-Stat and Pvalue\n",
    "    SampleT = ttest_ind(sales_summer['sales'], sales_winter['sales'], equal_var=equal_variance)\n",
    "\n",
    "    #Assign T-Stat and Pvalue\n",
    "    statistic = SampleT.statistic\n",
    "    p_val = SampleT.pvalue\n",
    "\n",
    "    #Return statistic and pvalue\n",
    "    return statistic, p_val"
   ]
  },
  {
   "cell_type": "code",
   "execution_count": 22,
   "id": "cdc40afa-70a8-47bc-baaf-4c415c6b626b",
   "metadata": {},
   "outputs": [
    {
     "name": "stdout",
     "output_type": "stream",
     "text": [
      "Statistic: 0.09927308556714513\n"
     ]
    }
   ],
   "source": [
    "#print return value for statistic\n",
    "statistic = seasonal_analysis(df_sales)[0]\n",
    "print(f\"Statistic: {statistic}\")"
   ]
  },
  {
   "cell_type": "code",
   "execution_count": 23,
   "id": "02d37125-6054-49dd-b2a2-47952fc4ae85",
   "metadata": {},
   "outputs": [
    {
     "name": "stdout",
     "output_type": "stream",
     "text": [
      "p_value: 0.9209991394112975\n"
     ]
    }
   ],
   "source": [
    "#print return value for p_value\n",
    "p_value = seasonal_analysis(df_sales)[1]\n",
    "print(f\"p_value: {p_value}\")"
   ]
  },
  {
   "cell_type": "code",
   "execution_count": 24,
   "id": "396a669f-98bc-422f-b906-7677d2a0a59b",
   "metadata": {},
   "outputs": [
    {
     "name": "stdout",
     "output_type": "stream",
     "text": [
      "The difference in average sales between summer and winter is not statistically significant.\n"
     ]
    }
   ],
   "source": [
    "# confirm if difference is statistically significant\n",
    "if p_value < 0.05:\n",
    "    print(\"The difference in average sales between summer and winter is statistically significant.\")\n",
    "else:\n",
    "    print(\"The difference in average sales between summer and winter is not statistically significant.\")"
   ]
  },
  {
   "cell_type": "code",
   "execution_count": null,
   "id": "16e276b8-682e-440c-8256-d208ce2e633d",
   "metadata": {},
   "outputs": [],
   "source": []
  },
  {
   "cell_type": "markdown",
   "id": "2d51fbcc-b257-4764-b99d-bddf1c8915b3",
   "metadata": {},
   "source": [
    "#### Interpreting The Results\n",
    "\n",
    "Based on the data provided and the hypothesis to test differences in sales between summer and winter, I determined that an Independent Two-Tail T-Test was appropriate for this situation. In this case, sales data between summer and winter are from different periods and are not paired. In addition, my decision for Two Tail was because we checked for any difference without a specified direction. After performing the test, I determined that the difference in average sales between summer and winter is not statistically significant since the p_value 0.92 is greater than 0.05."
   ]
  },
  {
   "cell_type": "code",
   "execution_count": null,
   "id": "c1bffd4b-a497-46a0-926d-e31e3fbb4c3d",
   "metadata": {},
   "outputs": [],
   "source": []
  },
  {
   "cell_type": "markdown",
   "id": "1dec9156-d5f1-4dcc-adb5-21d8fbdc670a",
   "metadata": {},
   "source": [
    "### Feedback Consistency Analysis"
   ]
  },
  {
   "cell_type": "code",
   "execution_count": 25,
   "id": "79dae675-5e53-410e-b4eb-ca9f59480c76",
   "metadata": {},
   "outputs": [],
   "source": [
    "def consistency_analysis(df_feedback): \n",
    "    # Define the months to analyze\n",
    "    months_to_analyze = [1, 5, 9, 12]  # January, May, September, December\n",
    "\n",
    "    # Filter data for the specified months\n",
    "    feedback_january = df_feedback[df_feedback['date'].dt.month == 1]['feedback_score']\n",
    "    feedback_may = df_feedback[df_feedback['date'].dt.month == 5]['feedback_score']\n",
    "    feedback_september = df_feedback[df_feedback['date'].dt.month == 9]['feedback_score']\n",
    "    feedback_december = df_feedback[df_feedback['date'].dt.month == 12]['feedback_score']\n",
    "\n",
    "    # Perform one-way ANOVA\n",
    "    anova_result = f_oneway(feedback_january, feedback_may, feedback_september, feedback_december)\n",
    "\n",
    "    # Extract the F-statistic and p-value\n",
    "    statistic = anova_result.statistic\n",
    "    p_val = anova_result.pvalue\n",
    "    \n",
    "    #Return statistic and pvalue\n",
    "    return statistic, p_val"
   ]
  },
  {
   "cell_type": "code",
   "execution_count": 26,
   "id": "3713360b-4e2f-4436-b445-21eed87e3dbd",
   "metadata": {},
   "outputs": [
    {
     "name": "stdout",
     "output_type": "stream",
     "text": [
      "Statistic: 0.3146823675455494\n"
     ]
    }
   ],
   "source": [
    "#print return value for statistic\n",
    "statistic = consistency_analysis(df_feedback)[0]\n",
    "print(f\"Statistic: {statistic}\")"
   ]
  },
  {
   "cell_type": "code",
   "execution_count": 27,
   "id": "1b14e899-bd56-422e-8959-fd55ea2fa6d7",
   "metadata": {},
   "outputs": [
    {
     "name": "stdout",
     "output_type": "stream",
     "text": [
      "p_value: 0.8147473590881886\n"
     ]
    }
   ],
   "source": [
    "#print return value for p_value\n",
    "p_value = consistency_analysis(df_feedback)[1]\n",
    "print(f\"p_value: {p_value}\")"
   ]
  },
  {
   "cell_type": "code",
   "execution_count": 28,
   "id": "6b3dd496-a45e-454d-9833-90c4ea29f654",
   "metadata": {},
   "outputs": [
    {
     "name": "stdout",
     "output_type": "stream",
     "text": [
      "The differences in monthly feedback scores are not statistically significant.\n"
     ]
    }
   ],
   "source": [
    "# confirm if difference is statistically significant\n",
    "if p_value < 0.05:\n",
    "    print(\"The differences in monthly feedback scores are statistically significant.\")\n",
    "else:\n",
    "    print(\"The differences in monthly feedback scores are not statistically significant.\")"
   ]
  },
  {
   "cell_type": "code",
   "execution_count": null,
   "id": "3a5a047a-dfc2-40b4-9f32-d4590faa1f66",
   "metadata": {},
   "outputs": [],
   "source": []
  },
  {
   "cell_type": "markdown",
   "id": "1e3569b0-c26b-4ad6-bbf9-bd7018df480c",
   "metadata": {},
   "source": [
    "#### Interpreting The Results\n",
    "\n",
    "Based on the data provided and the hypothesis to assess if monthly feedback scores are consistent across January, May, September, and December, as instructed, I used one-way ANOVA to test significant differences in feedback scores across these months. After performing the test, I determined that the difference in monthly feedback scores is not statistically significant since the p_value 0.81 is greater than 0.05."
   ]
  },
  {
   "cell_type": "code",
   "execution_count": null,
   "id": "5249f947-5f4a-4ec0-87cf-9a1c145dba65",
   "metadata": {},
   "outputs": [],
   "source": []
  },
  {
   "cell_type": "markdown",
   "id": "8d17ce74-555e-46e3-bb41-94b87f6bff6f",
   "metadata": {},
   "source": [
    "### Sales and Feedback Correlation Analysis"
   ]
  },
  {
   "cell_type": "code",
   "execution_count": 29,
   "id": "cc832387-9da8-45eb-a0b2-13110ba5b0af",
   "metadata": {},
   "outputs": [],
   "source": [
    "def corr_analysis(df_feedback, df_sales): \n",
    "    # convert date column to months for df_feedback and df_sales\n",
    "    df_feedback[\"month\"] = df_feedback[\"date\"].dt.to_period('M')\n",
    "    df_sales['month'] = df_sales['date'].dt.to_period('M')\n",
    "    \n",
    "    # aggregate feedback scores by month\n",
    "    monthly_feedback = df_feedback.groupby('month')['feedback_score'].mean().reset_index()\n",
    "    \n",
    "    #determine high and low feedback months based on the median\n",
    "    median_feedback = monthly_feedback['feedback_score'].median()\n",
    "    monthly_feedback['feedback_category'] = monthly_feedback['feedback_score'].apply(lambda x: 'High' if x >= median_feedback else 'Low')\n",
    "    \n",
    "    # merge sales data with monthly feedback\n",
    "    merged_data = pd.merge(df_sales, monthly_feedback, on='month')\n",
    "\n",
    "    # Filter sales data based on feedback category\n",
    "    sales_high_feedback = merged_data[merged_data['feedback_category'] == 'High']['sales']\n",
    "    sales_low_feedback = merged_data[merged_data['feedback_category'] == 'Low']['sales']\n",
    "\n",
    "    #check equal variance\n",
    "    equal_variance = check_equal_variance(sales_high_feedback, sales_low_feedback)\n",
    "    \n",
    "    #Assign T-Stat and Pvalue\n",
    "    SampleT = ttest_ind(sales_high_feedback, sales_low_feedback, equal_var=equal_variance)\n",
    "\n",
    "    # assign variables for statistic and p_val\n",
    "    statistic = SampleT.statistic\n",
    "    p_val = SampleT.pvalue\n",
    "\n",
    "    #Return statistic and pvalue\n",
    "    return statistic, p_val"
   ]
  },
  {
   "cell_type": "code",
   "execution_count": 30,
   "id": "5cb18654-5b78-4d5b-8be2-25723e330730",
   "metadata": {},
   "outputs": [
    {
     "name": "stdout",
     "output_type": "stream",
     "text": [
      "Statistic: -1.9713630084936649\n"
     ]
    }
   ],
   "source": [
    "#print return value for statistic\n",
    "statistic = corr_analysis(df_feedback, df_sales)[0]\n",
    "print(f\"Statistic: {statistic}\")"
   ]
  },
  {
   "cell_type": "code",
   "execution_count": 31,
   "id": "e6683fde-6ea3-4793-a894-bc5c0ca8d410",
   "metadata": {},
   "outputs": [
    {
     "name": "stdout",
     "output_type": "stream",
     "text": [
      "p_value: 0.04923553477240242\n"
     ]
    }
   ],
   "source": [
    "#print return value for p_value\n",
    "p_value = corr_analysis(df_feedback, df_sales)[1]\n",
    "print(f\"p_value: {p_value}\")"
   ]
  },
  {
   "cell_type": "code",
   "execution_count": 32,
   "id": "dcc7e0d8-bfaf-405a-93a5-0f6daef9f67f",
   "metadata": {},
   "outputs": [
    {
     "name": "stdout",
     "output_type": "stream",
     "text": [
      "The difference in sales between high and low feedback months is statistically significant.\n"
     ]
    }
   ],
   "source": [
    "if p_value < 0.05:\n",
    "    print(\"The difference in sales between high and low feedback months is statistically significant.\")\n",
    "else:\n",
    "    print(\"The difference in sales between high and low feedback months is not statistically significant.\")"
   ]
  },
  {
   "cell_type": "code",
   "execution_count": null,
   "id": "bf6893de-4359-4cf1-befa-2872abbefb60",
   "metadata": {},
   "outputs": [],
   "source": []
  },
  {
   "cell_type": "markdown",
   "id": "b9f1de39-0e4c-403b-a1b8-6fb83f9668a7",
   "metadata": {},
   "source": [
    "#### Interpreting The Results\n",
    "\n",
    "Based on the data provided and the hypothesis to compare sales in months with high vs. low feedback scores, I determined that an Independent Two-Tail T-test was appropriate for this situation. In this case, sales in high feedback months vs sales in low feedback months are independent. In addition, my decision for Two Tail was because we checked for any difference without a specified direction. After performing the test, I determined that the difference in sales between high and low feedback months is statistically significant since the p_value 0.049 is less than 0.05."
   ]
  },
  {
   "cell_type": "code",
   "execution_count": null,
   "id": "d9637bfc-5d43-4f12-b226-6dfac318a3af",
   "metadata": {},
   "outputs": [],
   "source": []
  }
 ],
 "metadata": {
  "kernelspec": {
   "display_name": "Python 3 (ipykernel)",
   "language": "python",
   "name": "python3"
  },
  "language_info": {
   "codemirror_mode": {
    "name": "ipython",
    "version": 3
   },
   "file_extension": ".py",
   "mimetype": "text/x-python",
   "name": "python",
   "nbconvert_exporter": "python",
   "pygments_lexer": "ipython3",
   "version": "3.12.4"
  }
 },
 "nbformat": 4,
 "nbformat_minor": 5
}
