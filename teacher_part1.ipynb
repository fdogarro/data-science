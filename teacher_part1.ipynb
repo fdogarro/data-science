{
 "cells": [
  {
   "cell_type": "markdown",
   "id": "eb1f5fc6",
   "metadata": {},
   "source": [
    "## Teacher Data Analysis Part 1"
   ]
  },
  {
   "cell_type": "code",
   "execution_count": 1,
   "id": "2d718941",
   "metadata": {},
   "outputs": [],
   "source": [
    "#import libraries\n",
    "import mysql.connector as sq\n",
    "\n",
    "mysql_db = sq.connect(host=\"127.0.0.1\", user=\"root\", passwd=\"\", buffered=True)\n",
    "mycursor = mysql_db.cursor()"
   ]
  },
  {
   "cell_type": "code",
   "execution_count": 3,
   "id": "1e62d16f-2f92-4591-854a-7eeed332df30",
   "metadata": {},
   "outputs": [],
   "source": [
    "mycursor.execute(\"SHOW DATABASES\")"
   ]
  },
  {
   "cell_type": "code",
   "execution_count": 4,
   "id": "3d6c6203-71a2-4110-91d2-70d882e385c4",
   "metadata": {},
   "outputs": [
    {
     "name": "stdout",
     "output_type": "stream",
     "text": [
      "('cookies',)\n",
      "('information_schema',)\n",
      "('mysql',)\n",
      "('performance_schema',)\n",
      "('sys',)\n"
     ]
    }
   ],
   "source": [
    "for db in mycursor:\n",
    "    print(db)"
   ]
  },
  {
   "cell_type": "code",
   "execution_count": 6,
   "id": "1ed7dc60-1cd1-45ca-b120-78093f6107d1",
   "metadata": {},
   "outputs": [],
   "source": [
    "mycursor.execute(\"CREATE DATABASE IF NOT EXISTS nj_state_teachers_salaries\")"
   ]
  },
  {
   "cell_type": "code",
   "execution_count": 7,
   "id": "5dd2d22f-17a3-4a40-958d-150db62a6d27",
   "metadata": {},
   "outputs": [],
   "source": [
    "mycursor.execute(\"SHOW DATABASES\")"
   ]
  },
  {
   "cell_type": "code",
   "execution_count": 8,
   "id": "05a54b9b-8201-434b-b532-7923931c2e98",
   "metadata": {},
   "outputs": [
    {
     "name": "stdout",
     "output_type": "stream",
     "text": [
      "('cookies',)\n",
      "('information_schema',)\n",
      "('mysql',)\n",
      "('nj_state_teachers_salaries',)\n",
      "('performance_schema',)\n",
      "('sys',)\n"
     ]
    }
   ],
   "source": [
    "for db in mycursor:\n",
    "    print(db)"
   ]
  },
  {
   "cell_type": "code",
   "execution_count": 9,
   "id": "37f96177-0b16-48a2-8e87-e5db07fdb83d",
   "metadata": {},
   "outputs": [],
   "source": [
    "mycursor.execute(\"CREATE TABLE nj_state_teachers_salaries.teachers_salaries(id INT NOT NULL, last_name VARCHAR(200) NOT NULL, \\\n",
    "first_name VARCHAR(200) NOT NULL, county VARCHAR(200) NOT NULL, district VARCHAR(200) NOT NULL, school VARCHAR(200) NOT NULL, \\\n",
    "primary_job VARCHAR(200) NOT NULL, fte FLOAT NOT NULL, salary VARCHAR(200) NOT NULL, certificate VARCHAR(200) NOT NULL, \\\n",
    "subcategory VARCHAR(200) NOT NULL, teaching_route VARCHAR(200) NOT NULL, highly_qualified VARCHAR(200) NOT NULL, \\\n",
    "experience_district INT NOT NULL, experience_nj INT NOT NULL, experience_total INT NOT NULL, PRIMARY KEY (id))\")"
   ]
  },
  {
   "cell_type": "code",
   "execution_count": 10,
   "id": "cd63411d",
   "metadata": {},
   "outputs": [],
   "source": [
    "mycursor.execute(\"USE nj_state_teachers_salaries\")"
   ]
  },
  {
   "cell_type": "code",
   "execution_count": 11,
   "id": "7fa99b6a-95df-45a6-a1f5-30c8ddca08e7",
   "metadata": {},
   "outputs": [],
   "source": [
    "mycursor.execute(\"SHOW TABLES\")"
   ]
  },
  {
   "cell_type": "code",
   "execution_count": 12,
   "id": "b78e2a16-aef1-4076-ad61-a5ca7c642a05",
   "metadata": {},
   "outputs": [
    {
     "name": "stdout",
     "output_type": "stream",
     "text": [
      "('teachers_salaries',)\n"
     ]
    }
   ],
   "source": [
    "for table in mycursor:\n",
    "    print(table)"
   ]
  },
  {
   "cell_type": "code",
   "execution_count": 13,
   "id": "8cdaafc8",
   "metadata": {},
   "outputs": [],
   "source": [
    "#escaping sql and loading data original\n",
    "\n",
    "SQLCMD = \"LOAD DATA INFILE '/cnf/nj_teachers.csv'\\\n",
    "INTO TABLE nj_state_teachers_salaries.teachers_salaries FIELDS TERMINATED BY ',' \\\n",
    "OPTIONALLY ENCLOSED BY '\\\"' LINES TERMINATED BY '\\\\n' IGNORE 1 ROWS\"\n",
    "\n",
    "mycursor.execute(SQLCMD)"
   ]
  },
  {
   "cell_type": "code",
   "execution_count": 14,
   "id": "b77931f5-7dfb-44ce-9d9b-ff15193b97c5",
   "metadata": {},
   "outputs": [],
   "source": [
    "mysql_db.commit()"
   ]
  },
  {
   "cell_type": "code",
   "execution_count": 15,
   "id": "07007e3e",
   "metadata": {
    "scrolled": true
   },
   "outputs": [
    {
     "name": "stdout",
     "output_type": "stream",
     "text": [
      "Number of rows in teachers_salaries table : 100003\n"
     ]
    }
   ],
   "source": [
    "cmd = \"select count(*) from \\\n",
    "                 nj_state_teachers_salaries.teachers_salaries\"\n",
    "mycursor.execute(cmd)\n",
    "count = mycursor.fetchone()[0]\n",
    "\n",
    "print(f\"Number of rows in teachers_salaries table : {count}\")"
   ]
  },
  {
   "cell_type": "code",
   "execution_count": 16,
   "id": "8b95bbcf",
   "metadata": {},
   "outputs": [
    {
     "name": "stdout",
     "output_type": "stream",
     "text": [
      "Number of columns in teachers_salaries table : 16\n"
     ]
    }
   ],
   "source": [
    "cmd = \"\"\"SELECT COUNT(*) \\\n",
    "                FROM INFORMATION_SCHEMA.COLUMNS \\\n",
    "                WHERE table_schema = 'nj_state_teachers_salaries' \\\n",
    "                AND table_name = 'teachers_salaries'\"\"\"\n",
    "mycursor.execute(cmd)\n",
    "count = mycursor.fetchone()[0]\n",
    "print(f\"Number of columns in teachers_salaries table : {count}\")        "
   ]
  },
  {
   "cell_type": "code",
   "execution_count": null,
   "id": "1edea323-cac4-4f64-b5b8-e03e47ab770c",
   "metadata": {},
   "outputs": [],
   "source": []
  }
 ],
 "metadata": {
  "kernelspec": {
   "display_name": "Python 3 (ipykernel)",
   "language": "python",
   "name": "python3"
  },
  "language_info": {
   "codemirror_mode": {
    "name": "ipython",
    "version": 3
   },
   "file_extension": ".py",
   "mimetype": "text/x-python",
   "name": "python",
   "nbconvert_exporter": "python",
   "pygments_lexer": "ipython3",
   "version": "3.12.4"
  }
 },
 "nbformat": 4,
 "nbformat_minor": 5
}
