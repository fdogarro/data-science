{
 "cells": [
  {
   "cell_type": "markdown",
   "id": "99bb4110-0753-48f1-af9b-fd414c3f68e0",
   "metadata": {},
   "source": [
    "## System Resources Analysis"
   ]
  },
  {
   "cell_type": "code",
   "execution_count": 1,
   "id": "2abb771b",
   "metadata": {},
   "outputs": [],
   "source": [
    "# import necessary python libraries\n",
    "import pandas as pd\n",
    "import numpy as np"
   ]
  },
  {
   "cell_type": "code",
   "execution_count": 2,
   "id": "0b822932-5984-456c-a944-5ab01338cb5f",
   "metadata": {},
   "outputs": [],
   "source": [
    "#define cols and read cpu csv\n",
    "cols = ['Image', 'PID', 'Description', 'Status', 'Threads', 'Average CPU']\n",
    "df_cpu = pd.read_csv(\"cpu.csv\", usecols=cols)"
   ]
  },
  {
   "cell_type": "code",
   "execution_count": 3,
   "id": "07072516-6df5-4338-8b17-23727dd3311c",
   "metadata": {},
   "outputs": [
    {
     "data": {
      "text/plain": [
       "(306, 6)"
      ]
     },
     "execution_count": 3,
     "metadata": {},
     "output_type": "execute_result"
    }
   ],
   "source": [
    "#check shape of df\n",
    "df_cpu.shape"
   ]
  },
  {
   "cell_type": "code",
   "execution_count": 4,
   "id": "c6db463f-4bb1-464d-8bf0-c98024dd1ba8",
   "metadata": {},
   "outputs": [
    {
     "name": "stdout",
     "output_type": "stream",
     "text": [
      "<class 'pandas.core.frame.DataFrame'>\n",
      "RangeIndex: 306 entries, 0 to 305\n",
      "Data columns (total 6 columns):\n",
      " #   Column       Non-Null Count  Dtype  \n",
      "---  ------       --------------  -----  \n",
      " 0   Image        306 non-null    object \n",
      " 1   PID          306 non-null    object \n",
      " 2   Description  290 non-null    object \n",
      " 3   Status       306 non-null    object \n",
      " 4   Threads      306 non-null    object \n",
      " 5   Average CPU  306 non-null    float64\n",
      "dtypes: float64(1), object(5)\n",
      "memory usage: 14.5+ KB\n"
     ]
    }
   ],
   "source": [
    "#check info of df\n",
    "df_cpu.info()"
   ]
  },
  {
   "cell_type": "code",
   "execution_count": 5,
   "id": "fa75e715-b3d1-4fdf-b8f9-d67d2eae2c06",
   "metadata": {},
   "outputs": [],
   "source": [
    "#define cols and read disk csv\n",
    "cols = ['Image', 'PID', 'Total Byte Per Second']\n",
    "df_disk = pd.read_csv(\"disk.csv\", usecols=cols)"
   ]
  },
  {
   "cell_type": "code",
   "execution_count": 6,
   "id": "427802c5-5f37-4f3c-94a0-bcc27d684b5e",
   "metadata": {},
   "outputs": [
    {
     "data": {
      "text/plain": [
       "(14, 3)"
      ]
     },
     "execution_count": 6,
     "metadata": {},
     "output_type": "execute_result"
    }
   ],
   "source": [
    "#check shape of df\n",
    "df_disk.shape"
   ]
  },
  {
   "cell_type": "code",
   "execution_count": 7,
   "id": "ba292b0e-b28e-4810-9840-1c2090f18ca7",
   "metadata": {},
   "outputs": [
    {
     "name": "stdout",
     "output_type": "stream",
     "text": [
      "<class 'pandas.core.frame.DataFrame'>\n",
      "RangeIndex: 14 entries, 0 to 13\n",
      "Data columns (total 3 columns):\n",
      " #   Column                 Non-Null Count  Dtype \n",
      "---  ------                 --------------  ----- \n",
      " 0   Image                  14 non-null     object\n",
      " 1   PID                    14 non-null     int64 \n",
      " 2   Total Byte Per Second  14 non-null     object\n",
      "dtypes: int64(1), object(2)\n",
      "memory usage: 468.0+ bytes\n"
     ]
    }
   ],
   "source": [
    "#check info of df\n",
    "df_disk.info()"
   ]
  },
  {
   "cell_type": "code",
   "execution_count": 8,
   "id": "020c0dee-133a-470e-a204-2ad5dd5b467d",
   "metadata": {},
   "outputs": [],
   "source": [
    "#define cols and read disk csv\n",
    "cols = ['Image', 'PID', 'Working Set KB']\n",
    "df_memory = pd.read_csv(\"memory.csv\", usecols=cols)"
   ]
  },
  {
   "cell_type": "code",
   "execution_count": 9,
   "id": "728f9c8a-6a22-48ff-a6d6-c17d8cd2a4ca",
   "metadata": {},
   "outputs": [
    {
     "data": {
      "text/plain": [
       "(306, 3)"
      ]
     },
     "execution_count": 9,
     "metadata": {},
     "output_type": "execute_result"
    }
   ],
   "source": [
    "#check shape of df\n",
    "df_memory.shape"
   ]
  },
  {
   "cell_type": "code",
   "execution_count": 10,
   "id": "45c76291-a09e-42ab-850c-11b746f1b6c4",
   "metadata": {},
   "outputs": [
    {
     "name": "stdout",
     "output_type": "stream",
     "text": [
      "<class 'pandas.core.frame.DataFrame'>\n",
      "RangeIndex: 306 entries, 0 to 305\n",
      "Data columns (total 3 columns):\n",
      " #   Column          Non-Null Count  Dtype \n",
      "---  ------          --------------  ----- \n",
      " 0   Image           306 non-null    object\n",
      " 1   PID             306 non-null    int64 \n",
      " 2   Working Set KB  306 non-null    object\n",
      "dtypes: int64(1), object(2)\n",
      "memory usage: 7.3+ KB\n"
     ]
    }
   ],
   "source": [
    "#check info of df\n",
    "df_memory.info()"
   ]
  },
  {
   "cell_type": "markdown",
   "id": "20dec275",
   "metadata": {},
   "source": [
    "### Column Cleaning"
   ]
  },
  {
   "cell_type": "code",
   "execution_count": 11,
   "id": "1ca358fe-8c77-4745-b4c0-832f5721c7ac",
   "metadata": {},
   "outputs": [],
   "source": [
    "# create a func to convert all column name to lowercase and change all spaces in column names to underscores\n",
    "def CleanColumnHeading(dfx):\n",
    "    dfx.columns = [x.lower() for x in dfx.columns]\n",
    "    dfx.columns = dfx.columns.str.replace(' ', '_')\n",
    "    return dfx"
   ]
  },
  {
   "cell_type": "code",
   "execution_count": 12,
   "id": "d0392dea-7102-4a1e-baf7-afa87d823ef7",
   "metadata": {},
   "outputs": [
    {
     "data": {
      "text/html": [
       "<div>\n",
       "<style scoped>\n",
       "    .dataframe tbody tr th:only-of-type {\n",
       "        vertical-align: middle;\n",
       "    }\n",
       "\n",
       "    .dataframe tbody tr th {\n",
       "        vertical-align: top;\n",
       "    }\n",
       "\n",
       "    .dataframe thead th {\n",
       "        text-align: right;\n",
       "    }\n",
       "</style>\n",
       "<table border=\"1\" class=\"dataframe\">\n",
       "  <thead>\n",
       "    <tr style=\"text-align: right;\">\n",
       "      <th></th>\n",
       "      <th>Image</th>\n",
       "      <th>PID</th>\n",
       "      <th>Description</th>\n",
       "      <th>Status</th>\n",
       "      <th>Threads</th>\n",
       "      <th>Average CPU</th>\n",
       "    </tr>\n",
       "  </thead>\n",
       "  <tbody>\n",
       "    <tr>\n",
       "      <th>0</th>\n",
       "      <td>Secure System</td>\n",
       "      <td>140</td>\n",
       "      <td>NaN</td>\n",
       "      <td>Suspended</td>\n",
       "      <td>-</td>\n",
       "      <td>0.0</td>\n",
       "    </tr>\n",
       "    <tr>\n",
       "      <th>1</th>\n",
       "      <td>SearchHost.exe</td>\n",
       "      <td>9272</td>\n",
       "      <td>SearchHost</td>\n",
       "      <td>Suspended</td>\n",
       "      <td>68</td>\n",
       "      <td>0.0</td>\n",
       "    </tr>\n",
       "    <tr>\n",
       "      <th>2</th>\n",
       "      <td>LockApp.exe</td>\n",
       "      <td>12784</td>\n",
       "      <td>LockApp.exe</td>\n",
       "      <td>Suspended</td>\n",
       "      <td>16</td>\n",
       "      <td>0.0</td>\n",
       "    </tr>\n",
       "    <tr>\n",
       "      <th>3</th>\n",
       "      <td>AcrobatNotificationClient.exe</td>\n",
       "      <td>18096</td>\n",
       "      <td>AcrobatNotificationClient</td>\n",
       "      <td>Suspended</td>\n",
       "      <td>13</td>\n",
       "      <td>0.0</td>\n",
       "    </tr>\n",
       "    <tr>\n",
       "      <th>4</th>\n",
       "      <td>AdobeNotificationClient.exe</td>\n",
       "      <td>9964</td>\n",
       "      <td>Adobe Notification Client</td>\n",
       "      <td>Suspended</td>\n",
       "      <td>12</td>\n",
       "      <td>0.0</td>\n",
       "    </tr>\n",
       "  </tbody>\n",
       "</table>\n",
       "</div>"
      ],
      "text/plain": [
       "                           Image    PID                Description     Status  \\\n",
       "0                  Secure System    140                        NaN  Suspended   \n",
       "1                 SearchHost.exe   9272                 SearchHost  Suspended   \n",
       "2                    LockApp.exe  12784                LockApp.exe  Suspended   \n",
       "3  AcrobatNotificationClient.exe  18096  AcrobatNotificationClient  Suspended   \n",
       "4    AdobeNotificationClient.exe   9964  Adobe Notification Client  Suspended   \n",
       "\n",
       "  Threads  Average CPU  \n",
       "0       -          0.0  \n",
       "1      68          0.0  \n",
       "2      16          0.0  \n",
       "3      13          0.0  \n",
       "4      12          0.0  "
      ]
     },
     "execution_count": 12,
     "metadata": {},
     "output_type": "execute_result"
    }
   ],
   "source": [
    "df_cpu.head()"
   ]
  },
  {
   "cell_type": "code",
   "execution_count": 13,
   "id": "8db8ed38-5f06-4364-a146-825c01ea270e",
   "metadata": {},
   "outputs": [
    {
     "data": {
      "text/html": [
       "<div>\n",
       "<style scoped>\n",
       "    .dataframe tbody tr th:only-of-type {\n",
       "        vertical-align: middle;\n",
       "    }\n",
       "\n",
       "    .dataframe tbody tr th {\n",
       "        vertical-align: top;\n",
       "    }\n",
       "\n",
       "    .dataframe thead th {\n",
       "        text-align: right;\n",
       "    }\n",
       "</style>\n",
       "<table border=\"1\" class=\"dataframe\">\n",
       "  <thead>\n",
       "    <tr style=\"text-align: right;\">\n",
       "      <th></th>\n",
       "      <th>image</th>\n",
       "      <th>pid</th>\n",
       "      <th>description</th>\n",
       "      <th>status</th>\n",
       "      <th>threads</th>\n",
       "      <th>average_cpu</th>\n",
       "    </tr>\n",
       "  </thead>\n",
       "  <tbody>\n",
       "    <tr>\n",
       "      <th>0</th>\n",
       "      <td>Secure System</td>\n",
       "      <td>140</td>\n",
       "      <td>NaN</td>\n",
       "      <td>Suspended</td>\n",
       "      <td>-</td>\n",
       "      <td>0.0</td>\n",
       "    </tr>\n",
       "    <tr>\n",
       "      <th>1</th>\n",
       "      <td>SearchHost.exe</td>\n",
       "      <td>9272</td>\n",
       "      <td>SearchHost</td>\n",
       "      <td>Suspended</td>\n",
       "      <td>68</td>\n",
       "      <td>0.0</td>\n",
       "    </tr>\n",
       "    <tr>\n",
       "      <th>2</th>\n",
       "      <td>LockApp.exe</td>\n",
       "      <td>12784</td>\n",
       "      <td>LockApp.exe</td>\n",
       "      <td>Suspended</td>\n",
       "      <td>16</td>\n",
       "      <td>0.0</td>\n",
       "    </tr>\n",
       "    <tr>\n",
       "      <th>3</th>\n",
       "      <td>AcrobatNotificationClient.exe</td>\n",
       "      <td>18096</td>\n",
       "      <td>AcrobatNotificationClient</td>\n",
       "      <td>Suspended</td>\n",
       "      <td>13</td>\n",
       "      <td>0.0</td>\n",
       "    </tr>\n",
       "    <tr>\n",
       "      <th>4</th>\n",
       "      <td>AdobeNotificationClient.exe</td>\n",
       "      <td>9964</td>\n",
       "      <td>Adobe Notification Client</td>\n",
       "      <td>Suspended</td>\n",
       "      <td>12</td>\n",
       "      <td>0.0</td>\n",
       "    </tr>\n",
       "    <tr>\n",
       "      <th>...</th>\n",
       "      <td>...</td>\n",
       "      <td>...</td>\n",
       "      <td>...</td>\n",
       "      <td>...</td>\n",
       "      <td>...</td>\n",
       "      <td>...</td>\n",
       "    </tr>\n",
       "    <tr>\n",
       "      <th>301</th>\n",
       "      <td>splwow64.exe</td>\n",
       "      <td>20660</td>\n",
       "      <td>Print driver host for applications</td>\n",
       "      <td>Running</td>\n",
       "      <td>7</td>\n",
       "      <td>0.0</td>\n",
       "    </tr>\n",
       "    <tr>\n",
       "      <th>302</th>\n",
       "      <td>svchost.exe (PrintWorkflow)</td>\n",
       "      <td>13528</td>\n",
       "      <td>Host Process for Windows Services</td>\n",
       "      <td>Running</td>\n",
       "      <td>3</td>\n",
       "      <td>0.0</td>\n",
       "    </tr>\n",
       "    <tr>\n",
       "      <th>303</th>\n",
       "      <td>chrome.exe</td>\n",
       "      <td>13556</td>\n",
       "      <td>Google Chrome</td>\n",
       "      <td>Running</td>\n",
       "      <td>13</td>\n",
       "      <td>0.0</td>\n",
       "    </tr>\n",
       "    <tr>\n",
       "      <th>304</th>\n",
       "      <td>SearchProtocolHost.exe</td>\n",
       "      <td>7736</td>\n",
       "      <td>Microsoft Windows Search Protocol Host</td>\n",
       "      <td>Running</td>\n",
       "      <td>6</td>\n",
       "      <td>0.0</td>\n",
       "    </tr>\n",
       "    <tr>\n",
       "      <th>305</th>\n",
       "      <td>Teams.exe</td>\n",
       "      <td>8120</td>\n",
       "      <td>Microsoft Teams</td>\n",
       "      <td>Terminated</td>\n",
       "      <td>17</td>\n",
       "      <td>0.0</td>\n",
       "    </tr>\n",
       "  </tbody>\n",
       "</table>\n",
       "<p>306 rows × 6 columns</p>\n",
       "</div>"
      ],
      "text/plain": [
       "                             image    pid  \\\n",
       "0                    Secure System    140   \n",
       "1                   SearchHost.exe   9272   \n",
       "2                      LockApp.exe  12784   \n",
       "3    AcrobatNotificationClient.exe  18096   \n",
       "4      AdobeNotificationClient.exe   9964   \n",
       "..                             ...    ...   \n",
       "301                   splwow64.exe  20660   \n",
       "302    svchost.exe (PrintWorkflow)  13528   \n",
       "303                     chrome.exe  13556   \n",
       "304         SearchProtocolHost.exe   7736   \n",
       "305                      Teams.exe   8120   \n",
       "\n",
       "                                description      status threads  average_cpu  \n",
       "0                                       NaN   Suspended       -          0.0  \n",
       "1                                SearchHost   Suspended      68          0.0  \n",
       "2                               LockApp.exe   Suspended      16          0.0  \n",
       "3                 AcrobatNotificationClient   Suspended      13          0.0  \n",
       "4                 Adobe Notification Client   Suspended      12          0.0  \n",
       "..                                      ...         ...     ...          ...  \n",
       "301      Print driver host for applications     Running       7          0.0  \n",
       "302       Host Process for Windows Services     Running       3          0.0  \n",
       "303                           Google Chrome     Running      13          0.0  \n",
       "304  Microsoft Windows Search Protocol Host     Running       6          0.0  \n",
       "305                         Microsoft Teams  Terminated      17          0.0  \n",
       "\n",
       "[306 rows x 6 columns]"
      ]
     },
     "execution_count": 13,
     "metadata": {},
     "output_type": "execute_result"
    }
   ],
   "source": [
    "# call func passing in df_cpu \n",
    "CleanColumnHeading(df_cpu)"
   ]
  },
  {
   "cell_type": "code",
   "execution_count": 14,
   "id": "ddd238f0-8152-4731-a8ba-503f5c59b21d",
   "metadata": {},
   "outputs": [
    {
     "data": {
      "text/html": [
       "<div>\n",
       "<style scoped>\n",
       "    .dataframe tbody tr th:only-of-type {\n",
       "        vertical-align: middle;\n",
       "    }\n",
       "\n",
       "    .dataframe tbody tr th {\n",
       "        vertical-align: top;\n",
       "    }\n",
       "\n",
       "    .dataframe thead th {\n",
       "        text-align: right;\n",
       "    }\n",
       "</style>\n",
       "<table border=\"1\" class=\"dataframe\">\n",
       "  <thead>\n",
       "    <tr style=\"text-align: right;\">\n",
       "      <th></th>\n",
       "      <th>Image</th>\n",
       "      <th>PID</th>\n",
       "      <th>Total Byte Per Second</th>\n",
       "    </tr>\n",
       "  </thead>\n",
       "  <tbody>\n",
       "    <tr>\n",
       "      <th>0</th>\n",
       "      <td>chrome.exe</td>\n",
       "      <td>5448</td>\n",
       "      <td>6,278</td>\n",
       "    </tr>\n",
       "    <tr>\n",
       "      <th>1</th>\n",
       "      <td>chrome.exe</td>\n",
       "      <td>13324</td>\n",
       "      <td>4,940</td>\n",
       "    </tr>\n",
       "    <tr>\n",
       "      <th>2</th>\n",
       "      <td>EXCEL.EXE</td>\n",
       "      <td>12132</td>\n",
       "      <td>71,807</td>\n",
       "    </tr>\n",
       "    <tr>\n",
       "      <th>3</th>\n",
       "      <td>Grammarly.Desktop.exe</td>\n",
       "      <td>19180</td>\n",
       "      <td>6,729</td>\n",
       "    </tr>\n",
       "    <tr>\n",
       "      <th>4</th>\n",
       "      <td>msedgewebview2.exe</td>\n",
       "      <td>20716</td>\n",
       "      <td>8,799</td>\n",
       "    </tr>\n",
       "  </tbody>\n",
       "</table>\n",
       "</div>"
      ],
      "text/plain": [
       "                   Image    PID Total Byte Per Second\n",
       "0             chrome.exe   5448                 6,278\n",
       "1             chrome.exe  13324                 4,940\n",
       "2              EXCEL.EXE  12132                71,807\n",
       "3  Grammarly.Desktop.exe  19180                 6,729\n",
       "4     msedgewebview2.exe  20716                 8,799"
      ]
     },
     "execution_count": 14,
     "metadata": {},
     "output_type": "execute_result"
    }
   ],
   "source": [
    "df_disk.head()"
   ]
  },
  {
   "cell_type": "code",
   "execution_count": 15,
   "id": "1d13c3e8-cc1a-4da5-972e-3e036ebea648",
   "metadata": {},
   "outputs": [
    {
     "data": {
      "text/html": [
       "<div>\n",
       "<style scoped>\n",
       "    .dataframe tbody tr th:only-of-type {\n",
       "        vertical-align: middle;\n",
       "    }\n",
       "\n",
       "    .dataframe tbody tr th {\n",
       "        vertical-align: top;\n",
       "    }\n",
       "\n",
       "    .dataframe thead th {\n",
       "        text-align: right;\n",
       "    }\n",
       "</style>\n",
       "<table border=\"1\" class=\"dataframe\">\n",
       "  <thead>\n",
       "    <tr style=\"text-align: right;\">\n",
       "      <th></th>\n",
       "      <th>image</th>\n",
       "      <th>pid</th>\n",
       "      <th>total_byte_per_second</th>\n",
       "    </tr>\n",
       "  </thead>\n",
       "  <tbody>\n",
       "    <tr>\n",
       "      <th>0</th>\n",
       "      <td>chrome.exe</td>\n",
       "      <td>5448</td>\n",
       "      <td>6,278</td>\n",
       "    </tr>\n",
       "    <tr>\n",
       "      <th>1</th>\n",
       "      <td>chrome.exe</td>\n",
       "      <td>13324</td>\n",
       "      <td>4,940</td>\n",
       "    </tr>\n",
       "    <tr>\n",
       "      <th>2</th>\n",
       "      <td>EXCEL.EXE</td>\n",
       "      <td>12132</td>\n",
       "      <td>71,807</td>\n",
       "    </tr>\n",
       "    <tr>\n",
       "      <th>3</th>\n",
       "      <td>Grammarly.Desktop.exe</td>\n",
       "      <td>19180</td>\n",
       "      <td>6,729</td>\n",
       "    </tr>\n",
       "    <tr>\n",
       "      <th>4</th>\n",
       "      <td>msedgewebview2.exe</td>\n",
       "      <td>20716</td>\n",
       "      <td>8,799</td>\n",
       "    </tr>\n",
       "    <tr>\n",
       "      <th>5</th>\n",
       "      <td>msedgewebview2.exe</td>\n",
       "      <td>14716</td>\n",
       "      <td>5,616</td>\n",
       "    </tr>\n",
       "    <tr>\n",
       "      <th>6</th>\n",
       "      <td>msedgewebview2.exe</td>\n",
       "      <td>10576</td>\n",
       "      <td>4,681</td>\n",
       "    </tr>\n",
       "    <tr>\n",
       "      <th>7</th>\n",
       "      <td>msedgewebview2.exe</td>\n",
       "      <td>21848</td>\n",
       "      <td>964</td>\n",
       "    </tr>\n",
       "    <tr>\n",
       "      <th>8</th>\n",
       "      <td>MsMpEng.exe</td>\n",
       "      <td>6728</td>\n",
       "      <td>1,457</td>\n",
       "    </tr>\n",
       "    <tr>\n",
       "      <th>9</th>\n",
       "      <td>OUTLOOK.EXE</td>\n",
       "      <td>7300</td>\n",
       "      <td>1,471</td>\n",
       "    </tr>\n",
       "    <tr>\n",
       "      <th>10</th>\n",
       "      <td>Registry</td>\n",
       "      <td>172</td>\n",
       "      <td>5,523</td>\n",
       "    </tr>\n",
       "    <tr>\n",
       "      <th>11</th>\n",
       "      <td>System</td>\n",
       "      <td>4</td>\n",
       "      <td>232,627</td>\n",
       "    </tr>\n",
       "    <tr>\n",
       "      <th>12</th>\n",
       "      <td>Teams.exe</td>\n",
       "      <td>15560</td>\n",
       "      <td>547</td>\n",
       "    </tr>\n",
       "    <tr>\n",
       "      <th>13</th>\n",
       "      <td>WUDFHost.exe</td>\n",
       "      <td>1528</td>\n",
       "      <td>24,587</td>\n",
       "    </tr>\n",
       "  </tbody>\n",
       "</table>\n",
       "</div>"
      ],
      "text/plain": [
       "                    image    pid total_byte_per_second\n",
       "0              chrome.exe   5448                 6,278\n",
       "1              chrome.exe  13324                 4,940\n",
       "2               EXCEL.EXE  12132                71,807\n",
       "3   Grammarly.Desktop.exe  19180                 6,729\n",
       "4      msedgewebview2.exe  20716                 8,799\n",
       "5      msedgewebview2.exe  14716                 5,616\n",
       "6      msedgewebview2.exe  10576                 4,681\n",
       "7      msedgewebview2.exe  21848                   964\n",
       "8             MsMpEng.exe   6728                 1,457\n",
       "9             OUTLOOK.EXE   7300                 1,471\n",
       "10               Registry    172                 5,523\n",
       "11                 System      4               232,627\n",
       "12              Teams.exe  15560                   547\n",
       "13           WUDFHost.exe   1528                24,587"
      ]
     },
     "execution_count": 15,
     "metadata": {},
     "output_type": "execute_result"
    }
   ],
   "source": [
    "# call func passing in df_disk\n",
    "CleanColumnHeading(df_disk)"
   ]
  },
  {
   "cell_type": "code",
   "execution_count": 16,
   "id": "7ed38b08-96d9-49c6-9bea-57ca0d31f482",
   "metadata": {},
   "outputs": [
    {
     "data": {
      "text/html": [
       "<div>\n",
       "<style scoped>\n",
       "    .dataframe tbody tr th:only-of-type {\n",
       "        vertical-align: middle;\n",
       "    }\n",
       "\n",
       "    .dataframe tbody tr th {\n",
       "        vertical-align: top;\n",
       "    }\n",
       "\n",
       "    .dataframe thead th {\n",
       "        text-align: right;\n",
       "    }\n",
       "</style>\n",
       "<table border=\"1\" class=\"dataframe\">\n",
       "  <thead>\n",
       "    <tr style=\"text-align: right;\">\n",
       "      <th></th>\n",
       "      <th>Image</th>\n",
       "      <th>PID</th>\n",
       "      <th>Working Set KB</th>\n",
       "    </tr>\n",
       "  </thead>\n",
       "  <tbody>\n",
       "    <tr>\n",
       "      <th>0</th>\n",
       "      <td>AcrobatNotificationClient.exe</td>\n",
       "      <td>18096</td>\n",
       "      <td>3,632</td>\n",
       "    </tr>\n",
       "    <tr>\n",
       "      <th>1</th>\n",
       "      <td>Adobe Crash Processor.exe</td>\n",
       "      <td>7856</td>\n",
       "      <td>15,252</td>\n",
       "    </tr>\n",
       "    <tr>\n",
       "      <th>2</th>\n",
       "      <td>Adobe Desktop Service.exe</td>\n",
       "      <td>6640</td>\n",
       "      <td>85,504</td>\n",
       "    </tr>\n",
       "    <tr>\n",
       "      <th>3</th>\n",
       "      <td>AdobeCollabSync.exe</td>\n",
       "      <td>17928</td>\n",
       "      <td>20,384</td>\n",
       "    </tr>\n",
       "    <tr>\n",
       "      <th>4</th>\n",
       "      <td>AdobeCollabSync.exe</td>\n",
       "      <td>16808</td>\n",
       "      <td>16,628</td>\n",
       "    </tr>\n",
       "  </tbody>\n",
       "</table>\n",
       "</div>"
      ],
      "text/plain": [
       "                           Image    PID Working Set KB\n",
       "0  AcrobatNotificationClient.exe  18096          3,632\n",
       "1      Adobe Crash Processor.exe   7856         15,252\n",
       "2      Adobe Desktop Service.exe   6640         85,504\n",
       "3            AdobeCollabSync.exe  17928         20,384\n",
       "4            AdobeCollabSync.exe  16808         16,628"
      ]
     },
     "execution_count": 16,
     "metadata": {},
     "output_type": "execute_result"
    }
   ],
   "source": [
    "df_memory.head()"
   ]
  },
  {
   "cell_type": "code",
   "execution_count": 17,
   "id": "0ddfacf5-39fe-4469-a2a5-c380076aafc0",
   "metadata": {},
   "outputs": [
    {
     "data": {
      "text/html": [
       "<div>\n",
       "<style scoped>\n",
       "    .dataframe tbody tr th:only-of-type {\n",
       "        vertical-align: middle;\n",
       "    }\n",
       "\n",
       "    .dataframe tbody tr th {\n",
       "        vertical-align: top;\n",
       "    }\n",
       "\n",
       "    .dataframe thead th {\n",
       "        text-align: right;\n",
       "    }\n",
       "</style>\n",
       "<table border=\"1\" class=\"dataframe\">\n",
       "  <thead>\n",
       "    <tr style=\"text-align: right;\">\n",
       "      <th></th>\n",
       "      <th>image</th>\n",
       "      <th>pid</th>\n",
       "      <th>working_set_kb</th>\n",
       "    </tr>\n",
       "  </thead>\n",
       "  <tbody>\n",
       "    <tr>\n",
       "      <th>0</th>\n",
       "      <td>AcrobatNotificationClient.exe</td>\n",
       "      <td>18096</td>\n",
       "      <td>3,632</td>\n",
       "    </tr>\n",
       "    <tr>\n",
       "      <th>1</th>\n",
       "      <td>Adobe Crash Processor.exe</td>\n",
       "      <td>7856</td>\n",
       "      <td>15,252</td>\n",
       "    </tr>\n",
       "    <tr>\n",
       "      <th>2</th>\n",
       "      <td>Adobe Desktop Service.exe</td>\n",
       "      <td>6640</td>\n",
       "      <td>85,504</td>\n",
       "    </tr>\n",
       "    <tr>\n",
       "      <th>3</th>\n",
       "      <td>AdobeCollabSync.exe</td>\n",
       "      <td>17928</td>\n",
       "      <td>20,384</td>\n",
       "    </tr>\n",
       "    <tr>\n",
       "      <th>4</th>\n",
       "      <td>AdobeCollabSync.exe</td>\n",
       "      <td>16808</td>\n",
       "      <td>16,628</td>\n",
       "    </tr>\n",
       "    <tr>\n",
       "      <th>...</th>\n",
       "      <td>...</td>\n",
       "      <td>...</td>\n",
       "      <td>...</td>\n",
       "    </tr>\n",
       "    <tr>\n",
       "      <th>301</th>\n",
       "      <td>WUDFHost.exe</td>\n",
       "      <td>1528</td>\n",
       "      <td>19,504</td>\n",
       "    </tr>\n",
       "    <tr>\n",
       "      <th>302</th>\n",
       "      <td>WUDFHost.exe</td>\n",
       "      <td>1804</td>\n",
       "      <td>13,892</td>\n",
       "    </tr>\n",
       "    <tr>\n",
       "      <th>303</th>\n",
       "      <td>WUDFHost.exe</td>\n",
       "      <td>1960</td>\n",
       "      <td>7,184</td>\n",
       "    </tr>\n",
       "    <tr>\n",
       "      <th>304</th>\n",
       "      <td>WUDFHost.exe</td>\n",
       "      <td>1916</td>\n",
       "      <td>5,744</td>\n",
       "    </tr>\n",
       "    <tr>\n",
       "      <th>305</th>\n",
       "      <td>WUDFHost.exe</td>\n",
       "      <td>3804</td>\n",
       "      <td>8,004</td>\n",
       "    </tr>\n",
       "  </tbody>\n",
       "</table>\n",
       "<p>306 rows × 3 columns</p>\n",
       "</div>"
      ],
      "text/plain": [
       "                             image    pid working_set_kb\n",
       "0    AcrobatNotificationClient.exe  18096          3,632\n",
       "1        Adobe Crash Processor.exe   7856         15,252\n",
       "2        Adobe Desktop Service.exe   6640         85,504\n",
       "3              AdobeCollabSync.exe  17928         20,384\n",
       "4              AdobeCollabSync.exe  16808         16,628\n",
       "..                             ...    ...            ...\n",
       "301                   WUDFHost.exe   1528         19,504\n",
       "302                   WUDFHost.exe   1804         13,892\n",
       "303                   WUDFHost.exe   1960          7,184\n",
       "304                   WUDFHost.exe   1916          5,744\n",
       "305                   WUDFHost.exe   3804          8,004\n",
       "\n",
       "[306 rows x 3 columns]"
      ]
     },
     "execution_count": 17,
     "metadata": {},
     "output_type": "execute_result"
    }
   ],
   "source": [
    "# call func passing in df_memory\n",
    "CleanColumnHeading(df_memory)"
   ]
  },
  {
   "cell_type": "markdown",
   "id": "222e86fa-c8c8-4e50-9f75-517491d29e68",
   "metadata": {},
   "source": [
    "### Data Cleaning"
   ]
  },
  {
   "cell_type": "code",
   "execution_count": 18,
   "id": "61a1a8e5-9532-4624-a143-2ff579b99909",
   "metadata": {},
   "outputs": [
    {
     "data": {
      "text/html": [
       "<div>\n",
       "<style scoped>\n",
       "    .dataframe tbody tr th:only-of-type {\n",
       "        vertical-align: middle;\n",
       "    }\n",
       "\n",
       "    .dataframe tbody tr th {\n",
       "        vertical-align: top;\n",
       "    }\n",
       "\n",
       "    .dataframe thead th {\n",
       "        text-align: right;\n",
       "    }\n",
       "</style>\n",
       "<table border=\"1\" class=\"dataframe\">\n",
       "  <thead>\n",
       "    <tr style=\"text-align: right;\">\n",
       "      <th></th>\n",
       "      <th>image</th>\n",
       "      <th>pid</th>\n",
       "      <th>description</th>\n",
       "      <th>status</th>\n",
       "      <th>threads</th>\n",
       "      <th>average_cpu</th>\n",
       "    </tr>\n",
       "  </thead>\n",
       "  <tbody>\n",
       "    <tr>\n",
       "      <th>0</th>\n",
       "      <td>Secure System</td>\n",
       "      <td>140</td>\n",
       "      <td>NaN</td>\n",
       "      <td>Suspended</td>\n",
       "      <td>-</td>\n",
       "      <td>0.0</td>\n",
       "    </tr>\n",
       "    <tr>\n",
       "      <th>1</th>\n",
       "      <td>SearchHost.exe</td>\n",
       "      <td>9272</td>\n",
       "      <td>SearchHost</td>\n",
       "      <td>Suspended</td>\n",
       "      <td>68</td>\n",
       "      <td>0.0</td>\n",
       "    </tr>\n",
       "    <tr>\n",
       "      <th>2</th>\n",
       "      <td>LockApp.exe</td>\n",
       "      <td>12784</td>\n",
       "      <td>LockApp.exe</td>\n",
       "      <td>Suspended</td>\n",
       "      <td>16</td>\n",
       "      <td>0.0</td>\n",
       "    </tr>\n",
       "    <tr>\n",
       "      <th>3</th>\n",
       "      <td>AcrobatNotificationClient.exe</td>\n",
       "      <td>18096</td>\n",
       "      <td>AcrobatNotificationClient</td>\n",
       "      <td>Suspended</td>\n",
       "      <td>13</td>\n",
       "      <td>0.0</td>\n",
       "    </tr>\n",
       "    <tr>\n",
       "      <th>4</th>\n",
       "      <td>AdobeNotificationClient.exe</td>\n",
       "      <td>9964</td>\n",
       "      <td>Adobe Notification Client</td>\n",
       "      <td>Suspended</td>\n",
       "      <td>12</td>\n",
       "      <td>0.0</td>\n",
       "    </tr>\n",
       "  </tbody>\n",
       "</table>\n",
       "</div>"
      ],
      "text/plain": [
       "                           image    pid                description     status  \\\n",
       "0                  Secure System    140                        NaN  Suspended   \n",
       "1                 SearchHost.exe   9272                 SearchHost  Suspended   \n",
       "2                    LockApp.exe  12784                LockApp.exe  Suspended   \n",
       "3  AcrobatNotificationClient.exe  18096  AcrobatNotificationClient  Suspended   \n",
       "4    AdobeNotificationClient.exe   9964  Adobe Notification Client  Suspended   \n",
       "\n",
       "  threads  average_cpu  \n",
       "0       -          0.0  \n",
       "1      68          0.0  \n",
       "2      16          0.0  \n",
       "3      13          0.0  \n",
       "4      12          0.0  "
      ]
     },
     "execution_count": 18,
     "metadata": {},
     "output_type": "execute_result"
    }
   ],
   "source": [
    "#examine threads column \n",
    "df_cpu.head()"
   ]
  },
  {
   "cell_type": "code",
   "execution_count": 19,
   "id": "65d90f2e-db4c-40a6-9b5a-260ded472c6b",
   "metadata": {},
   "outputs": [
    {
     "name": "stdout",
     "output_type": "stream",
     "text": [
      "<class 'pandas.core.frame.DataFrame'>\n",
      "RangeIndex: 306 entries, 0 to 305\n",
      "Data columns (total 6 columns):\n",
      " #   Column       Non-Null Count  Dtype  \n",
      "---  ------       --------------  -----  \n",
      " 0   image        306 non-null    object \n",
      " 1   pid          306 non-null    object \n",
      " 2   description  290 non-null    object \n",
      " 3   status       306 non-null    object \n",
      " 4   threads      306 non-null    object \n",
      " 5   average_cpu  306 non-null    float64\n",
      "dtypes: float64(1), object(5)\n",
      "memory usage: 14.5+ KB\n"
     ]
    }
   ],
   "source": [
    "#display info for the df_cpu\n",
    "df_cpu.info()"
   ]
  },
  {
   "cell_type": "code",
   "execution_count": 20,
   "id": "a0904884-f15d-4f5a-b857-2cd31c5aad80",
   "metadata": {},
   "outputs": [],
   "source": [
    "# remove all characters that are not numbers from threads column\n",
    "df_cpu[\"threads\"] = df_cpu[\"threads\"].replace('[^0-9]', np.nan, regex=True)"
   ]
  },
  {
   "cell_type": "code",
   "execution_count": 21,
   "id": "c8d4a7b5-87a1-4b47-b765-982788ac45ee",
   "metadata": {},
   "outputs": [],
   "source": [
    "# drop rows if threads column is blank\n",
    "df_cpu = df_cpu.dropna(subset=['threads'])"
   ]
  },
  {
   "cell_type": "code",
   "execution_count": 22,
   "id": "1d350893-b162-47b6-ad7d-2fe7d480f514",
   "metadata": {},
   "outputs": [
    {
     "data": {
      "text/html": [
       "<div>\n",
       "<style scoped>\n",
       "    .dataframe tbody tr th:only-of-type {\n",
       "        vertical-align: middle;\n",
       "    }\n",
       "\n",
       "    .dataframe tbody tr th {\n",
       "        vertical-align: top;\n",
       "    }\n",
       "\n",
       "    .dataframe thead th {\n",
       "        text-align: right;\n",
       "    }\n",
       "</style>\n",
       "<table border=\"1\" class=\"dataframe\">\n",
       "  <thead>\n",
       "    <tr style=\"text-align: right;\">\n",
       "      <th></th>\n",
       "      <th>image</th>\n",
       "      <th>pid</th>\n",
       "      <th>description</th>\n",
       "      <th>status</th>\n",
       "      <th>threads</th>\n",
       "      <th>average_cpu</th>\n",
       "    </tr>\n",
       "  </thead>\n",
       "  <tbody>\n",
       "    <tr>\n",
       "      <th>1</th>\n",
       "      <td>SearchHost.exe</td>\n",
       "      <td>9272</td>\n",
       "      <td>SearchHost</td>\n",
       "      <td>Suspended</td>\n",
       "      <td>68</td>\n",
       "      <td>0.0</td>\n",
       "    </tr>\n",
       "    <tr>\n",
       "      <th>2</th>\n",
       "      <td>LockApp.exe</td>\n",
       "      <td>12784</td>\n",
       "      <td>LockApp.exe</td>\n",
       "      <td>Suspended</td>\n",
       "      <td>16</td>\n",
       "      <td>0.0</td>\n",
       "    </tr>\n",
       "    <tr>\n",
       "      <th>3</th>\n",
       "      <td>AcrobatNotificationClient.exe</td>\n",
       "      <td>18096</td>\n",
       "      <td>AcrobatNotificationClient</td>\n",
       "      <td>Suspended</td>\n",
       "      <td>13</td>\n",
       "      <td>0.0</td>\n",
       "    </tr>\n",
       "    <tr>\n",
       "      <th>4</th>\n",
       "      <td>AdobeNotificationClient.exe</td>\n",
       "      <td>9964</td>\n",
       "      <td>Adobe Notification Client</td>\n",
       "      <td>Suspended</td>\n",
       "      <td>12</td>\n",
       "      <td>0.0</td>\n",
       "    </tr>\n",
       "    <tr>\n",
       "      <th>5</th>\n",
       "      <td>ShellExperienceHost.exe</td>\n",
       "      <td>12220</td>\n",
       "      <td>Windows Shell Experience Host</td>\n",
       "      <td>Suspended</td>\n",
       "      <td>18</td>\n",
       "      <td>0.0</td>\n",
       "    </tr>\n",
       "  </tbody>\n",
       "</table>\n",
       "</div>"
      ],
      "text/plain": [
       "                           image    pid                    description  \\\n",
       "1                 SearchHost.exe   9272                     SearchHost   \n",
       "2                    LockApp.exe  12784                    LockApp.exe   \n",
       "3  AcrobatNotificationClient.exe  18096      AcrobatNotificationClient   \n",
       "4    AdobeNotificationClient.exe   9964      Adobe Notification Client   \n",
       "5        ShellExperienceHost.exe  12220  Windows Shell Experience Host   \n",
       "\n",
       "      status threads  average_cpu  \n",
       "1  Suspended      68          0.0  \n",
       "2  Suspended      16          0.0  \n",
       "3  Suspended      13          0.0  \n",
       "4  Suspended      12          0.0  \n",
       "5  Suspended      18          0.0  "
      ]
     },
     "execution_count": 22,
     "metadata": {},
     "output_type": "execute_result"
    }
   ],
   "source": [
    "# display difference for rows that were modified\n",
    "df_cpu.head()"
   ]
  },
  {
   "cell_type": "code",
   "execution_count": 23,
   "id": "c0bc781c-a8ff-4c79-8b9b-0555c8b4dd2e",
   "metadata": {},
   "outputs": [
    {
     "name": "stderr",
     "output_type": "stream",
     "text": [
      "/var/folders/sl/_zx5q0w14j39gxgp01g_bdvw0000gn/T/ipykernel_83984/3608645831.py:2: SettingWithCopyWarning: \n",
      "A value is trying to be set on a copy of a slice from a DataFrame.\n",
      "Try using .loc[row_indexer,col_indexer] = value instead\n",
      "\n",
      "See the caveats in the documentation: https://pandas.pydata.org/pandas-docs/stable/user_guide/indexing.html#returning-a-view-versus-a-copy\n",
      "  df_cpu[\"threads\"] = pd.to_numeric(df_cpu[\"threads\"], errors='coerce')\n"
     ]
    }
   ],
   "source": [
    "# correct datatype\n",
    "df_cpu[\"threads\"] = pd.to_numeric(df_cpu[\"threads\"], errors='coerce')"
   ]
  },
  {
   "cell_type": "code",
   "execution_count": 24,
   "id": "e09039f3-6a9c-4247-aa21-f1c13cbb64be",
   "metadata": {},
   "outputs": [
    {
     "name": "stdout",
     "output_type": "stream",
     "text": [
      "<class 'pandas.core.frame.DataFrame'>\n",
      "Index: 304 entries, 1 to 305\n",
      "Data columns (total 6 columns):\n",
      " #   Column       Non-Null Count  Dtype  \n",
      "---  ------       --------------  -----  \n",
      " 0   image        304 non-null    object \n",
      " 1   pid          304 non-null    object \n",
      " 2   description  289 non-null    object \n",
      " 3   status       304 non-null    object \n",
      " 4   threads      304 non-null    int64  \n",
      " 5   average_cpu  304 non-null    float64\n",
      "dtypes: float64(1), int64(1), object(4)\n",
      "memory usage: 16.6+ KB\n"
     ]
    }
   ],
   "source": [
    "#confirm difference in datatype\n",
    "df_cpu.info()"
   ]
  },
  {
   "cell_type": "code",
   "execution_count": 25,
   "id": "0975ce2d-caa2-47dc-b062-d709cff799fe",
   "metadata": {},
   "outputs": [
    {
     "data": {
      "text/html": [
       "<div>\n",
       "<style scoped>\n",
       "    .dataframe tbody tr th:only-of-type {\n",
       "        vertical-align: middle;\n",
       "    }\n",
       "\n",
       "    .dataframe tbody tr th {\n",
       "        vertical-align: top;\n",
       "    }\n",
       "\n",
       "    .dataframe thead th {\n",
       "        text-align: right;\n",
       "    }\n",
       "</style>\n",
       "<table border=\"1\" class=\"dataframe\">\n",
       "  <thead>\n",
       "    <tr style=\"text-align: right;\">\n",
       "      <th></th>\n",
       "      <th>image</th>\n",
       "      <th>pid</th>\n",
       "      <th>description</th>\n",
       "      <th>status</th>\n",
       "      <th>threads</th>\n",
       "      <th>average_cpu</th>\n",
       "    </tr>\n",
       "  </thead>\n",
       "  <tbody>\n",
       "    <tr>\n",
       "      <th>1</th>\n",
       "      <td>SearchHost.exe</td>\n",
       "      <td>9272</td>\n",
       "      <td>SearchHost</td>\n",
       "      <td>Suspended</td>\n",
       "      <td>68</td>\n",
       "      <td>0.0</td>\n",
       "    </tr>\n",
       "    <tr>\n",
       "      <th>2</th>\n",
       "      <td>LockApp.exe</td>\n",
       "      <td>12784</td>\n",
       "      <td>LockApp.exe</td>\n",
       "      <td>Suspended</td>\n",
       "      <td>16</td>\n",
       "      <td>0.0</td>\n",
       "    </tr>\n",
       "    <tr>\n",
       "      <th>3</th>\n",
       "      <td>AcrobatNotificationClient.exe</td>\n",
       "      <td>18096</td>\n",
       "      <td>AcrobatNotificationClient</td>\n",
       "      <td>Suspended</td>\n",
       "      <td>13</td>\n",
       "      <td>0.0</td>\n",
       "    </tr>\n",
       "    <tr>\n",
       "      <th>4</th>\n",
       "      <td>AdobeNotificationClient.exe</td>\n",
       "      <td>9964</td>\n",
       "      <td>Adobe Notification Client</td>\n",
       "      <td>Suspended</td>\n",
       "      <td>12</td>\n",
       "      <td>0.0</td>\n",
       "    </tr>\n",
       "    <tr>\n",
       "      <th>5</th>\n",
       "      <td>ShellExperienceHost.exe</td>\n",
       "      <td>12220</td>\n",
       "      <td>Windows Shell Experience Host</td>\n",
       "      <td>Suspended</td>\n",
       "      <td>18</td>\n",
       "      <td>0.0</td>\n",
       "    </tr>\n",
       "  </tbody>\n",
       "</table>\n",
       "</div>"
      ],
      "text/plain": [
       "                           image    pid                    description  \\\n",
       "1                 SearchHost.exe   9272                     SearchHost   \n",
       "2                    LockApp.exe  12784                    LockApp.exe   \n",
       "3  AcrobatNotificationClient.exe  18096      AcrobatNotificationClient   \n",
       "4    AdobeNotificationClient.exe   9964      Adobe Notification Client   \n",
       "5        ShellExperienceHost.exe  12220  Windows Shell Experience Host   \n",
       "\n",
       "      status  threads  average_cpu  \n",
       "1  Suspended       68          0.0  \n",
       "2  Suspended       16          0.0  \n",
       "3  Suspended       13          0.0  \n",
       "4  Suspended       12          0.0  \n",
       "5  Suspended       18          0.0  "
      ]
     },
     "execution_count": 25,
     "metadata": {},
     "output_type": "execute_result"
    }
   ],
   "source": [
    "df_cpu.head()"
   ]
  },
  {
   "cell_type": "code",
   "execution_count": 26,
   "id": "4984e73b-cc46-4a35-80a6-2505f28f2e89",
   "metadata": {},
   "outputs": [
    {
     "data": {
      "text/html": [
       "<div>\n",
       "<style scoped>\n",
       "    .dataframe tbody tr th:only-of-type {\n",
       "        vertical-align: middle;\n",
       "    }\n",
       "\n",
       "    .dataframe tbody tr th {\n",
       "        vertical-align: top;\n",
       "    }\n",
       "\n",
       "    .dataframe thead th {\n",
       "        text-align: right;\n",
       "    }\n",
       "</style>\n",
       "<table border=\"1\" class=\"dataframe\">\n",
       "  <thead>\n",
       "    <tr style=\"text-align: right;\">\n",
       "      <th></th>\n",
       "      <th>image</th>\n",
       "      <th>pid</th>\n",
       "      <th>total_byte_per_second</th>\n",
       "    </tr>\n",
       "  </thead>\n",
       "  <tbody>\n",
       "    <tr>\n",
       "      <th>0</th>\n",
       "      <td>chrome.exe</td>\n",
       "      <td>5448</td>\n",
       "      <td>6,278</td>\n",
       "    </tr>\n",
       "    <tr>\n",
       "      <th>1</th>\n",
       "      <td>chrome.exe</td>\n",
       "      <td>13324</td>\n",
       "      <td>4,940</td>\n",
       "    </tr>\n",
       "    <tr>\n",
       "      <th>2</th>\n",
       "      <td>EXCEL.EXE</td>\n",
       "      <td>12132</td>\n",
       "      <td>71,807</td>\n",
       "    </tr>\n",
       "    <tr>\n",
       "      <th>3</th>\n",
       "      <td>Grammarly.Desktop.exe</td>\n",
       "      <td>19180</td>\n",
       "      <td>6,729</td>\n",
       "    </tr>\n",
       "    <tr>\n",
       "      <th>4</th>\n",
       "      <td>msedgewebview2.exe</td>\n",
       "      <td>20716</td>\n",
       "      <td>8,799</td>\n",
       "    </tr>\n",
       "  </tbody>\n",
       "</table>\n",
       "</div>"
      ],
      "text/plain": [
       "                   image    pid total_byte_per_second\n",
       "0             chrome.exe   5448                 6,278\n",
       "1             chrome.exe  13324                 4,940\n",
       "2              EXCEL.EXE  12132                71,807\n",
       "3  Grammarly.Desktop.exe  19180                 6,729\n",
       "4     msedgewebview2.exe  20716                 8,799"
      ]
     },
     "execution_count": 26,
     "metadata": {},
     "output_type": "execute_result"
    }
   ],
   "source": [
    "#examine total_byte_per_second\n",
    "df_disk.head()"
   ]
  },
  {
   "cell_type": "code",
   "execution_count": 27,
   "id": "ba11ec15-685c-4b62-981e-b7581009b39c",
   "metadata": {},
   "outputs": [
    {
     "name": "stdout",
     "output_type": "stream",
     "text": [
      "<class 'pandas.core.frame.DataFrame'>\n",
      "RangeIndex: 14 entries, 0 to 13\n",
      "Data columns (total 3 columns):\n",
      " #   Column                 Non-Null Count  Dtype \n",
      "---  ------                 --------------  ----- \n",
      " 0   image                  14 non-null     object\n",
      " 1   pid                    14 non-null     int64 \n",
      " 2   total_byte_per_second  14 non-null     object\n",
      "dtypes: int64(1), object(2)\n",
      "memory usage: 468.0+ bytes\n"
     ]
    }
   ],
   "source": [
    "#display info for df disk\n",
    "df_disk.info()"
   ]
  },
  {
   "cell_type": "code",
   "execution_count": 28,
   "id": "7ceb4376-415c-4a31-868d-80dacae2ee18",
   "metadata": {},
   "outputs": [],
   "source": [
    "#remove commas from total_byte_per_second column \n",
    "df_disk[\"total_byte_per_second\"] = df_disk[\"total_byte_per_second\"].replace(',', '', regex=True)"
   ]
  },
  {
   "cell_type": "code",
   "execution_count": 29,
   "id": "a1dadad3-a1da-4d23-b717-0cea9d0378dc",
   "metadata": {},
   "outputs": [
    {
     "data": {
      "text/html": [
       "<div>\n",
       "<style scoped>\n",
       "    .dataframe tbody tr th:only-of-type {\n",
       "        vertical-align: middle;\n",
       "    }\n",
       "\n",
       "    .dataframe tbody tr th {\n",
       "        vertical-align: top;\n",
       "    }\n",
       "\n",
       "    .dataframe thead th {\n",
       "        text-align: right;\n",
       "    }\n",
       "</style>\n",
       "<table border=\"1\" class=\"dataframe\">\n",
       "  <thead>\n",
       "    <tr style=\"text-align: right;\">\n",
       "      <th></th>\n",
       "      <th>image</th>\n",
       "      <th>pid</th>\n",
       "      <th>total_byte_per_second</th>\n",
       "    </tr>\n",
       "  </thead>\n",
       "  <tbody>\n",
       "    <tr>\n",
       "      <th>0</th>\n",
       "      <td>chrome.exe</td>\n",
       "      <td>5448</td>\n",
       "      <td>6278</td>\n",
       "    </tr>\n",
       "    <tr>\n",
       "      <th>1</th>\n",
       "      <td>chrome.exe</td>\n",
       "      <td>13324</td>\n",
       "      <td>4940</td>\n",
       "    </tr>\n",
       "    <tr>\n",
       "      <th>2</th>\n",
       "      <td>EXCEL.EXE</td>\n",
       "      <td>12132</td>\n",
       "      <td>71807</td>\n",
       "    </tr>\n",
       "    <tr>\n",
       "      <th>3</th>\n",
       "      <td>Grammarly.Desktop.exe</td>\n",
       "      <td>19180</td>\n",
       "      <td>6729</td>\n",
       "    </tr>\n",
       "    <tr>\n",
       "      <th>4</th>\n",
       "      <td>msedgewebview2.exe</td>\n",
       "      <td>20716</td>\n",
       "      <td>8799</td>\n",
       "    </tr>\n",
       "  </tbody>\n",
       "</table>\n",
       "</div>"
      ],
      "text/plain": [
       "                   image    pid total_byte_per_second\n",
       "0             chrome.exe   5448                  6278\n",
       "1             chrome.exe  13324                  4940\n",
       "2              EXCEL.EXE  12132                 71807\n",
       "3  Grammarly.Desktop.exe  19180                  6729\n",
       "4     msedgewebview2.exe  20716                  8799"
      ]
     },
     "execution_count": 29,
     "metadata": {},
     "output_type": "execute_result"
    }
   ],
   "source": [
    "#confirm removal\n",
    "df_disk.head()"
   ]
  },
  {
   "cell_type": "code",
   "execution_count": 30,
   "id": "ff88d8f3-2b5f-4b5a-8b4d-2d4ca6f0bc3b",
   "metadata": {},
   "outputs": [],
   "source": [
    "# remove invalid characters that are not numbers \n",
    "df_disk[\"total_byte_per_second\"] = df_disk[\"total_byte_per_second\"].replace('[^0-9]', np.nan, regex=True)"
   ]
  },
  {
   "cell_type": "code",
   "execution_count": 31,
   "id": "14e61407-84e3-4de9-bea6-dd9e4267a892",
   "metadata": {},
   "outputs": [
    {
     "name": "stdout",
     "output_type": "stream",
     "text": [
      "<class 'pandas.core.frame.DataFrame'>\n",
      "RangeIndex: 14 entries, 0 to 13\n",
      "Data columns (total 3 columns):\n",
      " #   Column                 Non-Null Count  Dtype \n",
      "---  ------                 --------------  ----- \n",
      " 0   image                  14 non-null     object\n",
      " 1   pid                    14 non-null     int64 \n",
      " 2   total_byte_per_second  14 non-null     object\n",
      "dtypes: int64(1), object(2)\n",
      "memory usage: 468.0+ bytes\n"
     ]
    }
   ],
   "source": [
    "df_disk.info()"
   ]
  },
  {
   "cell_type": "code",
   "execution_count": 32,
   "id": "150db01a-7ed1-45c4-aee6-70cc220f057a",
   "metadata": {},
   "outputs": [
    {
     "data": {
      "text/html": [
       "<div>\n",
       "<style scoped>\n",
       "    .dataframe tbody tr th:only-of-type {\n",
       "        vertical-align: middle;\n",
       "    }\n",
       "\n",
       "    .dataframe tbody tr th {\n",
       "        vertical-align: top;\n",
       "    }\n",
       "\n",
       "    .dataframe thead th {\n",
       "        text-align: right;\n",
       "    }\n",
       "</style>\n",
       "<table border=\"1\" class=\"dataframe\">\n",
       "  <thead>\n",
       "    <tr style=\"text-align: right;\">\n",
       "      <th></th>\n",
       "      <th>image</th>\n",
       "      <th>pid</th>\n",
       "      <th>total_byte_per_second</th>\n",
       "    </tr>\n",
       "  </thead>\n",
       "  <tbody>\n",
       "    <tr>\n",
       "      <th>0</th>\n",
       "      <td>chrome.exe</td>\n",
       "      <td>5448</td>\n",
       "      <td>6278</td>\n",
       "    </tr>\n",
       "    <tr>\n",
       "      <th>1</th>\n",
       "      <td>chrome.exe</td>\n",
       "      <td>13324</td>\n",
       "      <td>4940</td>\n",
       "    </tr>\n",
       "    <tr>\n",
       "      <th>2</th>\n",
       "      <td>EXCEL.EXE</td>\n",
       "      <td>12132</td>\n",
       "      <td>71807</td>\n",
       "    </tr>\n",
       "    <tr>\n",
       "      <th>3</th>\n",
       "      <td>Grammarly.Desktop.exe</td>\n",
       "      <td>19180</td>\n",
       "      <td>6729</td>\n",
       "    </tr>\n",
       "    <tr>\n",
       "      <th>4</th>\n",
       "      <td>msedgewebview2.exe</td>\n",
       "      <td>20716</td>\n",
       "      <td>8799</td>\n",
       "    </tr>\n",
       "    <tr>\n",
       "      <th>5</th>\n",
       "      <td>msedgewebview2.exe</td>\n",
       "      <td>14716</td>\n",
       "      <td>5616</td>\n",
       "    </tr>\n",
       "    <tr>\n",
       "      <th>6</th>\n",
       "      <td>msedgewebview2.exe</td>\n",
       "      <td>10576</td>\n",
       "      <td>4681</td>\n",
       "    </tr>\n",
       "    <tr>\n",
       "      <th>7</th>\n",
       "      <td>msedgewebview2.exe</td>\n",
       "      <td>21848</td>\n",
       "      <td>964</td>\n",
       "    </tr>\n",
       "    <tr>\n",
       "      <th>8</th>\n",
       "      <td>MsMpEng.exe</td>\n",
       "      <td>6728</td>\n",
       "      <td>1457</td>\n",
       "    </tr>\n",
       "    <tr>\n",
       "      <th>9</th>\n",
       "      <td>OUTLOOK.EXE</td>\n",
       "      <td>7300</td>\n",
       "      <td>1471</td>\n",
       "    </tr>\n",
       "    <tr>\n",
       "      <th>10</th>\n",
       "      <td>Registry</td>\n",
       "      <td>172</td>\n",
       "      <td>5523</td>\n",
       "    </tr>\n",
       "    <tr>\n",
       "      <th>11</th>\n",
       "      <td>System</td>\n",
       "      <td>4</td>\n",
       "      <td>232627</td>\n",
       "    </tr>\n",
       "    <tr>\n",
       "      <th>12</th>\n",
       "      <td>Teams.exe</td>\n",
       "      <td>15560</td>\n",
       "      <td>547</td>\n",
       "    </tr>\n",
       "    <tr>\n",
       "      <th>13</th>\n",
       "      <td>WUDFHost.exe</td>\n",
       "      <td>1528</td>\n",
       "      <td>24587</td>\n",
       "    </tr>\n",
       "  </tbody>\n",
       "</table>\n",
       "</div>"
      ],
      "text/plain": [
       "                    image    pid total_byte_per_second\n",
       "0              chrome.exe   5448                  6278\n",
       "1              chrome.exe  13324                  4940\n",
       "2               EXCEL.EXE  12132                 71807\n",
       "3   Grammarly.Desktop.exe  19180                  6729\n",
       "4      msedgewebview2.exe  20716                  8799\n",
       "5      msedgewebview2.exe  14716                  5616\n",
       "6      msedgewebview2.exe  10576                  4681\n",
       "7      msedgewebview2.exe  21848                   964\n",
       "8             MsMpEng.exe   6728                  1457\n",
       "9             OUTLOOK.EXE   7300                  1471\n",
       "10               Registry    172                  5523\n",
       "11                 System      4                232627\n",
       "12              Teams.exe  15560                   547\n",
       "13           WUDFHost.exe   1528                 24587"
      ]
     },
     "execution_count": 32,
     "metadata": {},
     "output_type": "execute_result"
    }
   ],
   "source": [
    "#drop rows that have a blank value in total_byte_per_second\n",
    "df_disk.dropna(subset=['total_byte_per_second'])"
   ]
  },
  {
   "cell_type": "code",
   "execution_count": 33,
   "id": "bd3da3f5-cd50-49a2-a595-1c77b233b52e",
   "metadata": {},
   "outputs": [],
   "source": [
    "# change column data type\n",
    "df_disk[\"total_byte_per_second\"] = pd.to_numeric(df_disk[\"total_byte_per_second\"], errors='coerce')"
   ]
  },
  {
   "cell_type": "code",
   "execution_count": 34,
   "id": "5a4aa646-bb1d-4c8a-9f88-b1cd95225b58",
   "metadata": {},
   "outputs": [
    {
     "name": "stdout",
     "output_type": "stream",
     "text": [
      "<class 'pandas.core.frame.DataFrame'>\n",
      "RangeIndex: 14 entries, 0 to 13\n",
      "Data columns (total 3 columns):\n",
      " #   Column                 Non-Null Count  Dtype \n",
      "---  ------                 --------------  ----- \n",
      " 0   image                  14 non-null     object\n",
      " 1   pid                    14 non-null     int64 \n",
      " 2   total_byte_per_second  14 non-null     int64 \n",
      "dtypes: int64(2), object(1)\n",
      "memory usage: 468.0+ bytes\n"
     ]
    }
   ],
   "source": [
    "#confirm change of data type\n",
    "df_disk.info()"
   ]
  },
  {
   "cell_type": "code",
   "execution_count": 35,
   "id": "7266619f-4d1d-4b38-b037-e705c6a5065e",
   "metadata": {},
   "outputs": [
    {
     "data": {
      "text/html": [
       "<div>\n",
       "<style scoped>\n",
       "    .dataframe tbody tr th:only-of-type {\n",
       "        vertical-align: middle;\n",
       "    }\n",
       "\n",
       "    .dataframe tbody tr th {\n",
       "        vertical-align: top;\n",
       "    }\n",
       "\n",
       "    .dataframe thead th {\n",
       "        text-align: right;\n",
       "    }\n",
       "</style>\n",
       "<table border=\"1\" class=\"dataframe\">\n",
       "  <thead>\n",
       "    <tr style=\"text-align: right;\">\n",
       "      <th></th>\n",
       "      <th>image</th>\n",
       "      <th>pid</th>\n",
       "      <th>total_byte_per_second</th>\n",
       "    </tr>\n",
       "  </thead>\n",
       "  <tbody>\n",
       "    <tr>\n",
       "      <th>0</th>\n",
       "      <td>chrome.exe</td>\n",
       "      <td>5448</td>\n",
       "      <td>6278</td>\n",
       "    </tr>\n",
       "    <tr>\n",
       "      <th>1</th>\n",
       "      <td>chrome.exe</td>\n",
       "      <td>13324</td>\n",
       "      <td>4940</td>\n",
       "    </tr>\n",
       "    <tr>\n",
       "      <th>2</th>\n",
       "      <td>EXCEL.EXE</td>\n",
       "      <td>12132</td>\n",
       "      <td>71807</td>\n",
       "    </tr>\n",
       "    <tr>\n",
       "      <th>3</th>\n",
       "      <td>Grammarly.Desktop.exe</td>\n",
       "      <td>19180</td>\n",
       "      <td>6729</td>\n",
       "    </tr>\n",
       "    <tr>\n",
       "      <th>4</th>\n",
       "      <td>msedgewebview2.exe</td>\n",
       "      <td>20716</td>\n",
       "      <td>8799</td>\n",
       "    </tr>\n",
       "  </tbody>\n",
       "</table>\n",
       "</div>"
      ],
      "text/plain": [
       "                   image    pid  total_byte_per_second\n",
       "0             chrome.exe   5448                   6278\n",
       "1             chrome.exe  13324                   4940\n",
       "2              EXCEL.EXE  12132                  71807\n",
       "3  Grammarly.Desktop.exe  19180                   6729\n",
       "4     msedgewebview2.exe  20716                   8799"
      ]
     },
     "execution_count": 35,
     "metadata": {},
     "output_type": "execute_result"
    }
   ],
   "source": [
    "df_disk.head()"
   ]
  },
  {
   "cell_type": "code",
   "execution_count": 36,
   "id": "50664004-97f4-4f5e-b47b-b4c1d75cc875",
   "metadata": {},
   "outputs": [
    {
     "data": {
      "text/html": [
       "<div>\n",
       "<style scoped>\n",
       "    .dataframe tbody tr th:only-of-type {\n",
       "        vertical-align: middle;\n",
       "    }\n",
       "\n",
       "    .dataframe tbody tr th {\n",
       "        vertical-align: top;\n",
       "    }\n",
       "\n",
       "    .dataframe thead th {\n",
       "        text-align: right;\n",
       "    }\n",
       "</style>\n",
       "<table border=\"1\" class=\"dataframe\">\n",
       "  <thead>\n",
       "    <tr style=\"text-align: right;\">\n",
       "      <th></th>\n",
       "      <th>image</th>\n",
       "      <th>pid</th>\n",
       "      <th>working_set_kb</th>\n",
       "    </tr>\n",
       "  </thead>\n",
       "  <tbody>\n",
       "    <tr>\n",
       "      <th>0</th>\n",
       "      <td>AcrobatNotificationClient.exe</td>\n",
       "      <td>18096</td>\n",
       "      <td>3,632</td>\n",
       "    </tr>\n",
       "    <tr>\n",
       "      <th>1</th>\n",
       "      <td>Adobe Crash Processor.exe</td>\n",
       "      <td>7856</td>\n",
       "      <td>15,252</td>\n",
       "    </tr>\n",
       "    <tr>\n",
       "      <th>2</th>\n",
       "      <td>Adobe Desktop Service.exe</td>\n",
       "      <td>6640</td>\n",
       "      <td>85,504</td>\n",
       "    </tr>\n",
       "    <tr>\n",
       "      <th>3</th>\n",
       "      <td>AdobeCollabSync.exe</td>\n",
       "      <td>17928</td>\n",
       "      <td>20,384</td>\n",
       "    </tr>\n",
       "    <tr>\n",
       "      <th>4</th>\n",
       "      <td>AdobeCollabSync.exe</td>\n",
       "      <td>16808</td>\n",
       "      <td>16,628</td>\n",
       "    </tr>\n",
       "  </tbody>\n",
       "</table>\n",
       "</div>"
      ],
      "text/plain": [
       "                           image    pid working_set_kb\n",
       "0  AcrobatNotificationClient.exe  18096          3,632\n",
       "1      Adobe Crash Processor.exe   7856         15,252\n",
       "2      Adobe Desktop Service.exe   6640         85,504\n",
       "3            AdobeCollabSync.exe  17928         20,384\n",
       "4            AdobeCollabSync.exe  16808         16,628"
      ]
     },
     "execution_count": 36,
     "metadata": {},
     "output_type": "execute_result"
    }
   ],
   "source": [
    "#examine working_set_kb\n",
    "df_memory.head()"
   ]
  },
  {
   "cell_type": "code",
   "execution_count": 37,
   "id": "15ae2b11-c52f-4d1d-95b7-5848cd172508",
   "metadata": {},
   "outputs": [
    {
     "name": "stdout",
     "output_type": "stream",
     "text": [
      "<class 'pandas.core.frame.DataFrame'>\n",
      "RangeIndex: 306 entries, 0 to 305\n",
      "Data columns (total 3 columns):\n",
      " #   Column          Non-Null Count  Dtype \n",
      "---  ------          --------------  ----- \n",
      " 0   image           306 non-null    object\n",
      " 1   pid             306 non-null    int64 \n",
      " 2   working_set_kb  306 non-null    object\n",
      "dtypes: int64(1), object(2)\n",
      "memory usage: 7.3+ KB\n"
     ]
    }
   ],
   "source": [
    "#display info for df memory\n",
    "df_memory.info()"
   ]
  },
  {
   "cell_type": "code",
   "execution_count": 38,
   "id": "74b0e438-3cdd-4d51-bd43-0ecd2710ccab",
   "metadata": {},
   "outputs": [],
   "source": [
    "#remove commas from working_set_kb column \n",
    "df_memory[\"working_set_kb\"] = df_memory[\"working_set_kb\"].replace(',', '', regex=True)"
   ]
  },
  {
   "cell_type": "code",
   "execution_count": 39,
   "id": "abf30bcd-7cd5-47ea-99f6-0a685fe388ab",
   "metadata": {},
   "outputs": [
    {
     "data": {
      "text/html": [
       "<div>\n",
       "<style scoped>\n",
       "    .dataframe tbody tr th:only-of-type {\n",
       "        vertical-align: middle;\n",
       "    }\n",
       "\n",
       "    .dataframe tbody tr th {\n",
       "        vertical-align: top;\n",
       "    }\n",
       "\n",
       "    .dataframe thead th {\n",
       "        text-align: right;\n",
       "    }\n",
       "</style>\n",
       "<table border=\"1\" class=\"dataframe\">\n",
       "  <thead>\n",
       "    <tr style=\"text-align: right;\">\n",
       "      <th></th>\n",
       "      <th>image</th>\n",
       "      <th>pid</th>\n",
       "      <th>working_set_kb</th>\n",
       "    </tr>\n",
       "  </thead>\n",
       "  <tbody>\n",
       "    <tr>\n",
       "      <th>0</th>\n",
       "      <td>AcrobatNotificationClient.exe</td>\n",
       "      <td>18096</td>\n",
       "      <td>3632</td>\n",
       "    </tr>\n",
       "    <tr>\n",
       "      <th>1</th>\n",
       "      <td>Adobe Crash Processor.exe</td>\n",
       "      <td>7856</td>\n",
       "      <td>15252</td>\n",
       "    </tr>\n",
       "    <tr>\n",
       "      <th>2</th>\n",
       "      <td>Adobe Desktop Service.exe</td>\n",
       "      <td>6640</td>\n",
       "      <td>85504</td>\n",
       "    </tr>\n",
       "    <tr>\n",
       "      <th>3</th>\n",
       "      <td>AdobeCollabSync.exe</td>\n",
       "      <td>17928</td>\n",
       "      <td>20384</td>\n",
       "    </tr>\n",
       "    <tr>\n",
       "      <th>4</th>\n",
       "      <td>AdobeCollabSync.exe</td>\n",
       "      <td>16808</td>\n",
       "      <td>16628</td>\n",
       "    </tr>\n",
       "  </tbody>\n",
       "</table>\n",
       "</div>"
      ],
      "text/plain": [
       "                           image    pid working_set_kb\n",
       "0  AcrobatNotificationClient.exe  18096           3632\n",
       "1      Adobe Crash Processor.exe   7856          15252\n",
       "2      Adobe Desktop Service.exe   6640          85504\n",
       "3            AdobeCollabSync.exe  17928          20384\n",
       "4            AdobeCollabSync.exe  16808          16628"
      ]
     },
     "execution_count": 39,
     "metadata": {},
     "output_type": "execute_result"
    }
   ],
   "source": [
    "#confirm removal\n",
    "df_memory.head()"
   ]
  },
  {
   "cell_type": "code",
   "execution_count": 40,
   "id": "fc489d85-f973-4148-bb08-025847c1cfe0",
   "metadata": {},
   "outputs": [],
   "source": [
    "# remove invalid characters that are not numbers from working_set_kb\n",
    "df_memory[\"working_set_kb\"] = df_memory[\"working_set_kb\"].replace('[^0-9]', np.nan, regex=True)"
   ]
  },
  {
   "cell_type": "code",
   "execution_count": 41,
   "id": "1bd72c68-3097-4a39-8615-0495d51d61e1",
   "metadata": {},
   "outputs": [
    {
     "name": "stdout",
     "output_type": "stream",
     "text": [
      "<class 'pandas.core.frame.DataFrame'>\n",
      "RangeIndex: 306 entries, 0 to 305\n",
      "Data columns (total 3 columns):\n",
      " #   Column          Non-Null Count  Dtype \n",
      "---  ------          --------------  ----- \n",
      " 0   image           306 non-null    object\n",
      " 1   pid             306 non-null    int64 \n",
      " 2   working_set_kb  306 non-null    object\n",
      "dtypes: int64(1), object(2)\n",
      "memory usage: 7.3+ KB\n"
     ]
    }
   ],
   "source": [
    "df_memory.info()"
   ]
  },
  {
   "cell_type": "code",
   "execution_count": 42,
   "id": "8b23bdff-c305-4457-aea8-a3a442095603",
   "metadata": {},
   "outputs": [
    {
     "data": {
      "text/html": [
       "<div>\n",
       "<style scoped>\n",
       "    .dataframe tbody tr th:only-of-type {\n",
       "        vertical-align: middle;\n",
       "    }\n",
       "\n",
       "    .dataframe tbody tr th {\n",
       "        vertical-align: top;\n",
       "    }\n",
       "\n",
       "    .dataframe thead th {\n",
       "        text-align: right;\n",
       "    }\n",
       "</style>\n",
       "<table border=\"1\" class=\"dataframe\">\n",
       "  <thead>\n",
       "    <tr style=\"text-align: right;\">\n",
       "      <th></th>\n",
       "      <th>image</th>\n",
       "      <th>pid</th>\n",
       "      <th>working_set_kb</th>\n",
       "    </tr>\n",
       "  </thead>\n",
       "  <tbody>\n",
       "    <tr>\n",
       "      <th>0</th>\n",
       "      <td>AcrobatNotificationClient.exe</td>\n",
       "      <td>18096</td>\n",
       "      <td>3632</td>\n",
       "    </tr>\n",
       "    <tr>\n",
       "      <th>1</th>\n",
       "      <td>Adobe Crash Processor.exe</td>\n",
       "      <td>7856</td>\n",
       "      <td>15252</td>\n",
       "    </tr>\n",
       "    <tr>\n",
       "      <th>2</th>\n",
       "      <td>Adobe Desktop Service.exe</td>\n",
       "      <td>6640</td>\n",
       "      <td>85504</td>\n",
       "    </tr>\n",
       "    <tr>\n",
       "      <th>3</th>\n",
       "      <td>AdobeCollabSync.exe</td>\n",
       "      <td>17928</td>\n",
       "      <td>20384</td>\n",
       "    </tr>\n",
       "    <tr>\n",
       "      <th>4</th>\n",
       "      <td>AdobeCollabSync.exe</td>\n",
       "      <td>16808</td>\n",
       "      <td>16628</td>\n",
       "    </tr>\n",
       "    <tr>\n",
       "      <th>...</th>\n",
       "      <td>...</td>\n",
       "      <td>...</td>\n",
       "      <td>...</td>\n",
       "    </tr>\n",
       "    <tr>\n",
       "      <th>301</th>\n",
       "      <td>WUDFHost.exe</td>\n",
       "      <td>1528</td>\n",
       "      <td>19504</td>\n",
       "    </tr>\n",
       "    <tr>\n",
       "      <th>302</th>\n",
       "      <td>WUDFHost.exe</td>\n",
       "      <td>1804</td>\n",
       "      <td>13892</td>\n",
       "    </tr>\n",
       "    <tr>\n",
       "      <th>303</th>\n",
       "      <td>WUDFHost.exe</td>\n",
       "      <td>1960</td>\n",
       "      <td>7184</td>\n",
       "    </tr>\n",
       "    <tr>\n",
       "      <th>304</th>\n",
       "      <td>WUDFHost.exe</td>\n",
       "      <td>1916</td>\n",
       "      <td>5744</td>\n",
       "    </tr>\n",
       "    <tr>\n",
       "      <th>305</th>\n",
       "      <td>WUDFHost.exe</td>\n",
       "      <td>3804</td>\n",
       "      <td>8004</td>\n",
       "    </tr>\n",
       "  </tbody>\n",
       "</table>\n",
       "<p>306 rows × 3 columns</p>\n",
       "</div>"
      ],
      "text/plain": [
       "                             image    pid working_set_kb\n",
       "0    AcrobatNotificationClient.exe  18096           3632\n",
       "1        Adobe Crash Processor.exe   7856          15252\n",
       "2        Adobe Desktop Service.exe   6640          85504\n",
       "3              AdobeCollabSync.exe  17928          20384\n",
       "4              AdobeCollabSync.exe  16808          16628\n",
       "..                             ...    ...            ...\n",
       "301                   WUDFHost.exe   1528          19504\n",
       "302                   WUDFHost.exe   1804          13892\n",
       "303                   WUDFHost.exe   1960           7184\n",
       "304                   WUDFHost.exe   1916           5744\n",
       "305                   WUDFHost.exe   3804           8004\n",
       "\n",
       "[306 rows x 3 columns]"
      ]
     },
     "execution_count": 42,
     "metadata": {},
     "output_type": "execute_result"
    }
   ],
   "source": [
    "#drop rows that have a blank value in working_set_kb\n",
    "df_memory.dropna(subset=[\"working_set_kb\"])"
   ]
  },
  {
   "cell_type": "code",
   "execution_count": 43,
   "id": "87357a0d-e341-44ef-8a7f-8d41c94ca0dc",
   "metadata": {},
   "outputs": [],
   "source": [
    "#change datatype of working_set_kb column\n",
    "df_memory[\"working_set_kb\"] = pd.to_numeric(df_memory[\"working_set_kb\"], errors='coerce')"
   ]
  },
  {
   "cell_type": "code",
   "execution_count": 44,
   "id": "916b76a7-17d7-40d3-b82e-48763c79dfbc",
   "metadata": {},
   "outputs": [
    {
     "name": "stdout",
     "output_type": "stream",
     "text": [
      "<class 'pandas.core.frame.DataFrame'>\n",
      "RangeIndex: 306 entries, 0 to 305\n",
      "Data columns (total 3 columns):\n",
      " #   Column          Non-Null Count  Dtype \n",
      "---  ------          --------------  ----- \n",
      " 0   image           306 non-null    object\n",
      " 1   pid             306 non-null    int64 \n",
      " 2   working_set_kb  306 non-null    int64 \n",
      "dtypes: int64(2), object(1)\n",
      "memory usage: 7.3+ KB\n"
     ]
    }
   ],
   "source": [
    "#confirm datatype change\n",
    "df_memory.info()"
   ]
  },
  {
   "cell_type": "code",
   "execution_count": 45,
   "id": "38832db6-4d4e-4ba0-8c05-fb41596f12ec",
   "metadata": {},
   "outputs": [
    {
     "data": {
      "text/html": [
       "<div>\n",
       "<style scoped>\n",
       "    .dataframe tbody tr th:only-of-type {\n",
       "        vertical-align: middle;\n",
       "    }\n",
       "\n",
       "    .dataframe tbody tr th {\n",
       "        vertical-align: top;\n",
       "    }\n",
       "\n",
       "    .dataframe thead th {\n",
       "        text-align: right;\n",
       "    }\n",
       "</style>\n",
       "<table border=\"1\" class=\"dataframe\">\n",
       "  <thead>\n",
       "    <tr style=\"text-align: right;\">\n",
       "      <th></th>\n",
       "      <th>image</th>\n",
       "      <th>pid</th>\n",
       "      <th>working_set_kb</th>\n",
       "    </tr>\n",
       "  </thead>\n",
       "  <tbody>\n",
       "    <tr>\n",
       "      <th>0</th>\n",
       "      <td>AcrobatNotificationClient.exe</td>\n",
       "      <td>18096</td>\n",
       "      <td>3632</td>\n",
       "    </tr>\n",
       "    <tr>\n",
       "      <th>1</th>\n",
       "      <td>Adobe Crash Processor.exe</td>\n",
       "      <td>7856</td>\n",
       "      <td>15252</td>\n",
       "    </tr>\n",
       "    <tr>\n",
       "      <th>2</th>\n",
       "      <td>Adobe Desktop Service.exe</td>\n",
       "      <td>6640</td>\n",
       "      <td>85504</td>\n",
       "    </tr>\n",
       "    <tr>\n",
       "      <th>3</th>\n",
       "      <td>AdobeCollabSync.exe</td>\n",
       "      <td>17928</td>\n",
       "      <td>20384</td>\n",
       "    </tr>\n",
       "    <tr>\n",
       "      <th>4</th>\n",
       "      <td>AdobeCollabSync.exe</td>\n",
       "      <td>16808</td>\n",
       "      <td>16628</td>\n",
       "    </tr>\n",
       "  </tbody>\n",
       "</table>\n",
       "</div>"
      ],
      "text/plain": [
       "                           image    pid  working_set_kb\n",
       "0  AcrobatNotificationClient.exe  18096            3632\n",
       "1      Adobe Crash Processor.exe   7856           15252\n",
       "2      Adobe Desktop Service.exe   6640           85504\n",
       "3            AdobeCollabSync.exe  17928           20384\n",
       "4            AdobeCollabSync.exe  16808           16628"
      ]
     },
     "execution_count": 45,
     "metadata": {},
     "output_type": "execute_result"
    }
   ],
   "source": [
    "#display results\n",
    "df_memory.head()"
   ]
  },
  {
   "cell_type": "markdown",
   "id": "90df9d5d",
   "metadata": {},
   "source": [
    "### Data Aggregation"
   ]
  },
  {
   "cell_type": "code",
   "execution_count": 46,
   "id": "db6670d2-fdb5-44ef-8f4f-9fd4fef1a0e9",
   "metadata": {},
   "outputs": [],
   "source": [
    "#code aggregates the data based on the requirements provided\n",
    "def aggregate_data(dfx):\n",
    "    sum_column_rename = ''\n",
    "    if 'threads' in dfx.columns:\n",
    "        sum_column = 'threads'\n",
    "        sum_column_rename = 'threads_sum'\n",
    "    elif 'total_byte_per_second' in dfx.columns:\n",
    "        sum_column = 'total_byte_per_second'\n",
    "        sum_column_rename = 'total_byte_sum'\n",
    "    elif 'working_set_kb' in dfx.columns:\n",
    "        sum_column = 'working_set_kb'\n",
    "        sum_column_rename = 'working_set_sum'\n",
    "    else:\n",
    "        raise ValueError(\"No aggregate column recognized\")\n",
    "\n",
    "    result_df = dfx.groupby('image').agg(\n",
    "        process_qty=('image', 'size'),\n",
    "        sum_value=(sum_column, 'sum')\n",
    "    ).reset_index().rename(columns={'image': 'image_name', 'sum_value': sum_column_rename})\n",
    "    \n",
    "    return result_df"
   ]
  },
  {
   "cell_type": "code",
   "execution_count": 47,
   "id": "1908baed-c2ce-4c01-a8a6-e358ef84c0d9",
   "metadata": {},
   "outputs": [],
   "source": [
    "# calling aggregate_data and assigning the result for df_cpu\n",
    "df_cpu_sum = aggregate_data(df_cpu)"
   ]
  },
  {
   "cell_type": "code",
   "execution_count": 48,
   "id": "c1508970-b6cf-4cad-8db1-4e04ed3fa0ea",
   "metadata": {},
   "outputs": [
    {
     "name": "stdout",
     "output_type": "stream",
     "text": [
      "                      image_name  process_qty  threads_sum\n",
      "0  AcrobatNotificationClient.exe            1           13\n",
      "1      Adobe Crash Processor.exe            1            4\n",
      "2      Adobe Desktop Service.exe            1           47\n",
      "3            AdobeCollabSync.exe            2           24\n",
      "4             AdobeIPCBroker.exe            1           26\n",
      "5    AdobeNotificationClient.exe            1           12\n",
      "6         AdobeUpdateService.exe            1            5\n",
      "7             AggregatorHost.exe            1            1\n",
      "8       ApplicationFrameHost.exe            1            6\n",
      "9                  CCLibrary.exe            1            1\n"
     ]
    }
   ],
   "source": [
    "print(df_cpu_sum.head(10))"
   ]
  },
  {
   "cell_type": "code",
   "execution_count": 49,
   "id": "7935d254-5da8-46ac-8449-9416d45a68ab",
   "metadata": {},
   "outputs": [
    {
     "name": "stdout",
     "output_type": "stream",
     "text": [
      "                     image_name  process_qty  threads_sum\n",
      "140  svchost.exe (osprivacy -p)            1            4\n",
      "141       svchost.exe (smphost)            1            6\n",
      "142     svchost.exe (utcsvc -p)            1           12\n",
      "143               taskhostw.exe            1            8\n",
      "144                  uihost.exe            1           63\n",
      "145                unsecapp.exe            1            2\n",
      "146                vpnagent.exe            1            7\n",
      "147                 wininit.exe            1            2\n",
      "148                winlogon.exe            1            3\n",
      "149                 wlanext.exe            1            2\n"
     ]
    }
   ],
   "source": [
    "print(df_cpu_sum.tail(10))"
   ]
  },
  {
   "cell_type": "code",
   "execution_count": 50,
   "id": "ddc00dba-51fd-474f-8693-0e5503a5d304",
   "metadata": {},
   "outputs": [],
   "source": [
    "# calling aggregate_data and assigning the result for df_disk\n",
    "df_disk_sum = aggregate_data(df_disk)"
   ]
  },
  {
   "cell_type": "code",
   "execution_count": 51,
   "id": "336f71b9-4e85-4867-9e83-28b903516eb6",
   "metadata": {},
   "outputs": [
    {
     "name": "stdout",
     "output_type": "stream",
     "text": [
      "              image_name  process_qty  total_byte_sum\n",
      "0              EXCEL.EXE            1           71807\n",
      "1  Grammarly.Desktop.exe            1            6729\n",
      "2            MsMpEng.exe            1            1457\n",
      "3            OUTLOOK.EXE            1            1471\n",
      "4               Registry            1            5523\n",
      "5                 System            1          232627\n",
      "6              Teams.exe            1             547\n",
      "7           WUDFHost.exe            1           24587\n",
      "8             chrome.exe            2           11218\n",
      "9     msedgewebview2.exe            4           20060\n"
     ]
    }
   ],
   "source": [
    "print(df_disk_sum.head(10))"
   ]
  },
  {
   "cell_type": "code",
   "execution_count": 52,
   "id": "d4e76b9d-66da-4f69-81e8-771cb33e8ddd",
   "metadata": {},
   "outputs": [
    {
     "name": "stdout",
     "output_type": "stream",
     "text": [
      "              image_name  process_qty  total_byte_sum\n",
      "0              EXCEL.EXE            1           71807\n",
      "1  Grammarly.Desktop.exe            1            6729\n",
      "2            MsMpEng.exe            1            1457\n",
      "3            OUTLOOK.EXE            1            1471\n",
      "4               Registry            1            5523\n",
      "5                 System            1          232627\n",
      "6              Teams.exe            1             547\n",
      "7           WUDFHost.exe            1           24587\n",
      "8             chrome.exe            2           11218\n",
      "9     msedgewebview2.exe            4           20060\n"
     ]
    }
   ],
   "source": [
    "print(df_disk_sum.tail(10))"
   ]
  },
  {
   "cell_type": "code",
   "execution_count": 53,
   "id": "04c5a1e8-6b1d-460a-885a-fd9bc3d2da14",
   "metadata": {},
   "outputs": [],
   "source": [
    "# calling aggregate_data and assigning the result for df_memory\n",
    "df_memory_sum = aggregate_data(df_memory)"
   ]
  },
  {
   "cell_type": "code",
   "execution_count": 54,
   "id": "4e4a9a73-1940-45d0-8349-bb4878ef8f10",
   "metadata": {},
   "outputs": [
    {
     "name": "stdout",
     "output_type": "stream",
     "text": [
      "                      image_name  process_qty  working_set_sum\n",
      "0  AcrobatNotificationClient.exe            1             3632\n",
      "1      Adobe Crash Processor.exe            1            15252\n",
      "2      Adobe Desktop Service.exe            1            85504\n",
      "3            AdobeCollabSync.exe            2            37012\n",
      "4             AdobeIPCBroker.exe            1            10568\n",
      "5    AdobeNotificationClient.exe            1             2836\n",
      "6         AdobeUpdateService.exe            1             9580\n",
      "7             AggregatorHost.exe            1             7420\n",
      "8       ApplicationFrameHost.exe            1            35988\n",
      "9                  CCLibrary.exe            1             2948\n"
     ]
    }
   ],
   "source": [
    "print(df_memory_sum.head(10))"
   ]
  },
  {
   "cell_type": "code",
   "execution_count": 55,
   "id": "549c5068-ea5a-4adb-91bd-86b067190a33",
   "metadata": {},
   "outputs": [
    {
     "name": "stdout",
     "output_type": "stream",
     "text": [
      "                     image_name  process_qty  working_set_sum\n",
      "141  svchost.exe (osprivacy -p)            1            13812\n",
      "142       svchost.exe (smphost)            1            16624\n",
      "143     svchost.exe (utcsvc -p)            1            30104\n",
      "144               taskhostw.exe            1            19400\n",
      "145                  uihost.exe            1            10472\n",
      "146                unsecapp.exe            1             7528\n",
      "147                vpnagent.exe            1            26192\n",
      "148                 wininit.exe            1             6264\n",
      "149                winlogon.exe            1            12320\n",
      "150                 wlanext.exe            1             6764\n"
     ]
    }
   ],
   "source": [
    "print(df_memory_sum.tail(10))"
   ]
  },
  {
   "cell_type": "markdown",
   "id": "919d504b",
   "metadata": {},
   "source": [
    "### Merging Data"
   ]
  },
  {
   "cell_type": "code",
   "execution_count": 56,
   "id": "5ee2192e",
   "metadata": {},
   "outputs": [],
   "source": [
    "# merge df_cpu_sum and df_disk_sum with inner join on image_name\n",
    "df_new = pd.merge(df_cpu_sum, df_disk_sum, on='image_name', how='inner')"
   ]
  },
  {
   "cell_type": "code",
   "execution_count": 57,
   "id": "254e6d66-af7c-4959-9143-bcd234c8ab2f",
   "metadata": {},
   "outputs": [
    {
     "data": {
      "text/html": [
       "<div>\n",
       "<style scoped>\n",
       "    .dataframe tbody tr th:only-of-type {\n",
       "        vertical-align: middle;\n",
       "    }\n",
       "\n",
       "    .dataframe tbody tr th {\n",
       "        vertical-align: top;\n",
       "    }\n",
       "\n",
       "    .dataframe thead th {\n",
       "        text-align: right;\n",
       "    }\n",
       "</style>\n",
       "<table border=\"1\" class=\"dataframe\">\n",
       "  <thead>\n",
       "    <tr style=\"text-align: right;\">\n",
       "      <th></th>\n",
       "      <th>image_name</th>\n",
       "      <th>process_qty_x</th>\n",
       "      <th>threads_sum</th>\n",
       "      <th>process_qty_y</th>\n",
       "      <th>total_byte_sum</th>\n",
       "    </tr>\n",
       "  </thead>\n",
       "  <tbody>\n",
       "    <tr>\n",
       "      <th>0</th>\n",
       "      <td>EXCEL.EXE</td>\n",
       "      <td>1</td>\n",
       "      <td>64</td>\n",
       "      <td>1</td>\n",
       "      <td>71807</td>\n",
       "    </tr>\n",
       "    <tr>\n",
       "      <th>1</th>\n",
       "      <td>Grammarly.Desktop.exe</td>\n",
       "      <td>1</td>\n",
       "      <td>48</td>\n",
       "      <td>1</td>\n",
       "      <td>6729</td>\n",
       "    </tr>\n",
       "    <tr>\n",
       "      <th>2</th>\n",
       "      <td>MsMpEng.exe</td>\n",
       "      <td>1</td>\n",
       "      <td>66</td>\n",
       "      <td>1</td>\n",
       "      <td>1457</td>\n",
       "    </tr>\n",
       "    <tr>\n",
       "      <th>3</th>\n",
       "      <td>OUTLOOK.EXE</td>\n",
       "      <td>1</td>\n",
       "      <td>89</td>\n",
       "      <td>1</td>\n",
       "      <td>1471</td>\n",
       "    </tr>\n",
       "    <tr>\n",
       "      <th>4</th>\n",
       "      <td>Registry</td>\n",
       "      <td>1</td>\n",
       "      <td>4</td>\n",
       "      <td>1</td>\n",
       "      <td>5523</td>\n",
       "    </tr>\n",
       "  </tbody>\n",
       "</table>\n",
       "</div>"
      ],
      "text/plain": [
       "              image_name  process_qty_x  threads_sum  process_qty_y  \\\n",
       "0              EXCEL.EXE              1           64              1   \n",
       "1  Grammarly.Desktop.exe              1           48              1   \n",
       "2            MsMpEng.exe              1           66              1   \n",
       "3            OUTLOOK.EXE              1           89              1   \n",
       "4               Registry              1            4              1   \n",
       "\n",
       "   total_byte_sum  \n",
       "0           71807  \n",
       "1            6729  \n",
       "2            1457  \n",
       "3            1471  \n",
       "4            5523  "
      ]
     },
     "execution_count": 57,
     "metadata": {},
     "output_type": "execute_result"
    }
   ],
   "source": [
    "df_new.head()"
   ]
  },
  {
   "cell_type": "code",
   "execution_count": 58,
   "id": "1322167a-c525-41e0-a4f1-1bcef7b39d5d",
   "metadata": {},
   "outputs": [],
   "source": [
    "# merge df_new and df_memory_sum with inner join on image_name\n",
    "df_new = pd.merge(df_new, df_memory_sum, on='image_name', how='inner')"
   ]
  },
  {
   "cell_type": "code",
   "execution_count": 59,
   "id": "ad32c0e0-6454-4b1c-b97c-ae70bb797f6b",
   "metadata": {},
   "outputs": [
    {
     "data": {
      "text/html": [
       "<div>\n",
       "<style scoped>\n",
       "    .dataframe tbody tr th:only-of-type {\n",
       "        vertical-align: middle;\n",
       "    }\n",
       "\n",
       "    .dataframe tbody tr th {\n",
       "        vertical-align: top;\n",
       "    }\n",
       "\n",
       "    .dataframe thead th {\n",
       "        text-align: right;\n",
       "    }\n",
       "</style>\n",
       "<table border=\"1\" class=\"dataframe\">\n",
       "  <thead>\n",
       "    <tr style=\"text-align: right;\">\n",
       "      <th></th>\n",
       "      <th>image_name</th>\n",
       "      <th>process_qty_x</th>\n",
       "      <th>threads_sum</th>\n",
       "      <th>process_qty_y</th>\n",
       "      <th>total_byte_sum</th>\n",
       "      <th>process_qty</th>\n",
       "      <th>working_set_sum</th>\n",
       "    </tr>\n",
       "  </thead>\n",
       "  <tbody>\n",
       "    <tr>\n",
       "      <th>0</th>\n",
       "      <td>EXCEL.EXE</td>\n",
       "      <td>1</td>\n",
       "      <td>64</td>\n",
       "      <td>1</td>\n",
       "      <td>71807</td>\n",
       "      <td>1</td>\n",
       "      <td>298380</td>\n",
       "    </tr>\n",
       "    <tr>\n",
       "      <th>1</th>\n",
       "      <td>Grammarly.Desktop.exe</td>\n",
       "      <td>1</td>\n",
       "      <td>48</td>\n",
       "      <td>1</td>\n",
       "      <td>6729</td>\n",
       "      <td>1</td>\n",
       "      <td>273436</td>\n",
       "    </tr>\n",
       "    <tr>\n",
       "      <th>2</th>\n",
       "      <td>MsMpEng.exe</td>\n",
       "      <td>1</td>\n",
       "      <td>66</td>\n",
       "      <td>1</td>\n",
       "      <td>1457</td>\n",
       "      <td>1</td>\n",
       "      <td>210204</td>\n",
       "    </tr>\n",
       "    <tr>\n",
       "      <th>3</th>\n",
       "      <td>OUTLOOK.EXE</td>\n",
       "      <td>1</td>\n",
       "      <td>89</td>\n",
       "      <td>1</td>\n",
       "      <td>1471</td>\n",
       "      <td>1</td>\n",
       "      <td>447040</td>\n",
       "    </tr>\n",
       "    <tr>\n",
       "      <th>4</th>\n",
       "      <td>Registry</td>\n",
       "      <td>1</td>\n",
       "      <td>4</td>\n",
       "      <td>1</td>\n",
       "      <td>5523</td>\n",
       "      <td>1</td>\n",
       "      <td>40864</td>\n",
       "    </tr>\n",
       "  </tbody>\n",
       "</table>\n",
       "</div>"
      ],
      "text/plain": [
       "              image_name  process_qty_x  threads_sum  process_qty_y  \\\n",
       "0              EXCEL.EXE              1           64              1   \n",
       "1  Grammarly.Desktop.exe              1           48              1   \n",
       "2            MsMpEng.exe              1           66              1   \n",
       "3            OUTLOOK.EXE              1           89              1   \n",
       "4               Registry              1            4              1   \n",
       "\n",
       "   total_byte_sum  process_qty  working_set_sum  \n",
       "0           71807            1           298380  \n",
       "1            6729            1           273436  \n",
       "2            1457            1           210204  \n",
       "3            1471            1           447040  \n",
       "4            5523            1            40864  "
      ]
     },
     "execution_count": 59,
     "metadata": {},
     "output_type": "execute_result"
    }
   ],
   "source": [
    "df_new.head()"
   ]
  },
  {
   "cell_type": "markdown",
   "id": "8e67a348",
   "metadata": {},
   "source": [
    "### Filtering Data"
   ]
  },
  {
   "cell_type": "code",
   "execution_count": 60,
   "id": "35dffad5-3660-4eca-9d52-b35dd2722848",
   "metadata": {},
   "outputs": [],
   "source": [
    "# filter df_new to obtain image_name that had working_set_sum > 200,000\n",
    "high_memory_image = df_new[df_new[\"working_set_sum\"] > 200000]"
   ]
  },
  {
   "cell_type": "raw",
   "id": "6b1e89c9-9397-43b5-8e1a-d6fcec22ab80",
   "metadata": {},
   "source": [
    "print(high_memory_image['image_name'])"
   ]
  },
  {
   "cell_type": "code",
   "execution_count": 61,
   "id": "1577a033-4047-4c1f-bc4e-9e3017109b91",
   "metadata": {},
   "outputs": [],
   "source": [
    "# filter df_new to obtain image_name that had thread_sum > 200\n",
    "high_thread_image = df_new[df_new[\"threads_sum\"] > 200]"
   ]
  },
  {
   "cell_type": "code",
   "execution_count": 62,
   "id": "c48f08e3-1fd7-4baa-8391-8f94b5d916bf",
   "metadata": {},
   "outputs": [
    {
     "name": "stdout",
     "output_type": "stream",
     "text": [
      "5                System\n",
      "6             Teams.exe\n",
      "8            chrome.exe\n",
      "9    msedgewebview2.exe\n",
      "Name: image_name, dtype: object\n"
     ]
    }
   ],
   "source": [
    "print(high_thread_image['image_name'])"
   ]
  },
  {
   "cell_type": "code",
   "execution_count": 63,
   "id": "4be8e545-0115-44c6-8eb9-71a814fc2900",
   "metadata": {},
   "outputs": [],
   "source": [
    "# filter df_new to obtain image_name that had working_set_sum > 200,000, threads_sum < 50  and total_byte_sum < 7000\n",
    "hi_mem_low_thread_low_io = df_new[(df_new[\"working_set_sum\"] > 200000) & (df_new[\"threads_sum\"] < 50) & (df_new[\"total_byte_sum\"] < 7000)]"
   ]
  },
  {
   "cell_type": "code",
   "execution_count": 64,
   "id": "aea7cfcc-bc48-4fd6-a027-c46e3fede9e0",
   "metadata": {},
   "outputs": [
    {
     "name": "stdout",
     "output_type": "stream",
     "text": [
      "1    Grammarly.Desktop.exe\n",
      "Name: image_name, dtype: object\n"
     ]
    }
   ],
   "source": [
    "print(hi_mem_low_thread_low_io['image_name'])"
   ]
  },
  {
   "cell_type": "code",
   "execution_count": null,
   "id": "e10836d6",
   "metadata": {},
   "outputs": [],
   "source": []
  }
 ],
 "metadata": {
  "kernelspec": {
   "display_name": "Python 3 (ipykernel)",
   "language": "python",
   "name": "python3"
  },
  "language_info": {
   "codemirror_mode": {
    "name": "ipython",
    "version": 3
   },
   "file_extension": ".py",
   "mimetype": "text/x-python",
   "name": "python",
   "nbconvert_exporter": "python",
   "pygments_lexer": "ipython3",
   "version": "3.12.4"
  }
 },
 "nbformat": 4,
 "nbformat_minor": 5
}
