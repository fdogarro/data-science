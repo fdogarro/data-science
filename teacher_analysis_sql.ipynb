{
 "cells": [
  {
   "cell_type": "markdown",
   "id": "7b5169cb-af14-4455-ac0f-3ae1414ef38e",
   "metadata": {},
   "source": [
    "## Teacher Data Analysis with SQL"
   ]
  },
  {
   "cell_type": "code",
   "execution_count": 1,
   "id": "a8464d6c",
   "metadata": {},
   "outputs": [],
   "source": [
    "import pandas as pd\n",
    "import numpy as np\n",
    "import mysql.connector as sq"
   ]
  },
  {
   "cell_type": "code",
   "execution_count": 2,
   "id": "327c0e96",
   "metadata": {},
   "outputs": [
    {
     "name": "stdout",
     "output_type": "stream",
     "text": [
      "<class 'pandas.core.frame.DataFrame'>\n",
      "RangeIndex: 100005 entries, 0 to 100004\n",
      "Data columns (total 16 columns):\n",
      " #   Column               Non-Null Count   Dtype  \n",
      "---  ------               --------------   -----  \n",
      " 0   id                   99998 non-null   float64\n",
      " 1   last_name            100003 non-null  object \n",
      " 2   first_name           100003 non-null  object \n",
      " 3   county               100003 non-null  object \n",
      " 4   district             100003 non-null  object \n",
      " 5   school               100003 non-null  object \n",
      " 6   primary_job          100003 non-null  object \n",
      " 7   fte                  100003 non-null  object \n",
      " 8   salary               99983 non-null   object \n",
      " 9   certificate          100003 non-null  object \n",
      " 10  subcategory          100003 non-null  object \n",
      " 11  teaching_route       100003 non-null  object \n",
      " 12  highly_qualified     100003 non-null  object \n",
      " 13  experience_district  100003 non-null  object \n",
      " 14  experience_nj        100003 non-null  object \n",
      " 15  experience_total     99983 non-null   object \n",
      "dtypes: float64(1), object(15)\n",
      "memory usage: 12.2+ MB\n"
     ]
    }
   ],
   "source": [
    "df = pd.read_csv(\"teachers.csv\", low_memory=False)\n",
    "df.info()"
   ]
  },
  {
   "cell_type": "code",
   "execution_count": 3,
   "id": "0cf108bd",
   "metadata": {},
   "outputs": [],
   "source": [
    "df.dropna(how=\"all\", inplace=True)"
   ]
  },
  {
   "cell_type": "code",
   "execution_count": 4,
   "id": "3c39222a-897a-4ffa-b64f-e3d405031f3c",
   "metadata": {},
   "outputs": [
    {
     "name": "stdout",
     "output_type": "stream",
     "text": [
      "<class 'pandas.core.frame.DataFrame'>\n",
      "Index: 100003 entries, 0 to 100004\n",
      "Data columns (total 16 columns):\n",
      " #   Column               Non-Null Count   Dtype  \n",
      "---  ------               --------------   -----  \n",
      " 0   id                   99998 non-null   float64\n",
      " 1   last_name            100003 non-null  object \n",
      " 2   first_name           100003 non-null  object \n",
      " 3   county               100003 non-null  object \n",
      " 4   district             100003 non-null  object \n",
      " 5   school               100003 non-null  object \n",
      " 6   primary_job          100003 non-null  object \n",
      " 7   fte                  100003 non-null  object \n",
      " 8   salary               99983 non-null   object \n",
      " 9   certificate          100003 non-null  object \n",
      " 10  subcategory          100003 non-null  object \n",
      " 11  teaching_route       100003 non-null  object \n",
      " 12  highly_qualified     100003 non-null  object \n",
      " 13  experience_district  100003 non-null  object \n",
      " 14  experience_nj        100003 non-null  object \n",
      " 15  experience_total     99983 non-null   object \n",
      "dtypes: float64(1), object(15)\n",
      "memory usage: 13.0+ MB\n"
     ]
    }
   ],
   "source": [
    "df.info()"
   ]
  },
  {
   "cell_type": "code",
   "execution_count": 5,
   "id": "2eafd222-d4e1-4610-b028-760678499f24",
   "metadata": {},
   "outputs": [],
   "source": [
    "# identify numerical columns excluding id, remove invalid chars and set to np.nan\n",
    "numerical_cols = ['fte', 'experience_district', 'experience_nj', 'salary', 'experience_total']\n",
    "df[numerical_cols] = df[numerical_cols].replace(r'[^0-9\\.]+', np.nan, regex=True)"
   ]
  },
  {
   "cell_type": "code",
   "execution_count": 6,
   "id": "8aa0e340-3092-486b-946a-f2b77295d733",
   "metadata": {},
   "outputs": [
    {
     "name": "stdout",
     "output_type": "stream",
     "text": [
      "<class 'pandas.core.frame.DataFrame'>\n",
      "Index: 100003 entries, 0 to 100004\n",
      "Data columns (total 16 columns):\n",
      " #   Column               Non-Null Count   Dtype  \n",
      "---  ------               --------------   -----  \n",
      " 0   id                   99998 non-null   float64\n",
      " 1   last_name            100003 non-null  object \n",
      " 2   first_name           100003 non-null  object \n",
      " 3   county               100003 non-null  object \n",
      " 4   district             100003 non-null  object \n",
      " 5   school               100003 non-null  object \n",
      " 6   primary_job          100003 non-null  object \n",
      " 7   fte                  100002 non-null  object \n",
      " 8   salary               99981 non-null   object \n",
      " 9   certificate          100003 non-null  object \n",
      " 10  subcategory          100003 non-null  object \n",
      " 11  teaching_route       100003 non-null  object \n",
      " 12  highly_qualified     100003 non-null  object \n",
      " 13  experience_district  100001 non-null  object \n",
      " 14  experience_nj        100002 non-null  object \n",
      " 15  experience_total     99981 non-null   object \n",
      "dtypes: float64(1), object(15)\n",
      "memory usage: 13.0+ MB\n"
     ]
    }
   ],
   "source": [
    "df.info()"
   ]
  },
  {
   "cell_type": "code",
   "execution_count": 7,
   "id": "f66b1075-a185-4256-84f6-6fb6791c4dda",
   "metadata": {},
   "outputs": [],
   "source": [
    "#drop rows containing nan\n",
    "df.dropna(inplace=True)"
   ]
  },
  {
   "cell_type": "code",
   "execution_count": 8,
   "id": "337ad137-eb80-453b-8e58-2f7fb90e815e",
   "metadata": {},
   "outputs": [
    {
     "name": "stdout",
     "output_type": "stream",
     "text": [
      "<class 'pandas.core.frame.DataFrame'>\n",
      "Index: 99954 entries, 0 to 100004\n",
      "Data columns (total 16 columns):\n",
      " #   Column               Non-Null Count  Dtype  \n",
      "---  ------               --------------  -----  \n",
      " 0   id                   99954 non-null  float64\n",
      " 1   last_name            99954 non-null  object \n",
      " 2   first_name           99954 non-null  object \n",
      " 3   county               99954 non-null  object \n",
      " 4   district             99954 non-null  object \n",
      " 5   school               99954 non-null  object \n",
      " 6   primary_job          99954 non-null  object \n",
      " 7   fte                  99954 non-null  object \n",
      " 8   salary               99954 non-null  object \n",
      " 9   certificate          99954 non-null  object \n",
      " 10  subcategory          99954 non-null  object \n",
      " 11  teaching_route       99954 non-null  object \n",
      " 12  highly_qualified     99954 non-null  object \n",
      " 13  experience_district  99954 non-null  object \n",
      " 14  experience_nj        99954 non-null  object \n",
      " 15  experience_total     99954 non-null  object \n",
      "dtypes: float64(1), object(15)\n",
      "memory usage: 13.0+ MB\n"
     ]
    }
   ],
   "source": [
    "df.info()"
   ]
  },
  {
   "cell_type": "code",
   "execution_count": 9,
   "id": "2ca503be-c61a-43af-9609-4a43ff89957d",
   "metadata": {},
   "outputs": [],
   "source": [
    "# set correct datatype and change vals to numeric\n",
    "df['fte'] = pd.to_numeric(df['fte'], errors='coerce')\n",
    "df['experience_district'] = pd.to_numeric(df['experience_district'], errors='coerce')\n",
    "df['experience_nj'] = pd.to_numeric(df['experience_nj'], errors='coerce')\n",
    "df['salary'] = pd.to_numeric(df['salary'], errors='coerce')\n",
    "df['experience_total'] = pd.to_numeric(df['experience_total'], errors='coerce')"
   ]
  },
  {
   "cell_type": "code",
   "execution_count": 10,
   "id": "a34ae810-2e6f-4796-972b-ff24044122dd",
   "metadata": {},
   "outputs": [
    {
     "data": {
      "text/plain": [
       "id                     float64\n",
       "last_name               object\n",
       "first_name              object\n",
       "county                  object\n",
       "district                object\n",
       "school                  object\n",
       "primary_job             object\n",
       "fte                    float64\n",
       "salary                 float64\n",
       "certificate             object\n",
       "subcategory             object\n",
       "teaching_route          object\n",
       "highly_qualified        object\n",
       "experience_district    float64\n",
       "experience_nj          float64\n",
       "experience_total       float64\n",
       "dtype: object"
      ]
     },
     "execution_count": 10,
     "metadata": {},
     "output_type": "execute_result"
    }
   ],
   "source": [
    "#check types\n",
    "df.dtypes"
   ]
  },
  {
   "cell_type": "code",
   "execution_count": 11,
   "id": "c3205f7b-c3fc-4064-9723-fe9252edfc7d",
   "metadata": {},
   "outputs": [],
   "source": [
    "#check id column for invalid characters\n",
    "df['id'] = df['id'].replace(r'[^0-9\\.]+', np.nan, regex=True)"
   ]
  },
  {
   "cell_type": "code",
   "execution_count": 12,
   "id": "dea36a78-5c46-4067-92de-6bbd2c600d80",
   "metadata": {},
   "outputs": [],
   "source": [
    "# set correct datatype and change vals to numeric\n",
    "df['id'] = pd.to_numeric(df['id'], errors='coerce')"
   ]
  },
  {
   "cell_type": "code",
   "execution_count": 13,
   "id": "91f29087-3027-431d-b2b4-22c2f4fd0a3f",
   "metadata": {},
   "outputs": [
    {
     "data": {
      "text/plain": [
       "id                     float64\n",
       "last_name               object\n",
       "first_name              object\n",
       "county                  object\n",
       "district                object\n",
       "school                  object\n",
       "primary_job             object\n",
       "fte                    float64\n",
       "salary                 float64\n",
       "certificate             object\n",
       "subcategory             object\n",
       "teaching_route          object\n",
       "highly_qualified        object\n",
       "experience_district    float64\n",
       "experience_nj          float64\n",
       "experience_total       float64\n",
       "dtype: object"
      ]
     },
     "execution_count": 13,
     "metadata": {},
     "output_type": "execute_result"
    }
   ],
   "source": [
    "df.dtypes"
   ]
  },
  {
   "cell_type": "code",
   "execution_count": 14,
   "id": "4dff811e-f9fb-4bf2-800b-8aaac63e1da7",
   "metadata": {},
   "outputs": [
    {
     "name": "stdout",
     "output_type": "stream",
     "text": [
      "DataFrame with modified ID rows:\n",
      "Empty DataFrame\n",
      "Columns: [id, last_name, first_name, county, district, school, primary_job, fte, salary, certificate, subcategory, teaching_route, highly_qualified, experience_district, experience_nj, experience_total]\n",
      "Index: []\n"
     ]
    }
   ],
   "source": [
    "#Set the correct id number for rows that are NA/NaN, get max id and sum of ids\n",
    "max_id = df['id'].max()\n",
    "\n",
    "# confirm max_id is numeric\n",
    "if pd.isna(max_id):\n",
    "    max_id = 0\n",
    "else:\n",
    "    max_id = int(max_id)\n",
    "\n",
    "# create new IDs for rows with NaN\n",
    "nan_ids = df['id'].isna().sum()\n",
    "\n",
    "# confirm nan_ids is numeric\n",
    "if not isinstance(nan_ids, int):\n",
    "    nan_ids = int(nan_ids)\n",
    "\n",
    "# assign IDs starting from max_id + 1\n",
    "new_ids = range(max_id + 1, max_id + 1 + nan_ids)\n",
    "df.loc[df['id'].isna(), 'id'] = new_ids\n",
    "\n",
    "# Identify rows that were modified\n",
    "modified_rows = df.loc[df['id'].isin(new_ids)]\n",
    "\n",
    "# show modified rows\n",
    "print(\"DataFrame with modified ID rows:\")\n",
    "print(modified_rows)"
   ]
  },
  {
   "cell_type": "code",
   "execution_count": 15,
   "id": "8b6e554c-8509-43fe-a4e5-898be63d6d72",
   "metadata": {},
   "outputs": [
    {
     "name": "stdout",
     "output_type": "stream",
     "text": [
      "<class 'pandas.core.frame.DataFrame'>\n",
      "Index: 99954 entries, 0 to 100004\n",
      "Data columns (total 16 columns):\n",
      " #   Column               Non-Null Count  Dtype  \n",
      "---  ------               --------------  -----  \n",
      " 0   id                   99954 non-null  float64\n",
      " 1   last_name            99954 non-null  object \n",
      " 2   first_name           99954 non-null  object \n",
      " 3   county               99954 non-null  object \n",
      " 4   district             99954 non-null  object \n",
      " 5   school               99954 non-null  object \n",
      " 6   primary_job          99954 non-null  object \n",
      " 7   fte                  99954 non-null  float64\n",
      " 8   salary               99954 non-null  float64\n",
      " 9   certificate          99954 non-null  object \n",
      " 10  subcategory          99954 non-null  object \n",
      " 11  teaching_route       99954 non-null  object \n",
      " 12  highly_qualified     99954 non-null  object \n",
      " 13  experience_district  99954 non-null  float64\n",
      " 14  experience_nj        99954 non-null  float64\n",
      " 15  experience_total     99954 non-null  float64\n",
      "dtypes: float64(6), object(10)\n",
      "memory usage: 13.0+ MB\n"
     ]
    }
   ],
   "source": [
    "df.info()"
   ]
  },
  {
   "cell_type": "code",
   "execution_count": 16,
   "id": "db59ac49-5cf1-44c1-81fa-870788605456",
   "metadata": {},
   "outputs": [
    {
     "name": "stdout",
     "output_type": "stream",
     "text": [
      "['last_name', 'first_name', 'county', 'district', 'school', 'primary_job', 'certificate', 'subcategory', 'teaching_route', 'highly_qualified']\n"
     ]
    }
   ],
   "source": [
    "#identify string columns\n",
    "string_columns = df.select_dtypes(include=['object']).columns.tolist()\n",
    "print(string_columns)"
   ]
  },
  {
   "cell_type": "code",
   "execution_count": 17,
   "id": "8888f7b9-780c-40ef-a439-a2be257d30c1",
   "metadata": {},
   "outputs": [],
   "source": [
    "#remove any leading and trailing spaces\n",
    "df[string_columns] = df[string_columns].apply(lambda x: x.str.strip())"
   ]
  },
  {
   "cell_type": "code",
   "execution_count": 18,
   "id": "cb652cdd-7387-4574-b925-39827370f5fc",
   "metadata": {},
   "outputs": [],
   "source": [
    "# make a copy of the df\n",
    "df_copy = df.copy()"
   ]
  },
  {
   "cell_type": "code",
   "execution_count": 19,
   "id": "464403cd-550d-4d30-a79b-ef39b5e5c5e5",
   "metadata": {},
   "outputs": [
    {
     "data": {
      "text/html": [
       "<div>\n",
       "<style scoped>\n",
       "    .dataframe tbody tr th:only-of-type {\n",
       "        vertical-align: middle;\n",
       "    }\n",
       "\n",
       "    .dataframe tbody tr th {\n",
       "        vertical-align: top;\n",
       "    }\n",
       "\n",
       "    .dataframe thead th {\n",
       "        text-align: right;\n",
       "    }\n",
       "</style>\n",
       "<table border=\"1\" class=\"dataframe\">\n",
       "  <thead>\n",
       "    <tr style=\"text-align: right;\">\n",
       "      <th></th>\n",
       "      <th>id</th>\n",
       "      <th>last_name</th>\n",
       "      <th>first_name</th>\n",
       "      <th>county</th>\n",
       "      <th>district</th>\n",
       "      <th>school</th>\n",
       "      <th>primary_job</th>\n",
       "      <th>fte</th>\n",
       "      <th>salary</th>\n",
       "      <th>certificate</th>\n",
       "      <th>subcategory</th>\n",
       "      <th>teaching_route</th>\n",
       "      <th>highly_qualified</th>\n",
       "      <th>experience_district</th>\n",
       "      <th>experience_nj</th>\n",
       "      <th>experience_total</th>\n",
       "    </tr>\n",
       "  </thead>\n",
       "  <tbody>\n",
       "    <tr>\n",
       "      <th>0</th>\n",
       "      <td>1.0</td>\n",
       "      <td>Heckman</td>\n",
       "      <td>William</td>\n",
       "      <td>Bergen</td>\n",
       "      <td>River Edge Boro</td>\n",
       "      <td>Cherry Hill School</td>\n",
       "      <td>Elementary School Teacher K-5</td>\n",
       "      <td>1.0</td>\n",
       "      <td>98774.0</td>\n",
       "      <td>Standard certificate</td>\n",
       "      <td>General ed</td>\n",
       "      <td>Traditional</td>\n",
       "      <td>Not highly qualified</td>\n",
       "      <td>9.0</td>\n",
       "      <td>9.0</td>\n",
       "      <td>9.0</td>\n",
       "    </tr>\n",
       "    <tr>\n",
       "      <th>1</th>\n",
       "      <td>2.0</td>\n",
       "      <td>Bird</td>\n",
       "      <td>Kelly</td>\n",
       "      <td>Bergen</td>\n",
       "      <td>Wood-ridge Boro</td>\n",
       "      <td>Catherine E. Doyle Elementary School</td>\n",
       "      <td>Art</td>\n",
       "      <td>1.0</td>\n",
       "      <td>118415.0</td>\n",
       "      <td>Standard certificate</td>\n",
       "      <td>General ed</td>\n",
       "      <td>Traditional</td>\n",
       "      <td>Doesnt need to be highly qualified</td>\n",
       "      <td>13.0</td>\n",
       "      <td>13.0</td>\n",
       "      <td>13.0</td>\n",
       "    </tr>\n",
       "    <tr>\n",
       "      <th>2</th>\n",
       "      <td>3.0</td>\n",
       "      <td>Aikens</td>\n",
       "      <td>Crystal A</td>\n",
       "      <td>Bergen</td>\n",
       "      <td>Emerson Boro</td>\n",
       "      <td>Patrick M Villano School</td>\n",
       "      <td>Kindergarten</td>\n",
       "      <td>1.0</td>\n",
       "      <td>57919.0</td>\n",
       "      <td>Standard certificate</td>\n",
       "      <td>General ed</td>\n",
       "      <td>Alternate</td>\n",
       "      <td>Doesnt need to be highly qualified</td>\n",
       "      <td>7.0</td>\n",
       "      <td>7.0</td>\n",
       "      <td>7.0</td>\n",
       "    </tr>\n",
       "    <tr>\n",
       "      <th>3</th>\n",
       "      <td>4.0</td>\n",
       "      <td>Leonard</td>\n",
       "      <td>Isaiah</td>\n",
       "      <td>Gloucester</td>\n",
       "      <td>Deptford Twp</td>\n",
       "      <td>Deptford Township High School</td>\n",
       "      <td>Elementary Kindergraten-8 Grade</td>\n",
       "      <td>0.8</td>\n",
       "      <td>107746.0</td>\n",
       "      <td>CEAS</td>\n",
       "      <td>Special ed</td>\n",
       "      <td>Traditional</td>\n",
       "      <td>Doesn't need to be highly qualified</td>\n",
       "      <td>26.0</td>\n",
       "      <td>26.0</td>\n",
       "      <td>26.0</td>\n",
       "    </tr>\n",
       "    <tr>\n",
       "      <th>4</th>\n",
       "      <td>5.0</td>\n",
       "      <td>Hinton</td>\n",
       "      <td>Dustin</td>\n",
       "      <td>Camden</td>\n",
       "      <td>Cherry Hill Twp</td>\n",
       "      <td>Cherry Hill High School West</td>\n",
       "      <td>English Non-elementary</td>\n",
       "      <td>0.8</td>\n",
       "      <td>54277.0</td>\n",
       "      <td>Standard certificate</td>\n",
       "      <td>General ed</td>\n",
       "      <td>Traditional</td>\n",
       "      <td>Doesn't need to be highly qualified</td>\n",
       "      <td>5.0</td>\n",
       "      <td>5.0</td>\n",
       "      <td>5.0</td>\n",
       "    </tr>\n",
       "  </tbody>\n",
       "</table>\n",
       "</div>"
      ],
      "text/plain": [
       "    id last_name first_name      county         district  \\\n",
       "0  1.0   Heckman    William      Bergen  River Edge Boro   \n",
       "1  2.0      Bird      Kelly      Bergen  Wood-ridge Boro   \n",
       "2  3.0    Aikens  Crystal A      Bergen     Emerson Boro   \n",
       "3  4.0   Leonard     Isaiah  Gloucester     Deptford Twp   \n",
       "4  5.0    Hinton     Dustin      Camden  Cherry Hill Twp   \n",
       "\n",
       "                                 school                      primary_job  fte  \\\n",
       "0                    Cherry Hill School    Elementary School Teacher K-5  1.0   \n",
       "1  Catherine E. Doyle Elementary School                              Art  1.0   \n",
       "2              Patrick M Villano School                     Kindergarten  1.0   \n",
       "3         Deptford Township High School  Elementary Kindergraten-8 Grade  0.8   \n",
       "4          Cherry Hill High School West           English Non-elementary  0.8   \n",
       "\n",
       "     salary           certificate subcategory teaching_route  \\\n",
       "0   98774.0  Standard certificate  General ed    Traditional   \n",
       "1  118415.0  Standard certificate  General ed    Traditional   \n",
       "2   57919.0  Standard certificate  General ed      Alternate   \n",
       "3  107746.0                  CEAS  Special ed    Traditional   \n",
       "4   54277.0  Standard certificate  General ed    Traditional   \n",
       "\n",
       "                      highly_qualified  experience_district  experience_nj  \\\n",
       "0                 Not highly qualified                  9.0            9.0   \n",
       "1   Doesnt need to be highly qualified                 13.0           13.0   \n",
       "2   Doesnt need to be highly qualified                  7.0            7.0   \n",
       "3  Doesn't need to be highly qualified                 26.0           26.0   \n",
       "4  Doesn't need to be highly qualified                  5.0            5.0   \n",
       "\n",
       "   experience_total  \n",
       "0               9.0  \n",
       "1              13.0  \n",
       "2               7.0  \n",
       "3              26.0  \n",
       "4               5.0  "
      ]
     },
     "execution_count": 19,
     "metadata": {},
     "output_type": "execute_result"
    }
   ],
   "source": [
    "#show examples of modified data\n",
    "modified_rows = df_copy[~df[string_columns].eq(modified_rows[string_columns]).all(axis=1)]\n",
    "modified_rows.head()"
   ]
  },
  {
   "cell_type": "code",
   "execution_count": 20,
   "id": "12348c54-8d03-476d-88ef-3072c95e17a8",
   "metadata": {},
   "outputs": [],
   "source": [
    "import re"
   ]
  },
  {
   "cell_type": "code",
   "execution_count": 21,
   "id": "049f9166-1639-4933-b2aa-f2ac646ff9cc",
   "metadata": {},
   "outputs": [],
   "source": [
    "# Define a regex pattern for valid characters\n",
    "valid_chars_pattern = re.compile(r\"[^a-zA-Z0-9 ,\\.\\?!&/\\(\\)\\-:_'#@]\")"
   ]
  },
  {
   "cell_type": "code",
   "execution_count": 22,
   "id": "daaf058b-e31b-41e0-9cf3-9d1b6d9035f8",
   "metadata": {},
   "outputs": [],
   "source": [
    "# Function to remove invalid characters using regex\n",
    "def remove_invalid_chars(text):\n",
    "    if pd.isna(text):\n",
    "        return text\n",
    "    return valid_chars_pattern.sub('', text)"
   ]
  },
  {
   "cell_type": "code",
   "execution_count": 23,
   "id": "1eba4b58-0946-4998-aac8-96e4a3d0219d",
   "metadata": {},
   "outputs": [],
   "source": [
    "# remove invalid characters from string columns\n",
    "df[string_columns] = df[string_columns].map(remove_invalid_chars)"
   ]
  },
  {
   "cell_type": "code",
   "execution_count": 24,
   "id": "865373d6-6b55-41c4-bfa9-fea379c97c15",
   "metadata": {},
   "outputs": [],
   "source": [
    "#make a copy of the dataframe\n",
    "df_copy = df.copy()"
   ]
  },
  {
   "cell_type": "code",
   "execution_count": 25,
   "id": "1cfd1d59-931a-44b2-b3f7-14c04c442915",
   "metadata": {},
   "outputs": [
    {
     "data": {
      "text/html": [
       "<div>\n",
       "<style scoped>\n",
       "    .dataframe tbody tr th:only-of-type {\n",
       "        vertical-align: middle;\n",
       "    }\n",
       "\n",
       "    .dataframe tbody tr th {\n",
       "        vertical-align: top;\n",
       "    }\n",
       "\n",
       "    .dataframe thead th {\n",
       "        text-align: right;\n",
       "    }\n",
       "</style>\n",
       "<table border=\"1\" class=\"dataframe\">\n",
       "  <thead>\n",
       "    <tr style=\"text-align: right;\">\n",
       "      <th></th>\n",
       "      <th>id</th>\n",
       "      <th>last_name</th>\n",
       "      <th>first_name</th>\n",
       "      <th>county</th>\n",
       "      <th>district</th>\n",
       "      <th>school</th>\n",
       "      <th>primary_job</th>\n",
       "      <th>fte</th>\n",
       "      <th>salary</th>\n",
       "      <th>certificate</th>\n",
       "      <th>subcategory</th>\n",
       "      <th>teaching_route</th>\n",
       "      <th>highly_qualified</th>\n",
       "      <th>experience_district</th>\n",
       "      <th>experience_nj</th>\n",
       "      <th>experience_total</th>\n",
       "    </tr>\n",
       "  </thead>\n",
       "  <tbody>\n",
       "  </tbody>\n",
       "</table>\n",
       "</div>"
      ],
      "text/plain": [
       "Empty DataFrame\n",
       "Columns: [id, last_name, first_name, county, district, school, primary_job, fte, salary, certificate, subcategory, teaching_route, highly_qualified, experience_district, experience_nj, experience_total]\n",
       "Index: []"
      ]
     },
     "execution_count": 25,
     "metadata": {},
     "output_type": "execute_result"
    }
   ],
   "source": [
    "#Show examples of modified rows\n",
    "modified_string_rows = df.loc[~df[string_columns].eq(df_copy[string_columns]).all(axis=1)]\n",
    "df_modified_string_rows = modified_string_rows.copy()\n",
    "df_modified_string_rows.head()"
   ]
  },
  {
   "cell_type": "code",
   "execution_count": 26,
   "id": "bad33d62",
   "metadata": {},
   "outputs": [
    {
     "data": {
      "text/html": [
       "<div>\n",
       "<style scoped>\n",
       "    .dataframe tbody tr th:only-of-type {\n",
       "        vertical-align: middle;\n",
       "    }\n",
       "\n",
       "    .dataframe tbody tr th {\n",
       "        vertical-align: top;\n",
       "    }\n",
       "\n",
       "    .dataframe thead th {\n",
       "        text-align: right;\n",
       "    }\n",
       "</style>\n",
       "<table border=\"1\" class=\"dataframe\">\n",
       "  <thead>\n",
       "    <tr style=\"text-align: right;\">\n",
       "      <th></th>\n",
       "      <th>id</th>\n",
       "      <th>last_name</th>\n",
       "      <th>first_name</th>\n",
       "      <th>county</th>\n",
       "      <th>district</th>\n",
       "      <th>school</th>\n",
       "      <th>primary_job</th>\n",
       "      <th>fte</th>\n",
       "      <th>salary</th>\n",
       "      <th>certificate</th>\n",
       "      <th>subcategory</th>\n",
       "      <th>teaching_route</th>\n",
       "      <th>highly_qualified</th>\n",
       "      <th>experience_district</th>\n",
       "      <th>experience_nj</th>\n",
       "      <th>experience_total</th>\n",
       "    </tr>\n",
       "  </thead>\n",
       "  <tbody>\n",
       "    <tr>\n",
       "      <th>0</th>\n",
       "      <td>1.0</td>\n",
       "      <td>Heckman</td>\n",
       "      <td>William</td>\n",
       "      <td>Bergen</td>\n",
       "      <td>River Edge Boro</td>\n",
       "      <td>Cherry Hill School</td>\n",
       "      <td>Elementary School Teacher K-5</td>\n",
       "      <td>1.0</td>\n",
       "      <td>98774.0</td>\n",
       "      <td>Standard certificate</td>\n",
       "      <td>General ed</td>\n",
       "      <td>Traditional</td>\n",
       "      <td>Not highly qualified</td>\n",
       "      <td>9.0</td>\n",
       "      <td>9.0</td>\n",
       "      <td>9.0</td>\n",
       "    </tr>\n",
       "    <tr>\n",
       "      <th>1</th>\n",
       "      <td>2.0</td>\n",
       "      <td>Bird</td>\n",
       "      <td>Kelly</td>\n",
       "      <td>Bergen</td>\n",
       "      <td>Wood-ridge Boro</td>\n",
       "      <td>Catherine E. Doyle Elementary School</td>\n",
       "      <td>Art</td>\n",
       "      <td>1.0</td>\n",
       "      <td>118415.0</td>\n",
       "      <td>Standard certificate</td>\n",
       "      <td>General ed</td>\n",
       "      <td>Traditional</td>\n",
       "      <td>Doesnt need to be highly qualified</td>\n",
       "      <td>13.0</td>\n",
       "      <td>13.0</td>\n",
       "      <td>13.0</td>\n",
       "    </tr>\n",
       "    <tr>\n",
       "      <th>2</th>\n",
       "      <td>3.0</td>\n",
       "      <td>Aikens</td>\n",
       "      <td>Crystal A</td>\n",
       "      <td>Bergen</td>\n",
       "      <td>Emerson Boro</td>\n",
       "      <td>Patrick M Villano School</td>\n",
       "      <td>Kindergarten</td>\n",
       "      <td>1.0</td>\n",
       "      <td>57919.0</td>\n",
       "      <td>Standard certificate</td>\n",
       "      <td>General ed</td>\n",
       "      <td>Alternate</td>\n",
       "      <td>Doesnt need to be highly qualified</td>\n",
       "      <td>7.0</td>\n",
       "      <td>7.0</td>\n",
       "      <td>7.0</td>\n",
       "    </tr>\n",
       "    <tr>\n",
       "      <th>3</th>\n",
       "      <td>4.0</td>\n",
       "      <td>Leonard</td>\n",
       "      <td>Isaiah</td>\n",
       "      <td>Gloucester</td>\n",
       "      <td>Deptford Twp</td>\n",
       "      <td>Deptford Township High School</td>\n",
       "      <td>Elementary Kindergraten-8 Grade</td>\n",
       "      <td>0.8</td>\n",
       "      <td>107746.0</td>\n",
       "      <td>CEAS</td>\n",
       "      <td>Special ed</td>\n",
       "      <td>Traditional</td>\n",
       "      <td>Doesn't need to be highly qualified</td>\n",
       "      <td>26.0</td>\n",
       "      <td>26.0</td>\n",
       "      <td>26.0</td>\n",
       "    </tr>\n",
       "    <tr>\n",
       "      <th>4</th>\n",
       "      <td>5.0</td>\n",
       "      <td>Hinton</td>\n",
       "      <td>Dustin</td>\n",
       "      <td>Camden</td>\n",
       "      <td>Cherry Hill Twp</td>\n",
       "      <td>Cherry Hill High School West</td>\n",
       "      <td>English Non-elementary</td>\n",
       "      <td>0.8</td>\n",
       "      <td>54277.0</td>\n",
       "      <td>Standard certificate</td>\n",
       "      <td>General ed</td>\n",
       "      <td>Traditional</td>\n",
       "      <td>Doesn't need to be highly qualified</td>\n",
       "      <td>5.0</td>\n",
       "      <td>5.0</td>\n",
       "      <td>5.0</td>\n",
       "    </tr>\n",
       "    <tr>\n",
       "      <th>...</th>\n",
       "      <td>...</td>\n",
       "      <td>...</td>\n",
       "      <td>...</td>\n",
       "      <td>...</td>\n",
       "      <td>...</td>\n",
       "      <td>...</td>\n",
       "      <td>...</td>\n",
       "      <td>...</td>\n",
       "      <td>...</td>\n",
       "      <td>...</td>\n",
       "      <td>...</td>\n",
       "      <td>...</td>\n",
       "      <td>...</td>\n",
       "      <td>...</td>\n",
       "      <td>...</td>\n",
       "      <td>...</td>\n",
       "    </tr>\n",
       "    <tr>\n",
       "      <th>100000</th>\n",
       "      <td>99999.0</td>\n",
       "      <td>Anderson</td>\n",
       "      <td>Jonathan</td>\n",
       "      <td>Morris</td>\n",
       "      <td>Dover Town</td>\n",
       "      <td>Dover High School</td>\n",
       "      <td>Kindergarten</td>\n",
       "      <td>1.0</td>\n",
       "      <td>102299.0</td>\n",
       "      <td>CEAS</td>\n",
       "      <td>Special ed</td>\n",
       "      <td>Traditional</td>\n",
       "      <td>Not highly qualified</td>\n",
       "      <td>21.0</td>\n",
       "      <td>39.0</td>\n",
       "      <td>37.0</td>\n",
       "    </tr>\n",
       "    <tr>\n",
       "      <th>100001</th>\n",
       "      <td>100000.0</td>\n",
       "      <td>Pearson</td>\n",
       "      <td>Frederick</td>\n",
       "      <td>Hudson</td>\n",
       "      <td>Weehawken Twp</td>\n",
       "      <td>Daniel Webster School</td>\n",
       "      <td>Health</td>\n",
       "      <td>0.8</td>\n",
       "      <td>81530.0</td>\n",
       "      <td>CEAS</td>\n",
       "      <td>Special ed</td>\n",
       "      <td>Alternate</td>\n",
       "      <td>Not highly qualified</td>\n",
       "      <td>25.0</td>\n",
       "      <td>17.0</td>\n",
       "      <td>29.0</td>\n",
       "    </tr>\n",
       "    <tr>\n",
       "      <th>100002</th>\n",
       "      <td>100001.0</td>\n",
       "      <td>Lin</td>\n",
       "      <td>Thomas</td>\n",
       "      <td>Essex</td>\n",
       "      <td>Newark City</td>\n",
       "      <td>Harriet Tubman Elementary School</td>\n",
       "      <td>Computer Literacy/applications/programming</td>\n",
       "      <td>1.0</td>\n",
       "      <td>96865.0</td>\n",
       "      <td>CEAS</td>\n",
       "      <td>Special ed</td>\n",
       "      <td>Traditional</td>\n",
       "      <td>Doesn't need to be highly qualified</td>\n",
       "      <td>11.0</td>\n",
       "      <td>11.0</td>\n",
       "      <td>32.0</td>\n",
       "    </tr>\n",
       "    <tr>\n",
       "      <th>100003</th>\n",
       "      <td>100002.0</td>\n",
       "      <td>Perez</td>\n",
       "      <td>Christopher</td>\n",
       "      <td>Bergen</td>\n",
       "      <td>Hackensack City</td>\n",
       "      <td>Hackensack High School</td>\n",
       "      <td>Preschool</td>\n",
       "      <td>0.5</td>\n",
       "      <td>93969.0</td>\n",
       "      <td>CEAS</td>\n",
       "      <td>Special ed</td>\n",
       "      <td>Traditional</td>\n",
       "      <td>Not highly qualified</td>\n",
       "      <td>34.0</td>\n",
       "      <td>10.0</td>\n",
       "      <td>38.0</td>\n",
       "    </tr>\n",
       "    <tr>\n",
       "      <th>100004</th>\n",
       "      <td>100003.0</td>\n",
       "      <td>Wilkerson</td>\n",
       "      <td>Bruce</td>\n",
       "      <td>Middlesex</td>\n",
       "      <td>New Brunswick City</td>\n",
       "      <td>New Brunswick High School</td>\n",
       "      <td>Mathematics Grades 5 - 8</td>\n",
       "      <td>1.0</td>\n",
       "      <td>108523.0</td>\n",
       "      <td>CEAS</td>\n",
       "      <td>Special ed</td>\n",
       "      <td>Traditional</td>\n",
       "      <td>Not highly qualified</td>\n",
       "      <td>8.0</td>\n",
       "      <td>25.0</td>\n",
       "      <td>16.0</td>\n",
       "    </tr>\n",
       "  </tbody>\n",
       "</table>\n",
       "<p>99954 rows × 16 columns</p>\n",
       "</div>"
      ],
      "text/plain": [
       "              id  last_name   first_name      county            district  \\\n",
       "0            1.0    Heckman      William      Bergen     River Edge Boro   \n",
       "1            2.0       Bird        Kelly      Bergen     Wood-ridge Boro   \n",
       "2            3.0     Aikens    Crystal A      Bergen        Emerson Boro   \n",
       "3            4.0    Leonard       Isaiah  Gloucester        Deptford Twp   \n",
       "4            5.0     Hinton       Dustin      Camden     Cherry Hill Twp   \n",
       "...          ...        ...          ...         ...                 ...   \n",
       "100000   99999.0   Anderson     Jonathan      Morris          Dover Town   \n",
       "100001  100000.0    Pearson    Frederick      Hudson       Weehawken Twp   \n",
       "100002  100001.0        Lin       Thomas       Essex         Newark City   \n",
       "100003  100002.0      Perez  Christopher      Bergen     Hackensack City   \n",
       "100004  100003.0  Wilkerson        Bruce   Middlesex  New Brunswick City   \n",
       "\n",
       "                                      school  \\\n",
       "0                         Cherry Hill School   \n",
       "1       Catherine E. Doyle Elementary School   \n",
       "2                   Patrick M Villano School   \n",
       "3              Deptford Township High School   \n",
       "4               Cherry Hill High School West   \n",
       "...                                      ...   \n",
       "100000                     Dover High School   \n",
       "100001                 Daniel Webster School   \n",
       "100002      Harriet Tubman Elementary School   \n",
       "100003                Hackensack High School   \n",
       "100004             New Brunswick High School   \n",
       "\n",
       "                                       primary_job  fte    salary  \\\n",
       "0                    Elementary School Teacher K-5  1.0   98774.0   \n",
       "1                                              Art  1.0  118415.0   \n",
       "2                                     Kindergarten  1.0   57919.0   \n",
       "3                  Elementary Kindergraten-8 Grade  0.8  107746.0   \n",
       "4                           English Non-elementary  0.8   54277.0   \n",
       "...                                            ...  ...       ...   \n",
       "100000                                Kindergarten  1.0  102299.0   \n",
       "100001                                      Health  0.8   81530.0   \n",
       "100002  Computer Literacy/applications/programming  1.0   96865.0   \n",
       "100003                                   Preschool  0.5   93969.0   \n",
       "100004                    Mathematics Grades 5 - 8  1.0  108523.0   \n",
       "\n",
       "                 certificate subcategory teaching_route  \\\n",
       "0       Standard certificate  General ed    Traditional   \n",
       "1       Standard certificate  General ed    Traditional   \n",
       "2       Standard certificate  General ed      Alternate   \n",
       "3                       CEAS  Special ed    Traditional   \n",
       "4       Standard certificate  General ed    Traditional   \n",
       "...                      ...         ...            ...   \n",
       "100000                  CEAS  Special ed    Traditional   \n",
       "100001                  CEAS  Special ed      Alternate   \n",
       "100002                  CEAS  Special ed    Traditional   \n",
       "100003                  CEAS  Special ed    Traditional   \n",
       "100004                  CEAS  Special ed    Traditional   \n",
       "\n",
       "                           highly_qualified  experience_district  \\\n",
       "0                      Not highly qualified                  9.0   \n",
       "1        Doesnt need to be highly qualified                 13.0   \n",
       "2        Doesnt need to be highly qualified                  7.0   \n",
       "3       Doesn't need to be highly qualified                 26.0   \n",
       "4       Doesn't need to be highly qualified                  5.0   \n",
       "...                                     ...                  ...   \n",
       "100000                 Not highly qualified                 21.0   \n",
       "100001                 Not highly qualified                 25.0   \n",
       "100002  Doesn't need to be highly qualified                 11.0   \n",
       "100003                 Not highly qualified                 34.0   \n",
       "100004                 Not highly qualified                  8.0   \n",
       "\n",
       "        experience_nj  experience_total  \n",
       "0                 9.0               9.0  \n",
       "1                13.0              13.0  \n",
       "2                 7.0               7.0  \n",
       "3                26.0              26.0  \n",
       "4                 5.0               5.0  \n",
       "...               ...               ...  \n",
       "100000           39.0              37.0  \n",
       "100001           17.0              29.0  \n",
       "100002           11.0              32.0  \n",
       "100003           10.0              38.0  \n",
       "100004           25.0              16.0  \n",
       "\n",
       "[99954 rows x 16 columns]"
      ]
     },
     "execution_count": 26,
     "metadata": {},
     "output_type": "execute_result"
    }
   ],
   "source": [
    "df.drop_duplicates()"
   ]
  },
  {
   "cell_type": "code",
   "execution_count": 27,
   "id": "8c6c91e3",
   "metadata": {},
   "outputs": [],
   "source": [
    "df.to_csv(\"cleaned_data.csv\", index=False)"
   ]
  },
  {
   "cell_type": "code",
   "execution_count": 28,
   "id": "0a29b350-7267-4944-8e84-888cc4a7f221",
   "metadata": {},
   "outputs": [
    {
     "name": "stdout",
     "output_type": "stream",
     "text": [
      "<class 'pandas.core.frame.DataFrame'>\n",
      "Index: 99954 entries, 0 to 100004\n",
      "Data columns (total 16 columns):\n",
      " #   Column               Non-Null Count  Dtype  \n",
      "---  ------               --------------  -----  \n",
      " 0   id                   99954 non-null  float64\n",
      " 1   last_name            99954 non-null  object \n",
      " 2   first_name           99954 non-null  object \n",
      " 3   county               99954 non-null  object \n",
      " 4   district             99954 non-null  object \n",
      " 5   school               99954 non-null  object \n",
      " 6   primary_job          99954 non-null  object \n",
      " 7   fte                  99954 non-null  float64\n",
      " 8   salary               99954 non-null  float64\n",
      " 9   certificate          99954 non-null  object \n",
      " 10  subcategory          99954 non-null  object \n",
      " 11  teaching_route       99954 non-null  object \n",
      " 12  highly_qualified     99954 non-null  object \n",
      " 13  experience_district  99954 non-null  float64\n",
      " 14  experience_nj        99954 non-null  float64\n",
      " 15  experience_total     99954 non-null  float64\n",
      "dtypes: float64(6), object(10)\n",
      "memory usage: 13.0+ MB\n"
     ]
    }
   ],
   "source": [
    "df.info()"
   ]
  },
  {
   "cell_type": "code",
   "execution_count": 29,
   "id": "0aa0e7ac",
   "metadata": {
    "scrolled": true
   },
   "outputs": [
    {
     "ename": "ProgrammingError",
     "evalue": "1045 (28000): Access denied for user 'root'@'localhost' (using password: NO)",
     "output_type": "error",
     "traceback": [
      "\u001b[0;31m---------------------------------------------------------------------------\u001b[0m",
      "\u001b[0;31mMySQLInterfaceError\u001b[0m                       Traceback (most recent call last)",
      "File \u001b[0;32m/Library/Frameworks/Python.framework/Versions/3.12/lib/python3.12/site-packages/mysql/connector/connection_cext.py:334\u001b[0m, in \u001b[0;36mCMySQLConnection._open_connection\u001b[0;34m(self)\u001b[0m\n\u001b[1;32m    333\u001b[0m \u001b[38;5;28;01mtry\u001b[39;00m:\n\u001b[0;32m--> 334\u001b[0m     \u001b[38;5;28;43mself\u001b[39;49m\u001b[38;5;241;43m.\u001b[39;49m\u001b[43m_cmysql\u001b[49m\u001b[38;5;241;43m.\u001b[39;49m\u001b[43mconnect\u001b[49m\u001b[43m(\u001b[49m\u001b[38;5;241;43m*\u001b[39;49m\u001b[38;5;241;43m*\u001b[39;49m\u001b[43mcnx_kwargs\u001b[49m\u001b[43m)\u001b[49m\n\u001b[1;32m    335\u001b[0m     \u001b[38;5;28mself\u001b[39m\u001b[38;5;241m.\u001b[39m_cmysql\u001b[38;5;241m.\u001b[39mconverter_str_fallback \u001b[38;5;241m=\u001b[39m \u001b[38;5;28mself\u001b[39m\u001b[38;5;241m.\u001b[39m_converter_str_fallback\n",
      "\u001b[0;31mMySQLInterfaceError\u001b[0m: Access denied for user 'root'@'localhost' (using password: NO)",
      "\nThe above exception was the direct cause of the following exception:\n",
      "\u001b[0;31mProgrammingError\u001b[0m                          Traceback (most recent call last)",
      "Cell \u001b[0;32mIn[29], line 4\u001b[0m\n\u001b[1;32m      1\u001b[0m \u001b[38;5;66;03m#import libraries\u001b[39;00m\n\u001b[1;32m      2\u001b[0m \u001b[38;5;28;01mimport\u001b[39;00m \u001b[38;5;21;01mmysql\u001b[39;00m\u001b[38;5;21;01m.\u001b[39;00m\u001b[38;5;21;01mconnector\u001b[39;00m \u001b[38;5;28;01mas\u001b[39;00m \u001b[38;5;21;01msq\u001b[39;00m\n\u001b[0;32m----> 4\u001b[0m mysql_db \u001b[38;5;241m=\u001b[39m \u001b[43msq\u001b[49m\u001b[38;5;241;43m.\u001b[39;49m\u001b[43mconnect\u001b[49m\u001b[43m(\u001b[49m\u001b[43mhost\u001b[49m\u001b[38;5;241;43m=\u001b[39;49m\u001b[38;5;124;43m\"\u001b[39;49m\u001b[38;5;124;43m127.0.0.1\u001b[39;49m\u001b[38;5;124;43m\"\u001b[39;49m\u001b[43m,\u001b[49m\u001b[43m \u001b[49m\u001b[43muser\u001b[49m\u001b[38;5;241;43m=\u001b[39;49m\u001b[38;5;124;43m\"\u001b[39;49m\u001b[38;5;124;43mroot\u001b[39;49m\u001b[38;5;124;43m\"\u001b[39;49m\u001b[43m,\u001b[49m\u001b[43m \u001b[49m\u001b[43mpasswd\u001b[49m\u001b[38;5;241;43m=\u001b[39;49m\u001b[38;5;124;43m\"\u001b[39;49m\u001b[38;5;124;43m\"\u001b[39;49m\u001b[43m,\u001b[49m\u001b[43m \u001b[49m\u001b[43mbuffered\u001b[49m\u001b[38;5;241;43m=\u001b[39;49m\u001b[38;5;28;43;01mTrue\u001b[39;49;00m\u001b[43m)\u001b[49m\n\u001b[1;32m      5\u001b[0m mycursor \u001b[38;5;241m=\u001b[39m mysql_db\u001b[38;5;241m.\u001b[39mcursor()\n",
      "File \u001b[0;32m/Library/Frameworks/Python.framework/Versions/3.12/lib/python3.12/site-packages/mysql/connector/pooling.py:322\u001b[0m, in \u001b[0;36mconnect\u001b[0;34m(*args, **kwargs)\u001b[0m\n\u001b[1;32m    319\u001b[0m         \u001b[38;5;28;01mraise\u001b[39;00m \u001b[38;5;167;01mImportError\u001b[39;00m(ERROR_NO_CEXT)\n\u001b[1;32m    321\u001b[0m \u001b[38;5;28;01mif\u001b[39;00m CMySQLConnection \u001b[38;5;129;01mand\u001b[39;00m \u001b[38;5;129;01mnot\u001b[39;00m use_pure:\n\u001b[0;32m--> 322\u001b[0m     \u001b[38;5;28;01mreturn\u001b[39;00m \u001b[43mCMySQLConnection\u001b[49m\u001b[43m(\u001b[49m\u001b[38;5;241;43m*\u001b[39;49m\u001b[43margs\u001b[49m\u001b[43m,\u001b[49m\u001b[43m \u001b[49m\u001b[38;5;241;43m*\u001b[39;49m\u001b[38;5;241;43m*\u001b[39;49m\u001b[43mkwargs\u001b[49m\u001b[43m)\u001b[49m\n\u001b[1;32m    323\u001b[0m \u001b[38;5;28;01mreturn\u001b[39;00m MySQLConnection(\u001b[38;5;241m*\u001b[39margs, \u001b[38;5;241m*\u001b[39m\u001b[38;5;241m*\u001b[39mkwargs)\n",
      "File \u001b[0;32m/Library/Frameworks/Python.framework/Versions/3.12/lib/python3.12/site-packages/mysql/connector/connection_cext.py:151\u001b[0m, in \u001b[0;36mCMySQLConnection.__init__\u001b[0;34m(self, **kwargs)\u001b[0m\n\u001b[1;32m    149\u001b[0m \u001b[38;5;28;01mif\u001b[39;00m kwargs:\n\u001b[1;32m    150\u001b[0m     \u001b[38;5;28;01mtry\u001b[39;00m:\n\u001b[0;32m--> 151\u001b[0m         \u001b[38;5;28;43mself\u001b[39;49m\u001b[38;5;241;43m.\u001b[39;49m\u001b[43mconnect\u001b[49m\u001b[43m(\u001b[49m\u001b[38;5;241;43m*\u001b[39;49m\u001b[38;5;241;43m*\u001b[39;49m\u001b[43mkwargs\u001b[49m\u001b[43m)\u001b[49m\n\u001b[1;32m    152\u001b[0m     \u001b[38;5;28;01mexcept\u001b[39;00m \u001b[38;5;167;01mException\u001b[39;00m:\n\u001b[1;32m    153\u001b[0m         \u001b[38;5;28mself\u001b[39m\u001b[38;5;241m.\u001b[39mclose()\n",
      "File \u001b[0;32m/Library/Frameworks/Python.framework/Versions/3.12/lib/python3.12/site-packages/mysql/connector/abstracts.py:1399\u001b[0m, in \u001b[0;36mMySQLConnectionAbstract.connect\u001b[0;34m(self, **kwargs)\u001b[0m\n\u001b[1;32m   1396\u001b[0m     \u001b[38;5;28mself\u001b[39m\u001b[38;5;241m.\u001b[39mconfig(\u001b[38;5;241m*\u001b[39m\u001b[38;5;241m*\u001b[39mkwargs)\n\u001b[1;32m   1398\u001b[0m \u001b[38;5;28mself\u001b[39m\u001b[38;5;241m.\u001b[39mdisconnect()\n\u001b[0;32m-> 1399\u001b[0m \u001b[38;5;28;43mself\u001b[39;49m\u001b[38;5;241;43m.\u001b[39;49m\u001b[43m_open_connection\u001b[49m\u001b[43m(\u001b[49m\u001b[43m)\u001b[49m\n\u001b[1;32m   1401\u001b[0m charset, collation \u001b[38;5;241m=\u001b[39m (\n\u001b[1;32m   1402\u001b[0m     kwargs\u001b[38;5;241m.\u001b[39mpop(\u001b[38;5;124m\"\u001b[39m\u001b[38;5;124mcharset\u001b[39m\u001b[38;5;124m\"\u001b[39m, \u001b[38;5;28;01mNone\u001b[39;00m),\n\u001b[1;32m   1403\u001b[0m     kwargs\u001b[38;5;241m.\u001b[39mpop(\u001b[38;5;124m\"\u001b[39m\u001b[38;5;124mcollation\u001b[39m\u001b[38;5;124m\"\u001b[39m, \u001b[38;5;28;01mNone\u001b[39;00m),\n\u001b[1;32m   1404\u001b[0m )\n\u001b[1;32m   1405\u001b[0m \u001b[38;5;28;01mif\u001b[39;00m charset \u001b[38;5;129;01mor\u001b[39;00m collation:\n",
      "File \u001b[0;32m/Library/Frameworks/Python.framework/Versions/3.12/lib/python3.12/site-packages/mysql/connector/connection_cext.py:339\u001b[0m, in \u001b[0;36mCMySQLConnection._open_connection\u001b[0;34m(self)\u001b[0m\n\u001b[1;32m    337\u001b[0m         \u001b[38;5;28mself\u001b[39m\u001b[38;5;241m.\u001b[39mconverter\u001b[38;5;241m.\u001b[39mstr_fallback \u001b[38;5;241m=\u001b[39m \u001b[38;5;28mself\u001b[39m\u001b[38;5;241m.\u001b[39m_converter_str_fallback\n\u001b[1;32m    338\u001b[0m \u001b[38;5;28;01mexcept\u001b[39;00m MySQLInterfaceError \u001b[38;5;28;01mas\u001b[39;00m err:\n\u001b[0;32m--> 339\u001b[0m     \u001b[38;5;28;01mraise\u001b[39;00m get_mysql_exception(\n\u001b[1;32m    340\u001b[0m         msg\u001b[38;5;241m=\u001b[39merr\u001b[38;5;241m.\u001b[39mmsg, errno\u001b[38;5;241m=\u001b[39merr\u001b[38;5;241m.\u001b[39merrno, sqlstate\u001b[38;5;241m=\u001b[39merr\u001b[38;5;241m.\u001b[39msqlstate\n\u001b[1;32m    341\u001b[0m     ) \u001b[38;5;28;01mfrom\u001b[39;00m \u001b[38;5;21;01merr\u001b[39;00m\n\u001b[1;32m    343\u001b[0m \u001b[38;5;28mself\u001b[39m\u001b[38;5;241m.\u001b[39m_do_handshake()\n\u001b[1;32m    345\u001b[0m \u001b[38;5;28;01mif\u001b[39;00m (\n\u001b[1;32m    346\u001b[0m     \u001b[38;5;129;01mnot\u001b[39;00m \u001b[38;5;28mself\u001b[39m\u001b[38;5;241m.\u001b[39m_ssl_disabled\n\u001b[1;32m    347\u001b[0m     \u001b[38;5;129;01mand\u001b[39;00m \u001b[38;5;28mhasattr\u001b[39m(\u001b[38;5;28mself\u001b[39m\u001b[38;5;241m.\u001b[39m_cmysql, \u001b[38;5;124m\"\u001b[39m\u001b[38;5;124mget_ssl_cipher\u001b[39m\u001b[38;5;124m\"\u001b[39m)\n\u001b[0;32m   (...)\u001b[0m\n\u001b[1;32m    352\u001b[0m \n\u001b[1;32m    353\u001b[0m     \u001b[38;5;66;03m# `get_ssl_cipher()` returns the name of the cipher being used.\u001b[39;00m\n",
      "\u001b[0;31mProgrammingError\u001b[0m: 1045 (28000): Access denied for user 'root'@'localhost' (using password: NO)"
     ]
    }
   ],
   "source": [
    "#import libraries\n",
    "import mysql.connector as sq\n",
    "\n",
    "mysql_db = sq.connect(host=\"127.0.0.1\", user=\"root\", passwd=\"\", buffered=True)\n",
    "mycursor = mysql_db.cursor()"
   ]
  },
  {
   "cell_type": "code",
   "execution_count": null,
   "id": "e3123aa5",
   "metadata": {},
   "outputs": [],
   "source": [
    "mycursor.execute(\"SHOW DATABASES\")"
   ]
  },
  {
   "cell_type": "code",
   "execution_count": null,
   "id": "a9c02aa0",
   "metadata": {},
   "outputs": [],
   "source": [
    "for db in mycursor:\n",
    "    print(db)"
   ]
  },
  {
   "cell_type": "code",
   "execution_count": null,
   "id": "53885a42-f24d-4ef1-9019-926d5bf5aae7",
   "metadata": {},
   "outputs": [],
   "source": [
    "# mycursor.execute(\"USE teachers\")"
   ]
  },
  {
   "cell_type": "code",
   "execution_count": null,
   "id": "e4a88f5f-c4e6-4643-8b9e-a259cb1c99ef",
   "metadata": {},
   "outputs": [],
   "source": [
    "# mycursor.execute(\"DROP TABLE teachers_info\")"
   ]
  },
  {
   "cell_type": "code",
   "execution_count": null,
   "id": "262fc1e9-46f9-46e4-a636-e9a726e1b0f3",
   "metadata": {},
   "outputs": [],
   "source": [
    "mycursor.execute(\"CREATE TABLE teachers.teachers_info(id FLOAT NOT NULL, last_name VARCHAR(200) NOT NULL, \\\n",
    "first_name VARCHAR(200) NOT NULL, county VARCHAR(200) NOT NULL, district VARCHAR(200) NOT NULL, school VARCHAR(200) NOT NULL, \\\n",
    "primary_job VARCHAR(200) NOT NULL, fte FLOAT NOT NULL, salary FLOAT NOT NULL, certificate VARCHAR(200) NOT NULL, \\\n",
    "subcategory VARCHAR(200) NOT NULL, teaching_route VARCHAR(200) NOT NULL, highly_qualified VARCHAR(200) NOT NULL, \\\n",
    "experience_district FLOAT NOT NULL, experience_nj FLOAT NOT NULL, experience_total FLOAT NOT NULL, PRIMARY KEY (id))\")"
   ]
  },
  {
   "cell_type": "code",
   "execution_count": null,
   "id": "21f51a4f-07dc-41f9-9aa7-19e95ef011b1",
   "metadata": {},
   "outputs": [],
   "source": [
    "mycursor.execute(\"USE teachers\")"
   ]
  },
  {
   "cell_type": "code",
   "execution_count": null,
   "id": "8c4058f7-b050-443d-9cd8-16dde436b0ae",
   "metadata": {},
   "outputs": [],
   "source": [
    "mycursor.execute(\"SHOW TABLES\")"
   ]
  },
  {
   "cell_type": "code",
   "execution_count": null,
   "id": "219cc9f2-0c87-4c93-a720-d4fe356f4cfd",
   "metadata": {},
   "outputs": [],
   "source": [
    "for table in mycursor:\n",
    "    print(table)"
   ]
  },
  {
   "cell_type": "code",
   "execution_count": null,
   "id": "443ad4d6-0eea-4ba0-92fe-205e850deb45",
   "metadata": {},
   "outputs": [],
   "source": [
    "SQLCMD = \"\"\"\n",
    "LOAD DATA INFILE '/Users/feliciadogarro/cnf/cleaned_data.csv'\n",
    "INTO TABLE teachers.teachers_info\n",
    "FIELDS TERMINATED BY ','\n",
    "OPTIONALLY ENCLOSED BY '\"'\n",
    "LINES TERMINATED BY '\\\\n'\n",
    "IGNORE 1 ROWS\n",
    "(id, last_name, first_name, county, district, school, primary_job, @fte, @salary, certificate, subcategory, teaching_route, highly_qualified, @experience_district, @experience_nj, @experience_total)\n",
    "SET \n",
    "    fte = IF(@fte = '' OR @fte IS NULL, 0, @fte),\n",
    "    salary = IF(@salary = '' OR @salary IS NULL, 0, @salary),\n",
    "    experience_district = IF(@experience_district = '' OR @experience_district IS NULL, 0, @experience_district),\n",
    "    experience_nj = IF(@experience_nj = '' OR @experience_nj IS NULL, 0, @experience_nj),\n",
    "    experience_total = IF(@experience_total = '' OR @experience_total IS NULL, 0, @experience_total);\n",
    "\"\"\"\n",
    "\n",
    "mycursor.execute(SQLCMD)"
   ]
  },
  {
   "cell_type": "code",
   "execution_count": null,
   "id": "366c3c6b-0e22-43d6-94a3-a9123548e8a7",
   "metadata": {},
   "outputs": [],
   "source": [
    "mysql_db.commit()"
   ]
  },
  {
   "cell_type": "code",
   "execution_count": null,
   "id": "4c84b407",
   "metadata": {},
   "outputs": [],
   "source": [
    "cmd = \"select count(*) from \\\n",
    "                 teachers.teachers_info\"\n",
    "mycursor.execute(cmd)\n",
    "count = mycursor.fetchone()[0]\n",
    "\n",
    "print(f\"Number of rows in teachers_salaries table : {count}\")"
   ]
  },
  {
   "cell_type": "code",
   "execution_count": null,
   "id": "a9f8d503",
   "metadata": {},
   "outputs": [],
   "source": [
    "cmd = \"\"\"SELECT COUNT(*) \\\n",
    "                FROM INFORMATION_SCHEMA.COLUMNS \\\n",
    "                WHERE table_schema = 'teachers' \\\n",
    "                AND table_name = 'teachers_info'\"\"\"\n",
    "mycursor.execute(cmd)\n",
    "count = mycursor.fetchone()[0]\n",
    "print(f\"Number of columns in teachers_salaries table : {count}\")        "
   ]
  },
  {
   "cell_type": "code",
   "execution_count": null,
   "id": "e6b47ff0",
   "metadata": {},
   "outputs": [],
   "source": []
  },
  {
   "cell_type": "code",
   "execution_count": null,
   "id": "bcf04910",
   "metadata": {},
   "outputs": [],
   "source": [
    "sample_df = pd.read_csv(\"/Users/feliciadogarro/cnf/sample.csv\")"
   ]
  },
  {
   "cell_type": "code",
   "execution_count": null,
   "id": "f9f6892e-a68e-4044-a7c0-6540d176006c",
   "metadata": {},
   "outputs": [],
   "source": [
    "sample_df.head()"
   ]
  },
  {
   "cell_type": "code",
   "execution_count": null,
   "id": "c8692e6a-7f91-462a-8414-010f5310f6bb",
   "metadata": {},
   "outputs": [],
   "source": [
    "sample_df.tail()"
   ]
  },
  {
   "cell_type": "code",
   "execution_count": null,
   "id": "a9ff04ff-0c65-43dc-9714-1bb3cfa48150",
   "metadata": {},
   "outputs": [],
   "source": [
    "sample_df.shape"
   ]
  }
 ],
 "metadata": {
  "kernelspec": {
   "display_name": "Python 3 (ipykernel)",
   "language": "python",
   "name": "python3"
  },
  "language_info": {
   "codemirror_mode": {
    "name": "ipython",
    "version": 3
   },
   "file_extension": ".py",
   "mimetype": "text/x-python",
   "name": "python",
   "nbconvert_exporter": "python",
   "pygments_lexer": "ipython3",
   "version": "3.12.4"
  }
 },
 "nbformat": 4,
 "nbformat_minor": 5
}
